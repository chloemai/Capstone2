{
 "cells": [
  {
   "cell_type": "code",
   "execution_count": 4,
   "metadata": {},
   "outputs": [],
   "source": [
    "# Import Libraries\n",
    "\n",
    "import numpy as np\n",
    "import pandas as pd\n",
    "import datetime as dt\n",
    "import nltk\n",
    "import matplotlib as plt\n",
    "import seaborn as sns\n",
    "import re\n",
    "import contractions\n",
    "from bs4 import BeautifulSoup\n",
    "import tqdm\n",
    "import unicodedata\n",
    "\n",
    "from sklearn.feature_extraction.text import CountVectorizer, TfidfVectorizer"
   ]
  },
  {
   "cell_type": "markdown",
   "metadata": {},
   "source": [
    "Data Wrangling Objectives\n",
    "\n",
    "- Import data as a dataframe\n",
    "- Ensure all columns' dtypes are suitable\n",
    "- Remove null and duplicates rows\n",
    "- Transform columns to prep for analysis "
   ]
  },
  {
   "cell_type": "code",
   "execution_count": 2,
   "metadata": {},
   "outputs": [
    {
     "name": "stdout",
     "output_type": "stream",
     "text": [
      "product/productId: B001E4KFG0\n",
      "review/userId: A3SGXH7AUHU8GW\n",
      "review/profileName: delmartian\n",
      "review/helpfulness: 1/1\n",
      "review/score: 5.0\n",
      "review/time: 1303862400\n",
      "review/summary: Good Quality Dog Food\n",
      "review/text: I have bought several of the Vitality canned dog food products and have found them all to be of good quality. The product looks more like a stew than a processed meat and it smells better. My Labrador is finicky and she appreciates this product better than  most.\n",
      "\n",
      "product/productId: B00813GRG4\n",
      "review/userId: A1D87F6ZCVE5NK\n",
      "review/profileName: dll pa\n",
      "review/helpfulness: 0/0\n",
      "review/score: 1.0\n",
      "review/time: 1346976000\n",
      "review/summary: Not as Advertised\n",
      "review/text: Product arrived labeled as Jumbo Salted Peanuts...the peanuts were actually small sized unsalted. Not sure if this was an error or if the vendor intended to represent the product as \"Jumbo\".\n",
      "\n",
      "product/productId: B000LQOCH0\n",
      "review/userId: ABXLMWJIXXAIN\n",
      "review/profileName: Natalia Corres \"Natalia Corres\"\n",
      "review/helpfulness: 1/1\n",
      "\n"
     ]
    }
   ],
   "source": [
    "# Print sample of raw data\n",
    "\n",
    "text = open('finefoods.txt','r')\n",
    "print(text.read(1000))"
   ]
  },
  {
   "cell_type": "code",
   "execution_count": 74,
   "metadata": {},
   "outputs": [
    {
     "data": {
      "text/html": [
       "<div>\n",
       "<style scoped>\n",
       "    .dataframe tbody tr th:only-of-type {\n",
       "        vertical-align: middle;\n",
       "    }\n",
       "\n",
       "    .dataframe tbody tr th {\n",
       "        vertical-align: top;\n",
       "    }\n",
       "\n",
       "    .dataframe thead th {\n",
       "        text-align: right;\n",
       "    }\n",
       "</style>\n",
       "<table border=\"1\" class=\"dataframe\">\n",
       "  <thead>\n",
       "    <tr style=\"text-align: right;\">\n",
       "      <th></th>\n",
       "      <th>product/productId</th>\n",
       "      <th>review/userId</th>\n",
       "      <th>review/profileName</th>\n",
       "      <th>review/helpfulness</th>\n",
       "      <th>review/score</th>\n",
       "      <th>review/time</th>\n",
       "      <th>review/summary</th>\n",
       "      <th>review/text</th>\n",
       "    </tr>\n",
       "  </thead>\n",
       "  <tbody>\n",
       "    <tr>\n",
       "      <th>0</th>\n",
       "      <td>B001E4KFG0</td>\n",
       "      <td>A3SGXH7AUHU8GW</td>\n",
       "      <td>delmartian</td>\n",
       "      <td>1/1</td>\n",
       "      <td>5.0</td>\n",
       "      <td>1303862400</td>\n",
       "      <td>Good Quality Dog Food</td>\n",
       "      <td>I have bought several of the Vitality canned d...</td>\n",
       "    </tr>\n",
       "    <tr>\n",
       "      <th>1</th>\n",
       "      <td>B00813GRG4</td>\n",
       "      <td>A1D87F6ZCVE5NK</td>\n",
       "      <td>dll pa</td>\n",
       "      <td>0/0</td>\n",
       "      <td>1.0</td>\n",
       "      <td>1346976000</td>\n",
       "      <td>Not as Advertised</td>\n",
       "      <td>Product arrived labeled as Jumbo Salted Peanut...</td>\n",
       "    </tr>\n",
       "    <tr>\n",
       "      <th>2</th>\n",
       "      <td>B000LQOCH0</td>\n",
       "      <td>ABXLMWJIXXAIN</td>\n",
       "      <td>Natalia Corres \"Natalia Corres\"</td>\n",
       "      <td>1/1</td>\n",
       "      <td>4.0</td>\n",
       "      <td>1219017600</td>\n",
       "      <td>\"Delight\" says it all</td>\n",
       "      <td>This is a confection that has been around a fe...</td>\n",
       "    </tr>\n",
       "    <tr>\n",
       "      <th>3</th>\n",
       "      <td>B000UA0QIQ</td>\n",
       "      <td>A395BORC6FGVXV</td>\n",
       "      <td>Karl</td>\n",
       "      <td>3/3</td>\n",
       "      <td>2.0</td>\n",
       "      <td>1307923200</td>\n",
       "      <td>Cough Medicine</td>\n",
       "      <td>If you are looking for the secret ingredient i...</td>\n",
       "    </tr>\n",
       "    <tr>\n",
       "      <th>4</th>\n",
       "      <td>B006K2ZZ7K</td>\n",
       "      <td>A1UQRSCLF8GW1T</td>\n",
       "      <td>Michael D. Bigham \"M. Wassir\"</td>\n",
       "      <td>0/0</td>\n",
       "      <td>5.0</td>\n",
       "      <td>1350777600</td>\n",
       "      <td>Great taffy</td>\n",
       "      <td>Great taffy at a great price.  There was a wid...</td>\n",
       "    </tr>\n",
       "  </tbody>\n",
       "</table>\n",
       "</div>"
      ],
      "text/plain": [
       "  product/productId   review/userId               review/profileName  \\\n",
       "0        B001E4KFG0  A3SGXH7AUHU8GW                       delmartian   \n",
       "1        B00813GRG4  A1D87F6ZCVE5NK                           dll pa   \n",
       "2        B000LQOCH0   ABXLMWJIXXAIN  Natalia Corres \"Natalia Corres\"   \n",
       "3        B000UA0QIQ  A395BORC6FGVXV                             Karl   \n",
       "4        B006K2ZZ7K  A1UQRSCLF8GW1T    Michael D. Bigham \"M. Wassir\"   \n",
       "\n",
       "  review/helpfulness review/score review/time         review/summary  \\\n",
       "0                1/1          5.0  1303862400  Good Quality Dog Food   \n",
       "1                0/0          1.0  1346976000      Not as Advertised   \n",
       "2                1/1          4.0  1219017600  \"Delight\" says it all   \n",
       "3                3/3          2.0  1307923200         Cough Medicine   \n",
       "4                0/0          5.0  1350777600            Great taffy   \n",
       "\n",
       "                                         review/text  \n",
       "0  I have bought several of the Vitality canned d...  \n",
       "1  Product arrived labeled as Jumbo Salted Peanut...  \n",
       "2  This is a confection that has been around a fe...  \n",
       "3  If you are looking for the secret ingredient i...  \n",
       "4  Great taffy at a great price.  There was a wid...  "
      ]
     },
     "execution_count": 74,
     "metadata": {},
     "output_type": "execute_result"
    }
   ],
   "source": [
    "# Import data as a dataframe\n",
    "\n",
    "with open('finefoods.txt','r', encoding='latin-1') as f:\n",
    "    data = f.read()\n",
    "columns_list=['product/productId',\n",
    " 'review/userId',\n",
    " 'review/profileName',\n",
    " 'review/helpfulness',\n",
    " 'review/score',\n",
    " 'review/time',\n",
    " 'review/summary',\n",
    " 'review/text'\n",
    " ]\n",
    "\n",
    "df=pd.DataFrame([\n",
    "    {line.split(': ')[0]:': '.join(line.split(': ')[1:]) \n",
    "     for line in record.split('\\n') if line.split(': ')[0] in columns_list}\n",
    "    for record in data.split('\\n\\n')])\n",
    "#creating a dictionary per line\n",
    "\n",
    "df.head()"
   ]
  },
  {
   "cell_type": "code",
   "execution_count": 75,
   "metadata": {},
   "outputs": [
    {
     "data": {
      "text/html": [
       "<div>\n",
       "<style scoped>\n",
       "    .dataframe tbody tr th:only-of-type {\n",
       "        vertical-align: middle;\n",
       "    }\n",
       "\n",
       "    .dataframe tbody tr th {\n",
       "        vertical-align: top;\n",
       "    }\n",
       "\n",
       "    .dataframe thead th {\n",
       "        text-align: right;\n",
       "    }\n",
       "</style>\n",
       "<table border=\"1\" class=\"dataframe\">\n",
       "  <thead>\n",
       "    <tr style=\"text-align: right;\">\n",
       "      <th></th>\n",
       "      <th>productID</th>\n",
       "      <th>userID</th>\n",
       "      <th>profileName</th>\n",
       "      <th>helpfulness</th>\n",
       "      <th>score</th>\n",
       "      <th>time</th>\n",
       "      <th>summary</th>\n",
       "      <th>text</th>\n",
       "    </tr>\n",
       "  </thead>\n",
       "  <tbody>\n",
       "    <tr>\n",
       "      <th>0</th>\n",
       "      <td>B001E4KFG0</td>\n",
       "      <td>A3SGXH7AUHU8GW</td>\n",
       "      <td>delmartian</td>\n",
       "      <td>1/1</td>\n",
       "      <td>5.0</td>\n",
       "      <td>1303862400</td>\n",
       "      <td>Good Quality Dog Food</td>\n",
       "      <td>I have bought several of the Vitality canned d...</td>\n",
       "    </tr>\n",
       "    <tr>\n",
       "      <th>1</th>\n",
       "      <td>B00813GRG4</td>\n",
       "      <td>A1D87F6ZCVE5NK</td>\n",
       "      <td>dll pa</td>\n",
       "      <td>0/0</td>\n",
       "      <td>1.0</td>\n",
       "      <td>1346976000</td>\n",
       "      <td>Not as Advertised</td>\n",
       "      <td>Product arrived labeled as Jumbo Salted Peanut...</td>\n",
       "    </tr>\n",
       "    <tr>\n",
       "      <th>2</th>\n",
       "      <td>B000LQOCH0</td>\n",
       "      <td>ABXLMWJIXXAIN</td>\n",
       "      <td>Natalia Corres \"Natalia Corres\"</td>\n",
       "      <td>1/1</td>\n",
       "      <td>4.0</td>\n",
       "      <td>1219017600</td>\n",
       "      <td>\"Delight\" says it all</td>\n",
       "      <td>This is a confection that has been around a fe...</td>\n",
       "    </tr>\n",
       "    <tr>\n",
       "      <th>3</th>\n",
       "      <td>B000UA0QIQ</td>\n",
       "      <td>A395BORC6FGVXV</td>\n",
       "      <td>Karl</td>\n",
       "      <td>3/3</td>\n",
       "      <td>2.0</td>\n",
       "      <td>1307923200</td>\n",
       "      <td>Cough Medicine</td>\n",
       "      <td>If you are looking for the secret ingredient i...</td>\n",
       "    </tr>\n",
       "    <tr>\n",
       "      <th>4</th>\n",
       "      <td>B006K2ZZ7K</td>\n",
       "      <td>A1UQRSCLF8GW1T</td>\n",
       "      <td>Michael D. Bigham \"M. Wassir\"</td>\n",
       "      <td>0/0</td>\n",
       "      <td>5.0</td>\n",
       "      <td>1350777600</td>\n",
       "      <td>Great taffy</td>\n",
       "      <td>Great taffy at a great price.  There was a wid...</td>\n",
       "    </tr>\n",
       "  </tbody>\n",
       "</table>\n",
       "</div>"
      ],
      "text/plain": [
       "    productID          userID                      profileName helpfulness  \\\n",
       "0  B001E4KFG0  A3SGXH7AUHU8GW                       delmartian         1/1   \n",
       "1  B00813GRG4  A1D87F6ZCVE5NK                           dll pa         0/0   \n",
       "2  B000LQOCH0   ABXLMWJIXXAIN  Natalia Corres \"Natalia Corres\"         1/1   \n",
       "3  B000UA0QIQ  A395BORC6FGVXV                             Karl         3/3   \n",
       "4  B006K2ZZ7K  A1UQRSCLF8GW1T    Michael D. Bigham \"M. Wassir\"         0/0   \n",
       "\n",
       "  score        time                summary  \\\n",
       "0   5.0  1303862400  Good Quality Dog Food   \n",
       "1   1.0  1346976000      Not as Advertised   \n",
       "2   4.0  1219017600  \"Delight\" says it all   \n",
       "3   2.0  1307923200         Cough Medicine   \n",
       "4   5.0  1350777600            Great taffy   \n",
       "\n",
       "                                                text  \n",
       "0  I have bought several of the Vitality canned d...  \n",
       "1  Product arrived labeled as Jumbo Salted Peanut...  \n",
       "2  This is a confection that has been around a fe...  \n",
       "3  If you are looking for the secret ingredient i...  \n",
       "4  Great taffy at a great price.  There was a wid...  "
      ]
     },
     "execution_count": 75,
     "metadata": {},
     "output_type": "execute_result"
    }
   ],
   "source": [
    "# Rename column names\n",
    "\n",
    "new_col = ['productID', 'userID', 'profileName', 'helpfulness', 'score', 'time', 'summary', 'text']\n",
    "df.rename(columns = dict(zip(columns_list, new_col)), inplace = True)\n",
    "df.head()"
   ]
  },
  {
   "cell_type": "code",
   "execution_count": 76,
   "metadata": {},
   "outputs": [
    {
     "name": "stdout",
     "output_type": "stream",
     "text": [
      "<class 'pandas.core.frame.DataFrame'>\n",
      "RangeIndex: 568455 entries, 0 to 568454\n",
      "Data columns (total 8 columns):\n",
      " #   Column       Non-Null Count   Dtype \n",
      "---  ------       --------------   ----- \n",
      " 0   productID    568454 non-null  object\n",
      " 1   userID       568454 non-null  object\n",
      " 2   profileName  568454 non-null  object\n",
      " 3   helpfulness  568454 non-null  object\n",
      " 4   score        568454 non-null  object\n",
      " 5   time         568454 non-null  object\n",
      " 6   summary      568454 non-null  object\n",
      " 7   text         568454 non-null  object\n",
      "dtypes: object(8)\n",
      "memory usage: 34.7+ MB\n"
     ]
    }
   ],
   "source": [
    "# Check datatypes and null rows\n",
    "\n",
    "df.info()"
   ]
  },
  {
   "cell_type": "code",
   "execution_count": 77,
   "metadata": {},
   "outputs": [
    {
     "name": "stdout",
     "output_type": "stream",
     "text": [
      "<class 'pandas.core.frame.DataFrame'>\n",
      "Int64Index: 568454 entries, 0 to 568453\n",
      "Data columns (total 8 columns):\n",
      " #   Column       Non-Null Count   Dtype \n",
      "---  ------       --------------   ----- \n",
      " 0   productID    568454 non-null  object\n",
      " 1   userID       568454 non-null  object\n",
      " 2   profileName  568454 non-null  object\n",
      " 3   helpfulness  568454 non-null  object\n",
      " 4   score        568454 non-null  object\n",
      " 5   time         568454 non-null  object\n",
      " 6   summary      568454 non-null  object\n",
      " 7   text         568454 non-null  object\n",
      "dtypes: object(8)\n",
      "memory usage: 39.0+ MB\n"
     ]
    }
   ],
   "source": [
    "# Drop null rows\n",
    "\n",
    "df.dropna(inplace = True)\n",
    "df.info()"
   ]
  },
  {
   "cell_type": "code",
   "execution_count": 78,
   "metadata": {},
   "outputs": [
    {
     "data": {
      "text/plain": [
       "0   2011-04-27\n",
       "1   2012-09-07\n",
       "2   2008-08-18\n",
       "3   2011-06-13\n",
       "4   2012-10-21\n",
       "Name: time, dtype: datetime64[ns]"
      ]
     },
     "execution_count": 78,
     "metadata": {},
     "output_type": "execute_result"
    }
   ],
   "source": [
    "# Convert time into datetime\n",
    "\n",
    "df.time = pd.to_datetime(df.time, unit = 's')\n",
    "df.time.head()"
   ]
  },
  {
   "cell_type": "code",
   "execution_count": 79,
   "metadata": {},
   "outputs": [
    {
     "name": "stdout",
     "output_type": "stream",
     "text": [
      "3 3 1.0\n",
      "range(0, 568454)\n"
     ]
    },
    {
     "data": {
      "text/html": [
       "<div>\n",
       "<style scoped>\n",
       "    .dataframe tbody tr th:only-of-type {\n",
       "        vertical-align: middle;\n",
       "    }\n",
       "\n",
       "    .dataframe tbody tr th {\n",
       "        vertical-align: top;\n",
       "    }\n",
       "\n",
       "    .dataframe thead th {\n",
       "        text-align: right;\n",
       "    }\n",
       "</style>\n",
       "<table border=\"1\" class=\"dataframe\">\n",
       "  <thead>\n",
       "    <tr style=\"text-align: right;\">\n",
       "      <th></th>\n",
       "      <th>helpfulness_numerator</th>\n",
       "      <th>helpfulness_denominator</th>\n",
       "      <th>helpfulness_percent</th>\n",
       "    </tr>\n",
       "  </thead>\n",
       "  <tbody>\n",
       "    <tr>\n",
       "      <th>0</th>\n",
       "      <td>1.0</td>\n",
       "      <td>1.0</td>\n",
       "      <td>1.0</td>\n",
       "    </tr>\n",
       "    <tr>\n",
       "      <th>1</th>\n",
       "      <td>0.0</td>\n",
       "      <td>0.0</td>\n",
       "      <td>0.0</td>\n",
       "    </tr>\n",
       "    <tr>\n",
       "      <th>2</th>\n",
       "      <td>1.0</td>\n",
       "      <td>1.0</td>\n",
       "      <td>1.0</td>\n",
       "    </tr>\n",
       "    <tr>\n",
       "      <th>3</th>\n",
       "      <td>3.0</td>\n",
       "      <td>3.0</td>\n",
       "      <td>1.0</td>\n",
       "    </tr>\n",
       "    <tr>\n",
       "      <th>4</th>\n",
       "      <td>0.0</td>\n",
       "      <td>0.0</td>\n",
       "      <td>0.0</td>\n",
       "    </tr>\n",
       "  </tbody>\n",
       "</table>\n",
       "</div>"
      ],
      "text/plain": [
       "   helpfulness_numerator  helpfulness_denominator  helpfulness_percent\n",
       "0                    1.0                      1.0                  1.0\n",
       "1                    0.0                      0.0                  0.0\n",
       "2                    1.0                      1.0                  1.0\n",
       "3                    3.0                      3.0                  1.0\n",
       "4                    0.0                      0.0                  0.0"
      ]
     },
     "execution_count": 79,
     "metadata": {},
     "output_type": "execute_result"
    }
   ],
   "source": [
    "# Convert helpfulness to a percentage\n",
    "\n",
    "numerator = int(df.helpfulness[3].split(sep = '/')[0])\n",
    "denominator = int(df.helpfulness[3].split(sep = '/')[1])\n",
    "perc = numerator/denominator\n",
    "\n",
    "print(numerator, denominator, perc)\n",
    "\n",
    "print(range(len(df.helpfulness)))\n",
    "\n",
    "num_help = []\n",
    "den_help = []\n",
    "perc_help = []\n",
    "\n",
    "for i in range(len(df.helpfulness)-1):\n",
    "    if df.helpfulness[i] != '0/0':\n",
    "        num_help.append(int(df.helpfulness[i].split(sep = '/')[0]))\n",
    "        den_help.append(int(df.helpfulness[i].split(sep = '/')[1]))\n",
    "        perc_help.append(numerator/denominator)\n",
    "    else:\n",
    "        num_help.append(0)\n",
    "        den_help.append(0)\n",
    "        perc_help.append(0)\n",
    "                        \n",
    "helpfulness = pd.DataFrame([num_help, den_help, perc_help]).transpose()\n",
    "helpfulness.columns = ['helpfulness_numerator','helpfulness_denominator', 'helpfulness_percent']\n",
    "helpfulness.head()"
   ]
  },
  {
   "cell_type": "code",
   "execution_count": 80,
   "metadata": {},
   "outputs": [
    {
     "data": {
      "text/plain": [
       "count    568453.000000\n",
       "mean          0.524937\n",
       "std           0.499378\n",
       "min           0.000000\n",
       "25%           0.000000\n",
       "50%           1.000000\n",
       "75%           1.000000\n",
       "max           1.000000\n",
       "Name: helpfulness_percent, dtype: float64"
      ]
     },
     "execution_count": 80,
     "metadata": {},
     "output_type": "execute_result"
    }
   ],
   "source": [
    "# Explore helpfulness data\n",
    "\n",
    "helpfulness.helpfulness_percent.describe()"
   ]
  },
  {
   "cell_type": "code",
   "execution_count": 81,
   "metadata": {},
   "outputs": [
    {
     "data": {
      "text/html": [
       "<div>\n",
       "<style scoped>\n",
       "    .dataframe tbody tr th:only-of-type {\n",
       "        vertical-align: middle;\n",
       "    }\n",
       "\n",
       "    .dataframe tbody tr th {\n",
       "        vertical-align: top;\n",
       "    }\n",
       "\n",
       "    .dataframe thead th {\n",
       "        text-align: right;\n",
       "    }\n",
       "</style>\n",
       "<table border=\"1\" class=\"dataframe\">\n",
       "  <thead>\n",
       "    <tr style=\"text-align: right;\">\n",
       "      <th></th>\n",
       "      <th>productID</th>\n",
       "      <th>userID</th>\n",
       "      <th>profileName</th>\n",
       "      <th>helpfulness</th>\n",
       "      <th>score</th>\n",
       "      <th>time</th>\n",
       "      <th>summary</th>\n",
       "      <th>text</th>\n",
       "      <th>helpfulness_numerator</th>\n",
       "      <th>helpfulness_denominator</th>\n",
       "      <th>helpfulness_percent</th>\n",
       "    </tr>\n",
       "  </thead>\n",
       "  <tbody>\n",
       "    <tr>\n",
       "      <th>0</th>\n",
       "      <td>B001E4KFG0</td>\n",
       "      <td>A3SGXH7AUHU8GW</td>\n",
       "      <td>delmartian</td>\n",
       "      <td>1/1</td>\n",
       "      <td>5.0</td>\n",
       "      <td>2011-04-27</td>\n",
       "      <td>Good Quality Dog Food</td>\n",
       "      <td>I have bought several of the Vitality canned d...</td>\n",
       "      <td>1.0</td>\n",
       "      <td>1.0</td>\n",
       "      <td>1.0</td>\n",
       "    </tr>\n",
       "    <tr>\n",
       "      <th>1</th>\n",
       "      <td>B00813GRG4</td>\n",
       "      <td>A1D87F6ZCVE5NK</td>\n",
       "      <td>dll pa</td>\n",
       "      <td>0/0</td>\n",
       "      <td>1.0</td>\n",
       "      <td>2012-09-07</td>\n",
       "      <td>Not as Advertised</td>\n",
       "      <td>Product arrived labeled as Jumbo Salted Peanut...</td>\n",
       "      <td>0.0</td>\n",
       "      <td>0.0</td>\n",
       "      <td>0.0</td>\n",
       "    </tr>\n",
       "    <tr>\n",
       "      <th>2</th>\n",
       "      <td>B000LQOCH0</td>\n",
       "      <td>ABXLMWJIXXAIN</td>\n",
       "      <td>Natalia Corres \"Natalia Corres\"</td>\n",
       "      <td>1/1</td>\n",
       "      <td>4.0</td>\n",
       "      <td>2008-08-18</td>\n",
       "      <td>\"Delight\" says it all</td>\n",
       "      <td>This is a confection that has been around a fe...</td>\n",
       "      <td>1.0</td>\n",
       "      <td>1.0</td>\n",
       "      <td>1.0</td>\n",
       "    </tr>\n",
       "    <tr>\n",
       "      <th>3</th>\n",
       "      <td>B000UA0QIQ</td>\n",
       "      <td>A395BORC6FGVXV</td>\n",
       "      <td>Karl</td>\n",
       "      <td>3/3</td>\n",
       "      <td>2.0</td>\n",
       "      <td>2011-06-13</td>\n",
       "      <td>Cough Medicine</td>\n",
       "      <td>If you are looking for the secret ingredient i...</td>\n",
       "      <td>3.0</td>\n",
       "      <td>3.0</td>\n",
       "      <td>1.0</td>\n",
       "    </tr>\n",
       "    <tr>\n",
       "      <th>4</th>\n",
       "      <td>B006K2ZZ7K</td>\n",
       "      <td>A1UQRSCLF8GW1T</td>\n",
       "      <td>Michael D. Bigham \"M. Wassir\"</td>\n",
       "      <td>0/0</td>\n",
       "      <td>5.0</td>\n",
       "      <td>2012-10-21</td>\n",
       "      <td>Great taffy</td>\n",
       "      <td>Great taffy at a great price.  There was a wid...</td>\n",
       "      <td>0.0</td>\n",
       "      <td>0.0</td>\n",
       "      <td>0.0</td>\n",
       "    </tr>\n",
       "  </tbody>\n",
       "</table>\n",
       "</div>"
      ],
      "text/plain": [
       "    productID          userID                      profileName helpfulness  \\\n",
       "0  B001E4KFG0  A3SGXH7AUHU8GW                       delmartian         1/1   \n",
       "1  B00813GRG4  A1D87F6ZCVE5NK                           dll pa         0/0   \n",
       "2  B000LQOCH0   ABXLMWJIXXAIN  Natalia Corres \"Natalia Corres\"         1/1   \n",
       "3  B000UA0QIQ  A395BORC6FGVXV                             Karl         3/3   \n",
       "4  B006K2ZZ7K  A1UQRSCLF8GW1T    Michael D. Bigham \"M. Wassir\"         0/0   \n",
       "\n",
       "  score       time                summary  \\\n",
       "0   5.0 2011-04-27  Good Quality Dog Food   \n",
       "1   1.0 2012-09-07      Not as Advertised   \n",
       "2   4.0 2008-08-18  \"Delight\" says it all   \n",
       "3   2.0 2011-06-13         Cough Medicine   \n",
       "4   5.0 2012-10-21            Great taffy   \n",
       "\n",
       "                                                text  helpfulness_numerator  \\\n",
       "0  I have bought several of the Vitality canned d...                    1.0   \n",
       "1  Product arrived labeled as Jumbo Salted Peanut...                    0.0   \n",
       "2  This is a confection that has been around a fe...                    1.0   \n",
       "3  If you are looking for the secret ingredient i...                    3.0   \n",
       "4  Great taffy at a great price.  There was a wid...                    0.0   \n",
       "\n",
       "   helpfulness_denominator  helpfulness_percent  \n",
       "0                      1.0                  1.0  \n",
       "1                      0.0                  0.0  \n",
       "2                      1.0                  1.0  \n",
       "3                      3.0                  1.0  \n",
       "4                      0.0                  0.0  "
      ]
     },
     "execution_count": 81,
     "metadata": {},
     "output_type": "execute_result"
    }
   ],
   "source": [
    "# Join helpfulness components with original df\n",
    "\n",
    "df = df.join(helpfulness)\n",
    "df.head()"
   ]
  },
  {
   "cell_type": "code",
   "execution_count": 82,
   "metadata": {},
   "outputs": [
    {
     "name": "stdout",
     "output_type": "stream",
     "text": [
      "<class 'pandas.core.frame.DataFrame'>\n",
      "Int64Index: 568454 entries, 0 to 568453\n",
      "Data columns (total 11 columns):\n",
      " #   Column                   Non-Null Count   Dtype         \n",
      "---  ------                   --------------   -----         \n",
      " 0   productID                568454 non-null  object        \n",
      " 1   userID                   568454 non-null  object        \n",
      " 2   profileName              568454 non-null  object        \n",
      " 3   helpfulness              568454 non-null  object        \n",
      " 4   score                    568454 non-null  float64       \n",
      " 5   time                     568454 non-null  datetime64[ns]\n",
      " 6   summary                  568454 non-null  object        \n",
      " 7   text                     568454 non-null  object        \n",
      " 8   helpfulness_numerator    568453 non-null  float64       \n",
      " 9   helpfulness_denominator  568453 non-null  float64       \n",
      " 10  helpfulness_percent      568453 non-null  float64       \n",
      "dtypes: datetime64[ns](1), float64(4), object(6)\n",
      "memory usage: 72.0+ MB\n"
     ]
    }
   ],
   "source": [
    "# Convert dtypes of remaining columns\n",
    "\n",
    "# String columns\n",
    "\n",
    "df['productID'] = df['productID'].astype(str)\n",
    "df['userID'] = df['userID'].astype(str)\n",
    "df['profileName'] = df['profileName'].astype(str)\n",
    "df['summary'] = df['summary'].astype(str)\n",
    "df['text'] = df['text'].astype(str)\n",
    "\n",
    "# Float columns\n",
    "df['score'] = df['score'].astype(float)\n",
    "\n",
    "df.info()"
   ]
  },
  {
   "cell_type": "code",
   "execution_count": 83,
   "metadata": {},
   "outputs": [
    {
     "data": {
      "text/html": [
       "<div>\n",
       "<style scoped>\n",
       "    .dataframe tbody tr th:only-of-type {\n",
       "        vertical-align: middle;\n",
       "    }\n",
       "\n",
       "    .dataframe tbody tr th {\n",
       "        vertical-align: top;\n",
       "    }\n",
       "\n",
       "    .dataframe thead th {\n",
       "        text-align: right;\n",
       "    }\n",
       "</style>\n",
       "<table border=\"1\" class=\"dataframe\">\n",
       "  <thead>\n",
       "    <tr style=\"text-align: right;\">\n",
       "      <th></th>\n",
       "      <th>productID</th>\n",
       "      <th>userID</th>\n",
       "      <th>profileName</th>\n",
       "      <th>helpfulness</th>\n",
       "      <th>score</th>\n",
       "      <th>time</th>\n",
       "      <th>summary</th>\n",
       "      <th>text</th>\n",
       "      <th>helpfulness_numerator</th>\n",
       "      <th>helpfulness_denominator</th>\n",
       "      <th>helpfulness_percent</th>\n",
       "      <th>review</th>\n",
       "    </tr>\n",
       "  </thead>\n",
       "  <tbody>\n",
       "    <tr>\n",
       "      <th>0</th>\n",
       "      <td>B001E4KFG0</td>\n",
       "      <td>A3SGXH7AUHU8GW</td>\n",
       "      <td>delmartian</td>\n",
       "      <td>1/1</td>\n",
       "      <td>5.0</td>\n",
       "      <td>2011-04-27</td>\n",
       "      <td>Good Quality Dog Food</td>\n",
       "      <td>I have bought several of the Vitality canned d...</td>\n",
       "      <td>1.0</td>\n",
       "      <td>1.0</td>\n",
       "      <td>1.0</td>\n",
       "      <td>Good Quality Dog Food I have bought several of...</td>\n",
       "    </tr>\n",
       "    <tr>\n",
       "      <th>1</th>\n",
       "      <td>B00813GRG4</td>\n",
       "      <td>A1D87F6ZCVE5NK</td>\n",
       "      <td>dll pa</td>\n",
       "      <td>0/0</td>\n",
       "      <td>1.0</td>\n",
       "      <td>2012-09-07</td>\n",
       "      <td>Not as Advertised</td>\n",
       "      <td>Product arrived labeled as Jumbo Salted Peanut...</td>\n",
       "      <td>0.0</td>\n",
       "      <td>0.0</td>\n",
       "      <td>0.0</td>\n",
       "      <td>Not as Advertised Product arrived labeled as J...</td>\n",
       "    </tr>\n",
       "    <tr>\n",
       "      <th>2</th>\n",
       "      <td>B000LQOCH0</td>\n",
       "      <td>ABXLMWJIXXAIN</td>\n",
       "      <td>Natalia Corres \"Natalia Corres\"</td>\n",
       "      <td>1/1</td>\n",
       "      <td>4.0</td>\n",
       "      <td>2008-08-18</td>\n",
       "      <td>\"Delight\" says it all</td>\n",
       "      <td>This is a confection that has been around a fe...</td>\n",
       "      <td>1.0</td>\n",
       "      <td>1.0</td>\n",
       "      <td>1.0</td>\n",
       "      <td>\"Delight\" says it all This is a confection tha...</td>\n",
       "    </tr>\n",
       "    <tr>\n",
       "      <th>3</th>\n",
       "      <td>B000UA0QIQ</td>\n",
       "      <td>A395BORC6FGVXV</td>\n",
       "      <td>Karl</td>\n",
       "      <td>3/3</td>\n",
       "      <td>2.0</td>\n",
       "      <td>2011-06-13</td>\n",
       "      <td>Cough Medicine</td>\n",
       "      <td>If you are looking for the secret ingredient i...</td>\n",
       "      <td>3.0</td>\n",
       "      <td>3.0</td>\n",
       "      <td>1.0</td>\n",
       "      <td>Cough Medicine If you are looking for the secr...</td>\n",
       "    </tr>\n",
       "    <tr>\n",
       "      <th>4</th>\n",
       "      <td>B006K2ZZ7K</td>\n",
       "      <td>A1UQRSCLF8GW1T</td>\n",
       "      <td>Michael D. Bigham \"M. Wassir\"</td>\n",
       "      <td>0/0</td>\n",
       "      <td>5.0</td>\n",
       "      <td>2012-10-21</td>\n",
       "      <td>Great taffy</td>\n",
       "      <td>Great taffy at a great price.  There was a wid...</td>\n",
       "      <td>0.0</td>\n",
       "      <td>0.0</td>\n",
       "      <td>0.0</td>\n",
       "      <td>Great taffy Great taffy at a great price.  The...</td>\n",
       "    </tr>\n",
       "  </tbody>\n",
       "</table>\n",
       "</div>"
      ],
      "text/plain": [
       "    productID          userID                      profileName helpfulness  \\\n",
       "0  B001E4KFG0  A3SGXH7AUHU8GW                       delmartian         1/1   \n",
       "1  B00813GRG4  A1D87F6ZCVE5NK                           dll pa         0/0   \n",
       "2  B000LQOCH0   ABXLMWJIXXAIN  Natalia Corres \"Natalia Corres\"         1/1   \n",
       "3  B000UA0QIQ  A395BORC6FGVXV                             Karl         3/3   \n",
       "4  B006K2ZZ7K  A1UQRSCLF8GW1T    Michael D. Bigham \"M. Wassir\"         0/0   \n",
       "\n",
       "   score       time                summary  \\\n",
       "0    5.0 2011-04-27  Good Quality Dog Food   \n",
       "1    1.0 2012-09-07      Not as Advertised   \n",
       "2    4.0 2008-08-18  \"Delight\" says it all   \n",
       "3    2.0 2011-06-13         Cough Medicine   \n",
       "4    5.0 2012-10-21            Great taffy   \n",
       "\n",
       "                                                text  helpfulness_numerator  \\\n",
       "0  I have bought several of the Vitality canned d...                    1.0   \n",
       "1  Product arrived labeled as Jumbo Salted Peanut...                    0.0   \n",
       "2  This is a confection that has been around a fe...                    1.0   \n",
       "3  If you are looking for the secret ingredient i...                    3.0   \n",
       "4  Great taffy at a great price.  There was a wid...                    0.0   \n",
       "\n",
       "   helpfulness_denominator  helpfulness_percent  \\\n",
       "0                      1.0                  1.0   \n",
       "1                      0.0                  0.0   \n",
       "2                      1.0                  1.0   \n",
       "3                      3.0                  1.0   \n",
       "4                      0.0                  0.0   \n",
       "\n",
       "                                              review  \n",
       "0  Good Quality Dog Food I have bought several of...  \n",
       "1  Not as Advertised Product arrived labeled as J...  \n",
       "2  \"Delight\" says it all This is a confection tha...  \n",
       "3  Cough Medicine If you are looking for the secr...  \n",
       "4  Great taffy Great taffy at a great price.  The...  "
      ]
     },
     "execution_count": 83,
     "metadata": {},
     "output_type": "execute_result"
    }
   ],
   "source": [
    "# Concat summary and text data into one column\n",
    "\n",
    "df['review'] = df['summary'] + ' ' + df['text']\n",
    "df.head()"
   ]
  },
  {
   "cell_type": "code",
   "execution_count": 84,
   "metadata": {},
   "outputs": [
    {
     "name": "stdout",
     "output_type": "stream",
     "text": [
      "(281, 12)\n"
     ]
    },
    {
     "data": {
      "text/html": [
       "<div>\n",
       "<style scoped>\n",
       "    .dataframe tbody tr th:only-of-type {\n",
       "        vertical-align: middle;\n",
       "    }\n",
       "\n",
       "    .dataframe tbody tr th {\n",
       "        vertical-align: top;\n",
       "    }\n",
       "\n",
       "    .dataframe thead th {\n",
       "        text-align: right;\n",
       "    }\n",
       "</style>\n",
       "<table border=\"1\" class=\"dataframe\">\n",
       "  <thead>\n",
       "    <tr style=\"text-align: right;\">\n",
       "      <th></th>\n",
       "      <th>productID</th>\n",
       "      <th>userID</th>\n",
       "      <th>profileName</th>\n",
       "      <th>helpfulness</th>\n",
       "      <th>score</th>\n",
       "      <th>time</th>\n",
       "      <th>summary</th>\n",
       "      <th>text</th>\n",
       "      <th>helpfulness_numerator</th>\n",
       "      <th>helpfulness_denominator</th>\n",
       "      <th>helpfulness_percent</th>\n",
       "      <th>review</th>\n",
       "    </tr>\n",
       "  </thead>\n",
       "  <tbody>\n",
       "    <tr>\n",
       "      <th>0</th>\n",
       "      <td>B001E4KFG0</td>\n",
       "      <td>A3SGXH7AUHU8GW</td>\n",
       "      <td>delmartian</td>\n",
       "      <td>1/1</td>\n",
       "      <td>5.0</td>\n",
       "      <td>2011-04-27</td>\n",
       "      <td>Good Quality Dog Food</td>\n",
       "      <td>I have bought several of the Vitality canned d...</td>\n",
       "      <td>1.0</td>\n",
       "      <td>1.0</td>\n",
       "      <td>1.0</td>\n",
       "      <td>Good Quality Dog Food I have bought several of...</td>\n",
       "    </tr>\n",
       "    <tr>\n",
       "      <th>1</th>\n",
       "      <td>B00813GRG4</td>\n",
       "      <td>A1D87F6ZCVE5NK</td>\n",
       "      <td>dll pa</td>\n",
       "      <td>0/0</td>\n",
       "      <td>1.0</td>\n",
       "      <td>2012-09-07</td>\n",
       "      <td>Not as Advertised</td>\n",
       "      <td>Product arrived labeled as Jumbo Salted Peanut...</td>\n",
       "      <td>0.0</td>\n",
       "      <td>0.0</td>\n",
       "      <td>0.0</td>\n",
       "      <td>Not as Advertised Product arrived labeled as J...</td>\n",
       "    </tr>\n",
       "    <tr>\n",
       "      <th>2</th>\n",
       "      <td>B000LQOCH0</td>\n",
       "      <td>ABXLMWJIXXAIN</td>\n",
       "      <td>Natalia Corres \"Natalia Corres\"</td>\n",
       "      <td>1/1</td>\n",
       "      <td>4.0</td>\n",
       "      <td>2008-08-18</td>\n",
       "      <td>\"Delight\" says it all</td>\n",
       "      <td>This is a confection that has been around a fe...</td>\n",
       "      <td>1.0</td>\n",
       "      <td>1.0</td>\n",
       "      <td>1.0</td>\n",
       "      <td>\"Delight\" says it all This is a confection tha...</td>\n",
       "    </tr>\n",
       "    <tr>\n",
       "      <th>3</th>\n",
       "      <td>B000UA0QIQ</td>\n",
       "      <td>A395BORC6FGVXV</td>\n",
       "      <td>Karl</td>\n",
       "      <td>3/3</td>\n",
       "      <td>2.0</td>\n",
       "      <td>2011-06-13</td>\n",
       "      <td>Cough Medicine</td>\n",
       "      <td>If you are looking for the secret ingredient i...</td>\n",
       "      <td>3.0</td>\n",
       "      <td>3.0</td>\n",
       "      <td>1.0</td>\n",
       "      <td>Cough Medicine If you are looking for the secr...</td>\n",
       "    </tr>\n",
       "    <tr>\n",
       "      <th>4</th>\n",
       "      <td>B006K2ZZ7K</td>\n",
       "      <td>A1UQRSCLF8GW1T</td>\n",
       "      <td>Michael D. Bigham \"M. Wassir\"</td>\n",
       "      <td>0/0</td>\n",
       "      <td>5.0</td>\n",
       "      <td>2012-10-21</td>\n",
       "      <td>Great taffy</td>\n",
       "      <td>Great taffy at a great price.  There was a wid...</td>\n",
       "      <td>0.0</td>\n",
       "      <td>0.0</td>\n",
       "      <td>0.0</td>\n",
       "      <td>Great taffy Great taffy at a great price.  The...</td>\n",
       "    </tr>\n",
       "  </tbody>\n",
       "</table>\n",
       "</div>"
      ],
      "text/plain": [
       "    productID          userID                      profileName helpfulness  \\\n",
       "0  B001E4KFG0  A3SGXH7AUHU8GW                       delmartian         1/1   \n",
       "1  B00813GRG4  A1D87F6ZCVE5NK                           dll pa         0/0   \n",
       "2  B000LQOCH0   ABXLMWJIXXAIN  Natalia Corres \"Natalia Corres\"         1/1   \n",
       "3  B000UA0QIQ  A395BORC6FGVXV                             Karl         3/3   \n",
       "4  B006K2ZZ7K  A1UQRSCLF8GW1T    Michael D. Bigham \"M. Wassir\"         0/0   \n",
       "\n",
       "   score       time                summary  \\\n",
       "0    5.0 2011-04-27  Good Quality Dog Food   \n",
       "1    1.0 2012-09-07      Not as Advertised   \n",
       "2    4.0 2008-08-18  \"Delight\" says it all   \n",
       "3    2.0 2011-06-13         Cough Medicine   \n",
       "4    5.0 2012-10-21            Great taffy   \n",
       "\n",
       "                                                text  helpfulness_numerator  \\\n",
       "0  I have bought several of the Vitality canned d...                    1.0   \n",
       "1  Product arrived labeled as Jumbo Salted Peanut...                    0.0   \n",
       "2  This is a confection that has been around a fe...                    1.0   \n",
       "3  If you are looking for the secret ingredient i...                    3.0   \n",
       "4  Great taffy at a great price.  There was a wid...                    0.0   \n",
       "\n",
       "   helpfulness_denominator  helpfulness_percent  \\\n",
       "0                      1.0                  1.0   \n",
       "1                      0.0                  0.0   \n",
       "2                      1.0                  1.0   \n",
       "3                      3.0                  1.0   \n",
       "4                      0.0                  0.0   \n",
       "\n",
       "                                              review  \n",
       "0  Good Quality Dog Food I have bought several of...  \n",
       "1  Not as Advertised Product arrived labeled as J...  \n",
       "2  \"Delight\" says it all This is a confection tha...  \n",
       "3  Cough Medicine If you are looking for the secr...  \n",
       "4  Great taffy Great taffy at a great price.  The...  "
      ]
     },
     "execution_count": 84,
     "metadata": {},
     "output_type": "execute_result"
    }
   ],
   "source": [
    "# Find duplicated rows\n",
    "duplicatedRows = df[df.duplicated(keep = 'first')]\n",
    "print(duplicatedRows.shape)\n",
    "\n",
    "# Drop duplicate rows\n",
    "df = df.drop_duplicates()\n",
    "df.head()"
   ]
  },
  {
   "cell_type": "markdown",
   "metadata": {},
   "source": [
    "Learnings from Data Wrangling\n",
    "\n",
    "- Columns containing strings are still objects\n",
    "- Helpfulness seem to be a tally of votes who think the score is helpful because helpfulness_percent is only 0 or 1"
   ]
  },
  {
   "cell_type": "markdown",
   "metadata": {},
   "source": [
    "Exploratory Data Analysis (EDA) Objectives\n",
    "\n",
    "- Explore numerical and categorical data\n",
    "- Check for trend between score vs time or helpfulness"
   ]
  },
  {
   "cell_type": "code",
   "execution_count": 14,
   "metadata": {},
   "outputs": [
    {
     "data": {
      "text/plain": [
       "<AxesSubplot:xlabel='score', ylabel='Count'>"
      ]
     },
     "execution_count": 14,
     "metadata": {},
     "output_type": "execute_result"
    },
    {
     "data": {
      "image/png": "[encoded data removed]",
      "text/plain": [
       "<Figure size 432x288 with 1 Axes>"
      ]
     },
     "metadata": {
      "needs_background": "light"
     },
     "output_type": "display_data"
    }
   ],
   "source": [
    "# Explore data - score\n",
    "\n",
    "sns.histplot(df['score'])"
   ]
  },
  {
   "cell_type": "code",
   "execution_count": 15,
   "metadata": {},
   "outputs": [
    {
     "data": {
      "text/plain": [
       "<AxesSubplot:xlabel='helpfulness_percent', ylabel='Count'>"
      ]
     },
     "execution_count": 15,
     "metadata": {},
     "output_type": "execute_result"
    },
    {
     "data": {
      "image/png": "[encoded data removed]",
      "text/plain": [
       "<Figure size 432x288 with 1 Axes>"
      ]
     },
     "metadata": {
      "needs_background": "light"
     },
     "output_type": "display_data"
    }
   ],
   "source": [
    "# Explore data - helpfulness\n",
    "\n",
    "sns.histplot(df['helpfulness_percent'])"
   ]
  },
  {
   "cell_type": "code",
   "execution_count": 16,
   "metadata": {},
   "outputs": [
    {
     "data": {
      "text/plain": [
       "<seaborn.axisgrid.PairGrid at 0x16963c6d0>"
      ]
     },
     "execution_count": 16,
     "metadata": {},
     "output_type": "execute_result"
    },
    {
     "data": {
      "image/png": "[encoded data removed]",
      "text/plain": [
       "<Figure size 720x720 with 20 Axes>"
      ]
     },
     "metadata": {
      "needs_background": "light"
     },
     "output_type": "display_data"
    }
   ],
   "source": [
    "# Explore data - pairplot\n",
    "\n",
    "sns.pairplot(df)"
   ]
  },
  {
   "cell_type": "code",
   "execution_count": 17,
   "metadata": {},
   "outputs": [
    {
     "data": {
      "text/plain": [
       "<seaborn.axisgrid.PairGrid at 0x18d4b8e20>"
      ]
     },
     "execution_count": 17,
     "metadata": {},
     "output_type": "execute_result"
    },
    {
     "data": {
      "image/png": "[encoded data removed]",
      "text/plain": [
       "<Figure size 592x540 with 12 Axes>"
      ]
     },
     "metadata": {
      "needs_background": "light"
     },
     "output_type": "display_data"
    }
   ],
   "source": [
    "# Explore data - helpfulness by score\n",
    "\n",
    "sns.pairplot(df, hue = 'score')"
   ]
  },
  {
   "cell_type": "code",
   "execution_count": 18,
   "metadata": {},
   "outputs": [
    {
     "data": {
      "text/plain": [
       "<AxesSubplot:xlabel='score', ylabel='count'>"
      ]
     },
     "execution_count": 18,
     "metadata": {},
     "output_type": "execute_result"
    },
    {
     "data": {
      "image/png": "[encoded data removed]",
      "text/plain": [
       "<Figure size 432x288 with 1 Axes>"
      ]
     },
     "metadata": {
      "needs_background": "light"
     },
     "output_type": "display_data"
    }
   ],
   "source": [
    "# Count of reviews that had vs not have helpfulness\n",
    "\n",
    "sns.countplot(data = df, x = 'score', hue = 'helpfulness_percent')"
   ]
  },
  {
   "cell_type": "code",
   "execution_count": 19,
   "metadata": {},
   "outputs": [
    {
     "name": "stdout",
     "output_type": "stream",
     "text": [
      "0.0      269849\n",
      "1.0      112732\n",
      "2.0       61465\n",
      "3.0       34370\n",
      "4.0       22306\n",
      "          ...  \n",
      "181.0         1\n",
      "238.0         1\n",
      "384.0         1\n",
      "185.0         1\n",
      "195.0         1\n",
      "Name: helpfulness_denominator, Length: 234, dtype: int64\n"
     ]
    },
    {
     "data": {
      "text/plain": [
       "[(0.0, 10.0)]"
      ]
     },
     "execution_count": 19,
     "metadata": {},
     "output_type": "execute_result"
    },
    {
     "data": {
      "image/png": "[encoded data removed]",
      "text/plain": [
       "<Figure size 432x288 with 1 Axes>"
      ]
     },
     "metadata": {
      "needs_background": "light"
     },
     "output_type": "display_data"
    }
   ],
   "source": [
    "# Explore data - helpfulness count = numerator or denominator\n",
    "print(df['helpfulness_denominator'].value_counts())\n",
    "hd = sns.histplot(df['helpfulness_denominator'])\n",
    "hd.set(xlim = (0,10))"
   ]
  },
  {
   "cell_type": "code",
   "execution_count": 20,
   "metadata": {},
   "outputs": [
    {
     "data": {
      "text/plain": [
       "[(0.0, 6.0)]"
      ]
     },
     "execution_count": 20,
     "metadata": {},
     "output_type": "execute_result"
    },
    {
     "data": {
      "image/png": "[encoded data removed]",
      "text/plain": [
       "<Figure size 432x288 with 1 Axes>"
      ]
     },
     "metadata": {
      "needs_background": "light"
     },
     "output_type": "display_data"
    }
   ],
   "source": [
    "# Checking number of helpfulness votes by score\n",
    "\n",
    "hs = sns.countplot(data = df[df.score < 5], x = 'helpfulness_denominator', hue = 'score')\n",
    "hs.set(xlim = (0, 6))"
   ]
  },
  {
   "cell_type": "code",
   "execution_count": 22,
   "metadata": {},
   "outputs": [
    {
     "data": {
      "text/plain": [
       "[(0.0, 30.0)]"
      ]
     },
     "execution_count": 22,
     "metadata": {},
     "output_type": "execute_result"
    },
    {
     "data": {
      "image/png": "[encoded data removed]",
      "text/plain": [
       "<Figure size 432x288 with 1 Axes>"
      ]
     },
     "metadata": {
      "needs_background": "light"
     },
     "output_type": "display_data"
    }
   ],
   "source": [
    "# Verifying helpfulness spread via violin plot\n",
    "df['year'] = df['time'].dt.year\n",
    "df.year.head()\n",
    "hs = sns.violinplot(data = df[df.year > 2005], x = 'score', y = 'helpfulness_denominator')\n",
    "hs.set(ylim = (0,30))"
   ]
  },
  {
   "cell_type": "code",
   "execution_count": 23,
   "metadata": {},
   "outputs": [
    {
     "data": {
      "image/png": "[encoded data removed]",
      "text/plain": [
       "<Figure size 432x288 with 1 Axes>"
      ]
     },
     "metadata": {
      "needs_background": "light"
     },
     "output_type": "display_data"
    }
   ],
   "source": [
    "# Explore data - time vs score\n",
    "\n",
    "tplot = sns.scatterplot(data = df, x = 'time', y = 'score')"
   ]
  },
  {
   "cell_type": "code",
   "execution_count": 24,
   "metadata": {},
   "outputs": [
    {
     "data": {
      "text/plain": [
       "<AxesSubplot:xlabel='year', ylabel='count'>"
      ]
     },
     "execution_count": 24,
     "metadata": {},
     "output_type": "execute_result"
    },
    {
     "data": {
      "image/png": "[encoded data removed]",
      "text/plain": [
       "<Figure size 432x288 with 1 Axes>"
      ]
     },
     "metadata": {
      "needs_background": "light"
     },
     "output_type": "display_data"
    }
   ],
   "source": [
    "sns.countplot(data = df[df.year > 2005], x = 'year', hue = 'score')"
   ]
  },
  {
   "cell_type": "code",
   "execution_count": 25,
   "metadata": {},
   "outputs": [
    {
     "name": "stdout",
     "output_type": "stream",
     "text": [
      "(568173, 13) (74258,) (256059,)\n"
     ]
    }
   ],
   "source": [
    "print(df.shape,\n",
    "df.productID.unique().shape,\n",
    "df.userID.unique().shape)"
   ]
  },
  {
   "cell_type": "code",
   "execution_count": 29,
   "metadata": {},
   "outputs": [
    {
     "data": {
      "text/html": [
       "<div>\n",
       "<style scoped>\n",
       "    .dataframe tbody tr th:only-of-type {\n",
       "        vertical-align: middle;\n",
       "    }\n",
       "\n",
       "    .dataframe tbody tr th {\n",
       "        vertical-align: top;\n",
       "    }\n",
       "\n",
       "    .dataframe thead th {\n",
       "        text-align: right;\n",
       "    }\n",
       "</style>\n",
       "<table border=\"1\" class=\"dataframe\">\n",
       "  <thead>\n",
       "    <tr style=\"text-align: right;\">\n",
       "      <th></th>\n",
       "      <th>review</th>\n",
       "    </tr>\n",
       "    <tr>\n",
       "      <th>productID</th>\n",
       "      <th></th>\n",
       "    </tr>\n",
       "  </thead>\n",
       "  <tbody>\n",
       "    <tr>\n",
       "      <th>B007JFMH8M</th>\n",
       "      <td>913</td>\n",
       "    </tr>\n",
       "    <tr>\n",
       "      <th>B0026RQTGE</th>\n",
       "      <td>631</td>\n",
       "    </tr>\n",
       "    <tr>\n",
       "      <th>B002QWHJOU</th>\n",
       "      <td>631</td>\n",
       "    </tr>\n",
       "    <tr>\n",
       "      <th>B002QWP8H0</th>\n",
       "      <td>631</td>\n",
       "    </tr>\n",
       "    <tr>\n",
       "      <th>B002QWP89S</th>\n",
       "      <td>631</td>\n",
       "    </tr>\n",
       "  </tbody>\n",
       "</table>\n",
       "</div>"
      ],
      "text/plain": [
       "            review\n",
       "productID         \n",
       "B007JFMH8M     913\n",
       "B0026RQTGE     631\n",
       "B002QWHJOU     631\n",
       "B002QWP8H0     631\n",
       "B002QWP89S     631"
      ]
     },
     "execution_count": 29,
     "metadata": {},
     "output_type": "execute_result"
    }
   ],
   "source": [
    "pivot_product = pd.pivot_table(data = df, index = 'productID', values = 'review', aggfunc = lambda x: len(x.unique()))\n",
    "pivot_product.sort_values(by = ['review'], ascending = False).head()"
   ]
  },
  {
   "cell_type": "code",
   "execution_count": 31,
   "metadata": {},
   "outputs": [
    {
     "data": {
      "text/html": [
       "<div>\n",
       "<style scoped>\n",
       "    .dataframe tbody tr th:only-of-type {\n",
       "        vertical-align: middle;\n",
       "    }\n",
       "\n",
       "    .dataframe tbody tr th {\n",
       "        vertical-align: top;\n",
       "    }\n",
       "\n",
       "    .dataframe thead th {\n",
       "        text-align: right;\n",
       "    }\n",
       "</style>\n",
       "<table border=\"1\" class=\"dataframe\">\n",
       "  <thead>\n",
       "    <tr style=\"text-align: right;\">\n",
       "      <th></th>\n",
       "      <th>review</th>\n",
       "    </tr>\n",
       "    <tr>\n",
       "      <th>userID</th>\n",
       "      <th></th>\n",
       "    </tr>\n",
       "  </thead>\n",
       "  <tbody>\n",
       "    <tr>\n",
       "      <th>AY12DBB0U420B</th>\n",
       "      <td>329</td>\n",
       "    </tr>\n",
       "    <tr>\n",
       "      <th>A3OXHLG6DIBRW8</th>\n",
       "      <td>293</td>\n",
       "    </tr>\n",
       "    <tr>\n",
       "      <th>A281NPSIMI1C2R</th>\n",
       "      <td>257</td>\n",
       "    </tr>\n",
       "    <tr>\n",
       "      <th>A1YUL9PCJR3JTY</th>\n",
       "      <td>223</td>\n",
       "    </tr>\n",
       "    <tr>\n",
       "      <th>A1Z54EM24Y40LL</th>\n",
       "      <td>211</td>\n",
       "    </tr>\n",
       "  </tbody>\n",
       "</table>\n",
       "</div>"
      ],
      "text/plain": [
       "                review\n",
       "userID                \n",
       "AY12DBB0U420B      329\n",
       "A3OXHLG6DIBRW8     293\n",
       "A281NPSIMI1C2R     257\n",
       "A1YUL9PCJR3JTY     223\n",
       "A1Z54EM24Y40LL     211"
      ]
     },
     "execution_count": 31,
     "metadata": {},
     "output_type": "execute_result"
    }
   ],
   "source": [
    "pivot_user = pd.pivot_table(data = df, index = 'userID', values = 'review', aggfunc = lambda x: len(x.unique()))\n",
    "pivot_user.sort_values(by = ['review'], ascending = False).head()"
   ]
  },
  {
   "cell_type": "markdown",
   "metadata": {},
   "source": [
    "Learnings from EDA\n",
    "\n",
    "- Scores are categorical\n",
    "- Confirmed helpfulness_percent is binary\n",
    "- Helpfulness votes ranged from 0 to 800+, but the majority were < 5. Not a lot of people \n",
    "- The ratio of helpfulness 1:0 was > 50% for lower scores (scores <= 3). The ratio flipped for higher scores.\n",
    "- The violin plot confirms that lower scores have greater helpfulness.\n",
    "- Number of scores (ratings) grew over time. Majority of scores = 5 every year.\n",
    "- Out of 568,173 reviews, there are 74,258 unique products and 256,059 unique reviewers.\n",
    "- Found the top most reviewed products and most frequently contributing reviewers"
   ]
  },
  {
   "cell_type": "markdown",
   "metadata": {},
   "source": [
    "Modeling\n",
    "1. Predicting Scores from Reviews\n",
    "2. Product Recommendations"
   ]
  },
  {
   "cell_type": "code",
   "execution_count": 103,
   "metadata": {},
   "outputs": [
    {
     "data": {
      "text/plain": [
       "0         1\n",
       "1         0\n",
       "2         1\n",
       "3         0\n",
       "4         1\n",
       "         ..\n",
       "568449    1\n",
       "568450    0\n",
       "568451    1\n",
       "568452    1\n",
       "568453    1\n",
       "Name: rating, Length: 568173, dtype: int64"
      ]
     },
     "execution_count": 103,
     "metadata": {},
     "output_type": "execute_result"
    }
   ],
   "source": [
    "df['rating'] = df['score'].apply(lambda  x: 1 if x in [4,5] else 0)\n",
    "df['rating']"
   ]
  },
  {
   "cell_type": "code",
   "execution_count": 100,
   "metadata": {},
   "outputs": [
    {
     "data": {
      "text/plain": [
       "0         5.0\n",
       "4         5.0\n",
       "6         5.0\n",
       "7         5.0\n",
       "8         5.0\n",
       "         ... \n",
       "568448    5.0\n",
       "568449    5.0\n",
       "568451    5.0\n",
       "568452    5.0\n",
       "568453    5.0\n",
       "Name: score, Length: 362936, dtype: float64"
      ]
     },
     "execution_count": 100,
     "metadata": {},
     "output_type": "execute_result"
    }
   ],
   "source": [
    "df[mask].score\n",
    "# if I want to make recommender, I need to take subset of data so that my computer won't crash.\n",
    "# When running deep learning models, use Google Collab because it has enough GPU.\n",
    "# Transformers is a DL model"
   ]
  },
  {
   "cell_type": "code",
   "execution_count": 13,
   "metadata": {},
   "outputs": [],
   "source": [
    "# Text Wrangling Functions\n",
    "\n",
    "def strip_html_tags(text):\n",
    "  soup = BeautifulSoup(text, \"html.parser\")\n",
    "  [s.extract() for s in soup(['iframe', 'script'])]\n",
    "  stripped_text = soup.get_text()\n",
    "  stripped_text = re.sub(r'[\\r|\\n|\\r\\n]+', '\\n', stripped_text)\n",
    "  return stripped_text\n",
    "\n",
    "def remove_accented_chars(text):\n",
    "  text = unicodedata.normalize('NFKD', text).encode('ascii', 'ignore').decode('utf-8', 'ignore')\n",
    "  return text\n",
    "\n",
    "def pre_process_corpus(docs):\n",
    "  norm_docs = []\n",
    "  for doc in tqdm.tqdm(docs):\n",
    "    doc = strip_html_tags(doc)\n",
    "    doc = doc.translate(doc.maketrans(\"\\n\\t\\r\", \"   \"))\n",
    "    doc = doc.lower()\n",
    "    doc = remove_accented_chars(doc)\n",
    "    doc = contractions.fix(doc)\n",
    "    # lower case and remove special characters\\whitespaces\n",
    "    doc = re.sub(r'[^a-zA-Z0-9\\s]', '', doc, re.I|re.A)\n",
    "    doc = re.sub(' +', ' ', doc)\n",
    "    doc = doc.strip()  \n",
    "    norm_docs.append(doc)\n",
    "  \n",
    "  return norm_docs"
   ]
  },
  {
   "cell_type": "code",
   "execution_count": 105,
   "metadata": {},
   "outputs": [
    {
     "name": "stderr",
     "output_type": "stream",
     "text": [
      "100%|██████████| 568173/568173 [03:24<00:00, 2773.84it/s]\n"
     ]
    }
   ],
   "source": [
    "# Text Wrangling\n",
    "\n",
    "df['processed_reviews'] = pre_process_corpus(df['review'])\n",
    "df.to_csv('Updated Fine Foods.csv', index = False)\n",
    "# save this to a csv file. It will be faster to upload csv instead of rerunning the notebook."
   ]
  },
  {
   "cell_type": "code",
   "execution_count": 5,
   "metadata": {},
   "outputs": [
    {
     "data": {
      "text/html": [
       "<div>\n",
       "<style scoped>\n",
       "    .dataframe tbody tr th:only-of-type {\n",
       "        vertical-align: middle;\n",
       "    }\n",
       "\n",
       "    .dataframe tbody tr th {\n",
       "        vertical-align: top;\n",
       "    }\n",
       "\n",
       "    .dataframe thead th {\n",
       "        text-align: right;\n",
       "    }\n",
       "</style>\n",
       "<table border=\"1\" class=\"dataframe\">\n",
       "  <thead>\n",
       "    <tr style=\"text-align: right;\">\n",
       "      <th></th>\n",
       "      <th>productID</th>\n",
       "      <th>userID</th>\n",
       "      <th>profileName</th>\n",
       "      <th>helpfulness</th>\n",
       "      <th>score</th>\n",
       "      <th>time</th>\n",
       "      <th>summary</th>\n",
       "      <th>text</th>\n",
       "      <th>helpfulness_numerator</th>\n",
       "      <th>helpfulness_denominator</th>\n",
       "      <th>helpfulness_percent</th>\n",
       "      <th>review</th>\n",
       "      <th>review_edited</th>\n",
       "      <th>low_score</th>\n",
       "      <th>rating</th>\n",
       "      <th>processed_reviews</th>\n",
       "    </tr>\n",
       "  </thead>\n",
       "  <tbody>\n",
       "    <tr>\n",
       "      <th>0</th>\n",
       "      <td>B001E4KFG0</td>\n",
       "      <td>A3SGXH7AUHU8GW</td>\n",
       "      <td>delmartian</td>\n",
       "      <td>1/1</td>\n",
       "      <td>5.0</td>\n",
       "      <td>2011-04-27</td>\n",
       "      <td>Good Quality Dog Food</td>\n",
       "      <td>I have bought several of the Vitality canned d...</td>\n",
       "      <td>1.0</td>\n",
       "      <td>1.0</td>\n",
       "      <td>1.0</td>\n",
       "      <td>Good Quality Dog Food I have bought several of...</td>\n",
       "      <td>good quality dog food i have bought several of...</td>\n",
       "      <td>False</td>\n",
       "      <td>1</td>\n",
       "      <td>good quality dog food i have bought several of...</td>\n",
       "    </tr>\n",
       "    <tr>\n",
       "      <th>1</th>\n",
       "      <td>B00813GRG4</td>\n",
       "      <td>A1D87F6ZCVE5NK</td>\n",
       "      <td>dll pa</td>\n",
       "      <td>0/0</td>\n",
       "      <td>1.0</td>\n",
       "      <td>2012-09-07</td>\n",
       "      <td>Not as Advertised</td>\n",
       "      <td>Product arrived labeled as Jumbo Salted Peanut...</td>\n",
       "      <td>0.0</td>\n",
       "      <td>0.0</td>\n",
       "      <td>0.0</td>\n",
       "      <td>Not as Advertised Product arrived labeled as J...</td>\n",
       "      <td>not as advertised product arrived labeled as j...</td>\n",
       "      <td>True</td>\n",
       "      <td>0</td>\n",
       "      <td>not as advertised product arrived labeled as j...</td>\n",
       "    </tr>\n",
       "    <tr>\n",
       "      <th>2</th>\n",
       "      <td>B000LQOCH0</td>\n",
       "      <td>ABXLMWJIXXAIN</td>\n",
       "      <td>Natalia Corres \"Natalia Corres\"</td>\n",
       "      <td>1/1</td>\n",
       "      <td>4.0</td>\n",
       "      <td>2008-08-18</td>\n",
       "      <td>\"Delight\" says it all</td>\n",
       "      <td>This is a confection that has been around a fe...</td>\n",
       "      <td>1.0</td>\n",
       "      <td>1.0</td>\n",
       "      <td>1.0</td>\n",
       "      <td>\"Delight\" says it all This is a confection tha...</td>\n",
       "      <td>delight  says it all this is a confection tha...</td>\n",
       "      <td>False</td>\n",
       "      <td>1</td>\n",
       "      <td>delight says it all this is a confection that ...</td>\n",
       "    </tr>\n",
       "    <tr>\n",
       "      <th>3</th>\n",
       "      <td>B000UA0QIQ</td>\n",
       "      <td>A395BORC6FGVXV</td>\n",
       "      <td>Karl</td>\n",
       "      <td>3/3</td>\n",
       "      <td>2.0</td>\n",
       "      <td>2011-06-13</td>\n",
       "      <td>Cough Medicine</td>\n",
       "      <td>If you are looking for the secret ingredient i...</td>\n",
       "      <td>3.0</td>\n",
       "      <td>3.0</td>\n",
       "      <td>1.0</td>\n",
       "      <td>Cough Medicine If you are looking for the secr...</td>\n",
       "      <td>cough medicine if you are looking for the secr...</td>\n",
       "      <td>True</td>\n",
       "      <td>0</td>\n",
       "      <td>cough medicine if you are looking for the secr...</td>\n",
       "    </tr>\n",
       "    <tr>\n",
       "      <th>4</th>\n",
       "      <td>B006K2ZZ7K</td>\n",
       "      <td>A1UQRSCLF8GW1T</td>\n",
       "      <td>Michael D. Bigham \"M. Wassir\"</td>\n",
       "      <td>0/0</td>\n",
       "      <td>5.0</td>\n",
       "      <td>2012-10-21</td>\n",
       "      <td>Great taffy</td>\n",
       "      <td>Great taffy at a great price.  There was a wid...</td>\n",
       "      <td>0.0</td>\n",
       "      <td>0.0</td>\n",
       "      <td>0.0</td>\n",
       "      <td>Great taffy Great taffy at a great price.  The...</td>\n",
       "      <td>great taffy great taffy at a great price   the...</td>\n",
       "      <td>False</td>\n",
       "      <td>1</td>\n",
       "      <td>great taffy great taffy at a great price there...</td>\n",
       "    </tr>\n",
       "  </tbody>\n",
       "</table>\n",
       "</div>"
      ],
      "text/plain": [
       "    productID          userID                      profileName helpfulness  \\\n",
       "0  B001E4KFG0  A3SGXH7AUHU8GW                       delmartian         1/1   \n",
       "1  B00813GRG4  A1D87F6ZCVE5NK                           dll pa         0/0   \n",
       "2  B000LQOCH0   ABXLMWJIXXAIN  Natalia Corres \"Natalia Corres\"         1/1   \n",
       "3  B000UA0QIQ  A395BORC6FGVXV                             Karl         3/3   \n",
       "4  B006K2ZZ7K  A1UQRSCLF8GW1T    Michael D. Bigham \"M. Wassir\"         0/0   \n",
       "\n",
       "   score        time                summary  \\\n",
       "0    5.0  2011-04-27  Good Quality Dog Food   \n",
       "1    1.0  2012-09-07      Not as Advertised   \n",
       "2    4.0  2008-08-18  \"Delight\" says it all   \n",
       "3    2.0  2011-06-13         Cough Medicine   \n",
       "4    5.0  2012-10-21            Great taffy   \n",
       "\n",
       "                                                text  helpfulness_numerator  \\\n",
       "0  I have bought several of the Vitality canned d...                    1.0   \n",
       "1  Product arrived labeled as Jumbo Salted Peanut...                    0.0   \n",
       "2  This is a confection that has been around a fe...                    1.0   \n",
       "3  If you are looking for the secret ingredient i...                    3.0   \n",
       "4  Great taffy at a great price.  There was a wid...                    0.0   \n",
       "\n",
       "   helpfulness_denominator  helpfulness_percent  \\\n",
       "0                      1.0                  1.0   \n",
       "1                      0.0                  0.0   \n",
       "2                      1.0                  1.0   \n",
       "3                      3.0                  1.0   \n",
       "4                      0.0                  0.0   \n",
       "\n",
       "                                              review  \\\n",
       "0  Good Quality Dog Food I have bought several of...   \n",
       "1  Not as Advertised Product arrived labeled as J...   \n",
       "2  \"Delight\" says it all This is a confection tha...   \n",
       "3  Cough Medicine If you are looking for the secr...   \n",
       "4  Great taffy Great taffy at a great price.  The...   \n",
       "\n",
       "                                       review_edited  low_score  rating  \\\n",
       "0  good quality dog food i have bought several of...      False       1   \n",
       "1  not as advertised product arrived labeled as j...       True       0   \n",
       "2   delight  says it all this is a confection tha...      False       1   \n",
       "3  cough medicine if you are looking for the secr...       True       0   \n",
       "4  great taffy great taffy at a great price   the...      False       1   \n",
       "\n",
       "                                   processed_reviews  \n",
       "0  good quality dog food i have bought several of...  \n",
       "1  not as advertised product arrived labeled as j...  \n",
       "2  delight says it all this is a confection that ...  \n",
       "3  cough medicine if you are looking for the secr...  \n",
       "4  great taffy great taffy at a great price there...  "
      ]
     },
     "execution_count": 5,
     "metadata": {},
     "output_type": "execute_result"
    }
   ],
   "source": [
    "df = pd.read_csv('Updated Fine Foods.csv')\n",
    "df.head()"
   ]
  },
  {
   "cell_type": "code",
   "execution_count": 6,
   "metadata": {},
   "outputs": [
    {
     "data": {
      "text/plain": [
       "(568173, 16)"
      ]
     },
     "execution_count": 6,
     "metadata": {},
     "output_type": "execute_result"
    }
   ],
   "source": [
    "df.shape"
   ]
  },
  {
   "cell_type": "code",
   "execution_count": 7,
   "metadata": {},
   "outputs": [
    {
     "data": {
      "text/plain": [
       "168460      good they are excellent\n",
       "453429    Not worth it Not worth it\n",
       "Name: review, dtype: object"
      ]
     },
     "execution_count": 7,
     "metadata": {},
     "output_type": "execute_result"
    }
   ],
   "source": [
    "df.review[df.review.str.len()<25].index\n",
    "df.review[[168460, 453429]]"
   ]
  },
  {
   "cell_type": "code",
   "execution_count": 8,
   "metadata": {},
   "outputs": [
    {
     "name": "stdout",
     "output_type": "stream",
     "text": [
      "(568173, 16)\n",
      "(568128, 16)\n"
     ]
    }
   ],
   "source": [
    "print(df.shape)\n",
    "df = df.dropna(how = 'any')\n",
    "print(df.shape)"
   ]
  },
  {
   "cell_type": "code",
   "execution_count": 9,
   "metadata": {},
   "outputs": [],
   "source": [
    "# Split data - SKIP for now\n",
    "\n",
    "reviews = df['processed_reviews'].values\n",
    "ratings = df['rating'].values\n",
    "\n",
    "threshold = round(0.6*len(reviews))\n",
    "\n",
    "train_reviews = reviews[:threshold]\n",
    "train_ratings = ratings[:threshold]\n",
    "\n",
    "test_reviews = reviews[threshold:]\n",
    "test_ratings = ratings[threshold:]"
   ]
  },
  {
   "cell_type": "code",
   "execution_count": 10,
   "metadata": {},
   "outputs": [],
   "source": [
    "# Split Data - TEST HERE\n",
    "reviews = df['processed_reviews'].values\n",
    "ratings = df['rating'].values\n",
    "\n",
    "row_cap = 50000 # I can go up to 300K before slowing down a lot, but for now, I'll use 50K.\n",
    "threshold = round(0.8*row_cap)\n",
    "\n",
    "train_reviews = reviews[:threshold]\n",
    "train_ratings = ratings[:threshold]\n",
    "\n",
    "test_reviews = reviews[threshold:row_cap]\n",
    "test_ratings = ratings[threshold:row_cap]\n",
    "\n"
   ]
  },
  {
   "cell_type": "code",
   "execution_count": 11,
   "metadata": {},
   "outputs": [
    {
     "data": {
      "text/plain": [
       "array([], dtype=object)"
      ]
     },
     "execution_count": 11,
     "metadata": {},
     "output_type": "execute_result"
    }
   ],
   "source": [
    "test_reviews[33804:33806]"
   ]
  },
  {
   "cell_type": "code",
   "execution_count": 14,
   "metadata": {},
   "outputs": [
    {
     "name": "stderr",
     "output_type": "stream",
     "text": [
      "100%|██████████| 40000/40000 [00:07<00:00, 5558.40it/s]\n",
      "100%|██████████| 10000/10000 [00:01<00:00, 5678.13it/s]"
     ]
    },
    {
     "name": "stdout",
     "output_type": "stream",
     "text": [
      "CPU times: user 8.53 s, sys: 434 ms, total: 8.96 s\n",
      "Wall time: 8.99 s\n"
     ]
    },
    {
     "name": "stderr",
     "output_type": "stream",
     "text": [
      "\n"
     ]
    }
   ],
   "source": [
    "%%time\n",
    "# Normalize Inputs\n",
    "\n",
    "norm_train_reviews = pre_process_corpus(train_reviews)\n",
    "norm_test_reviews = pre_process_corpus(test_reviews)"
   ]
  },
  {
   "cell_type": "code",
   "execution_count": 15,
   "metadata": {},
   "outputs": [
    {
     "name": "stdout",
     "output_type": "stream",
     "text": [
      "CPU times: user 2.32 s, sys: 82.9 ms, total: 2.4 s\n",
      "Wall time: 2.42 s\n"
     ]
    }
   ],
   "source": [
    "%%time\n",
    "# Feature Engineering\n",
    "\n",
    "# build BOW features on train reviews\n",
    "#cv = CountVectorizer(binary=False, min_df=5, max_df=1.0, ngram_range=(1,2)) # remove ngram_range\n",
    "cv = CountVectorizer(binary=False, min_df=100, max_df=0.9)\n",
    "cv_train_features = cv.fit_transform(norm_train_reviews) # to reduce features, change min_df and max_df\n",
    "\n",
    "# build TFIDF features on train reviews\n",
    "# tv = TfidfVectorizer(use_idf=True, min_df=5, max_df=1.0, ngram_range=(1,2),sublinear_tf=True)\n",
    "#tv = TfidfVectorizer(use_idf=True, min_df=100, max_df=0.9, sublinear_tf=True)\n",
    "#tv_train_features = tv.fit_transform(norm_train_reviews)\n",
    "\n",
    "#tfidf gives unique values a higher weight. Unique words = keywords. output - weighted values = importance\n",
    "#bag of words = counts of words (within sentence and across reviews -- count = aggregate score)"
   ]
  },
  {
   "cell_type": "code",
   "execution_count": 16,
   "metadata": {},
   "outputs": [
    {
     "name": "stdout",
     "output_type": "stream",
     "text": [
      "CPU times: user 568 ms, sys: 11.2 ms, total: 580 ms\n",
      "Wall time: 582 ms\n"
     ]
    }
   ],
   "source": [
    "%%time\n",
    "# transform test reviews into features\n",
    "cv_test_features = cv.transform(norm_test_reviews)\n",
    "#tv_test_features = tv.transform(norm_test_reviews)"
   ]
  },
  {
   "cell_type": "code",
   "execution_count": 17,
   "metadata": {},
   "outputs": [
    {
     "name": "stdout",
     "output_type": "stream",
     "text": [
      "BOW model:> Train features shape: (40000, 2078)  Test features shape: (10000, 2078)\n"
     ]
    }
   ],
   "source": [
    "print('BOW model:> Train features shape:', cv_train_features.shape, ' Test features shape:', cv_test_features.shape)\n",
    "#print('TFIDF model:> Train features shape:', tv_train_features.shape, ' Test features shape:', tv_test_features.shape)"
   ]
  },
  {
   "cell_type": "code",
   "execution_count": 18,
   "metadata": {},
   "outputs": [
    {
     "name": "stdout",
     "output_type": "stream",
     "text": [
      "CPU times: user 3.27 s, sys: 38.9 ms, total: 3.31 s\n",
      "Wall time: 3.34 s\n"
     ]
    }
   ],
   "source": [
    "%%time\n",
    "\n",
    "# Logistic Regression model on BOW features\n",
    "from sklearn.linear_model import LogisticRegression\n",
    "\n",
    "# instantiate model\n",
    "lr = LogisticRegression(penalty='l2', max_iter=500, C=1, solver='lbfgs', random_state=42)\n",
    "\n",
    "# train model\n",
    "lr.fit(cv_train_features, train_ratings)\n",
    "\n",
    "# predict on test data\n",
    "lr_bow_predictions = lr.predict(cv_test_features)\n",
    "\n",
    "# This model is taking more than 30 min with min_df = 5 and max_df = 1.0 --> cancelled\n",
    "# changed to min_df = 10 and max_df = 0.9 and took over 45min still --> cancelled\n",
    "# changed to min_df = 100 and max_df = 0.9, and the kernel crashed\n",
    "# Took subset of data (first 1000 entries), and then the model ran quickly.\n",
    "\n",
    "#250,000 rows -18.5s\n",
    "#30K rows - 25.5s"
   ]
  },
  {
   "cell_type": "code",
   "execution_count": 19,
   "metadata": {},
   "outputs": [
    {
     "name": "stdout",
     "output_type": "stream",
     "text": [
      "              precision    recall  f1-score   support\n",
      "\n",
      "         low       0.79      0.70      0.74      2364\n",
      "        high       0.91      0.94      0.93      7636\n",
      "\n",
      "    accuracy                           0.88     10000\n",
      "   macro avg       0.85      0.82      0.83     10000\n",
      "weighted avg       0.88      0.88      0.88     10000\n",
      "\n"
     ]
    },
    {
     "data": {
      "text/html": [
       "<div>\n",
       "<style scoped>\n",
       "    .dataframe tbody tr th:only-of-type {\n",
       "        vertical-align: middle;\n",
       "    }\n",
       "\n",
       "    .dataframe tbody tr th {\n",
       "        vertical-align: top;\n",
       "    }\n",
       "\n",
       "    .dataframe thead th {\n",
       "        text-align: right;\n",
       "    }\n",
       "</style>\n",
       "<table border=\"1\" class=\"dataframe\">\n",
       "  <thead>\n",
       "    <tr style=\"text-align: right;\">\n",
       "      <th></th>\n",
       "      <th>low</th>\n",
       "      <th>high</th>\n",
       "    </tr>\n",
       "  </thead>\n",
       "  <tbody>\n",
       "    <tr>\n",
       "      <th>low</th>\n",
       "      <td>1645</td>\n",
       "      <td>719</td>\n",
       "    </tr>\n",
       "    <tr>\n",
       "      <th>high</th>\n",
       "      <td>436</td>\n",
       "      <td>7200</td>\n",
       "    </tr>\n",
       "  </tbody>\n",
       "</table>\n",
       "</div>"
      ],
      "text/plain": [
       "       low  high\n",
       "low   1645   719\n",
       "high   436  7200"
      ]
     },
     "execution_count": 19,
     "metadata": {},
     "output_type": "execute_result"
    }
   ],
   "source": [
    "# Check model's performance\n",
    "# Performance - classification_report: accuracy = confusion matrix, F1, roc score\n",
    "from sklearn.metrics import confusion_matrix, classification_report\n",
    "\n",
    "labels = ['low', 'high']\n",
    "\n",
    "print(classification_report(test_ratings, lr_bow_predictions, target_names = labels))\n",
    "pd.DataFrame(confusion_matrix(test_ratings, lr_bow_predictions), index=labels, columns=labels)\n"
   ]
  },
  {
   "cell_type": "code",
   "execution_count": 20,
   "metadata": {},
   "outputs": [
    {
     "name": "stdout",
     "output_type": "stream",
     "text": [
      "              precision    recall  f1-score   support\n",
      "\n",
      "         low       0.91      0.47      0.62      2364\n",
      "        high       0.86      0.99      0.92      7636\n",
      "\n",
      "    accuracy                           0.86     10000\n",
      "   macro avg       0.88      0.73      0.77     10000\n",
      "weighted avg       0.87      0.86      0.85     10000\n",
      "\n",
      "CPU times: user 1min 36s, sys: 837 ms, total: 1min 37s\n",
      "Wall time: 32.2 s\n"
     ]
    },
    {
     "data": {
      "text/html": [
       "<div>\n",
       "<style scoped>\n",
       "    .dataframe tbody tr th:only-of-type {\n",
       "        vertical-align: middle;\n",
       "    }\n",
       "\n",
       "    .dataframe tbody tr th {\n",
       "        vertical-align: top;\n",
       "    }\n",
       "\n",
       "    .dataframe thead th {\n",
       "        text-align: right;\n",
       "    }\n",
       "</style>\n",
       "<table border=\"1\" class=\"dataframe\">\n",
       "  <thead>\n",
       "    <tr style=\"text-align: right;\">\n",
       "      <th></th>\n",
       "      <th>low</th>\n",
       "      <th>high</th>\n",
       "    </tr>\n",
       "  </thead>\n",
       "  <tbody>\n",
       "    <tr>\n",
       "      <th>low</th>\n",
       "      <td>1102</td>\n",
       "      <td>1262</td>\n",
       "    </tr>\n",
       "    <tr>\n",
       "      <th>high</th>\n",
       "      <td>108</td>\n",
       "      <td>7528</td>\n",
       "    </tr>\n",
       "  </tbody>\n",
       "</table>\n",
       "</div>"
      ],
      "text/plain": [
       "       low  high\n",
       "low   1102  1262\n",
       "high   108  7528"
      ]
     },
     "execution_count": 20,
     "metadata": {},
     "output_type": "execute_result"
    }
   ],
   "source": [
    "%%time\n",
    "# Random Forest on BOW features\n",
    "\n",
    "from sklearn.ensemble import RandomForestClassifier\n",
    "\n",
    "# instantiate model\n",
    "rf = RandomForestClassifier(n_estimators=100, n_jobs=-1, random_state=42)\n",
    "\n",
    "# train model\n",
    "rf.fit(cv_train_features, train_ratings)\n",
    "\n",
    "# predict on test data\n",
    "rf_bow_predictions = rf.predict(cv_test_features)\n",
    "\n",
    "print(classification_report(test_ratings, rf_bow_predictions, target_names = labels))\n",
    "\n",
    "pd.DataFrame(confusion_matrix(test_ratings, rf_bow_predictions), index=labels, columns=labels)\n",
    "\n",
    "# 250,000 rows - 9min 44s\n",
    "# 30K - 23 min"
   ]
  },
  {
   "cell_type": "code",
   "execution_count": 21,
   "metadata": {},
   "outputs": [],
   "source": [
    "from sklearn.ensemble import GradientBoostingClassifier\n",
    "from sklearn.metrics import classification_report, confusion_matrix, roc_curve, auc"
   ]
  },
  {
   "cell_type": "code",
   "execution_count": 23,
   "metadata": {},
   "outputs": [
    {
     "name": "stdout",
     "output_type": "stream",
     "text": [
      "Learning rate:  0.05\n",
      "Accuracy score (training): 0.770\n",
      "Accuracy score (validation): 0.764\n",
      "\n",
      "Learning rate:  0.1\n",
      "Accuracy score (training): 0.770\n",
      "Accuracy score (validation): 0.764\n",
      "\n",
      "Learning rate:  0.25\n",
      "Accuracy score (training): 0.770\n",
      "Accuracy score (validation): 0.764\n",
      "\n",
      "Learning rate:  0.5\n",
      "Accuracy score (training): 0.771\n",
      "Accuracy score (validation): 0.764\n",
      "\n",
      "Learning rate:  0.75\n",
      "Accuracy score (training): 0.773\n",
      "Accuracy score (validation): 0.767\n",
      "\n",
      "Learning rate:  1\n",
      "Accuracy score (training): 0.773\n",
      "Accuracy score (validation): 0.766\n",
      "\n"
     ]
    }
   ],
   "source": [
    "learning_rates = [0.05, 0.1, 0.25, 0.5, 0.75, 1]\n",
    "\n",
    "for learning_rate in learning_rates:\n",
    "    gb = GradientBoostingClassifier(n_estimators=20, learning_rate = learning_rate, max_features=2, max_depth = 2, random_state = 0)\n",
    "    gb.fit(cv_train_features, train_ratings)\n",
    "    print(\"Learning rate: \", learning_rate)\n",
    "    print(\"Accuracy score (training): {0:.3f}\".format(gb.score(cv_train_features, train_ratings)))\n",
    "    print(\"Accuracy score (validation): {0:.3f}\".format(gb.score(cv_test_features, test_ratings)))\n",
    "    print()"
   ]
  },
  {
   "cell_type": "code",
   "execution_count": 24,
   "metadata": {},
   "outputs": [
    {
     "name": "stdout",
     "output_type": "stream",
     "text": [
      "[[ 121 2243]\n",
      " [  85 7551]]\n",
      "              precision    recall  f1-score   support\n",
      "\n",
      "           0       0.59      0.05      0.09      2364\n",
      "           1       0.77      0.99      0.87      7636\n",
      "\n",
      "    accuracy                           0.77     10000\n",
      "   macro avg       0.68      0.52      0.48     10000\n",
      "weighted avg       0.73      0.77      0.68     10000\n",
      "\n"
     ]
    }
   ],
   "source": [
    "model = GradientBoostingClassifier(n_estimators=20, learning_rate = 0.75, max_features=2, max_depth = 2, random_state = 0)\n",
    "model.fit(cv_train_features, train_ratings)\n",
    "pred_ratings = model.predict(cv_test_features)\n",
    "cm = confusion_matrix(test_ratings, pred_ratings)\n",
    "cr = classification_report(test_ratings, pred_ratings)\n",
    "print(cm)\n",
    "print(cr)"
   ]
  },
  {
   "cell_type": "code",
   "execution_count": 25,
   "metadata": {},
   "outputs": [
    {
     "name": "stdout",
     "output_type": "stream",
     "text": [
      "     0         1    2\n",
      "0  0.0  0.948816  1.0\n",
      "1  0.0  0.988869  1.0\n",
      "2  2.0  1.000000  0.0\n"
     ]
    }
   ],
   "source": [
    "roc = roc_curve(test_ratings, pred_ratings)\n",
    "print(pd.DataFrame(roc))"
   ]
  },
  {
   "cell_type": "code",
   "execution_count": 30,
   "metadata": {},
   "outputs": [
    {
     "name": "stdout",
     "output_type": "stream",
     "text": [
      "[21:10:27] WARNING: /opt/concourse/worker/volumes/live/7a2b9f41-3287-451b-6691-43e9a6c0910f/volume/xgboost-split_1619728204606/work/src/learner.cc:1061: Starting in XGBoost 1.3.0, the default evaluation metric used with the objective 'binary:logistic' was changed from 'error' to 'logloss'. Explicitly set eval_metric if you'd like to restore the old behavior.\n",
      "Accuracy: 88.05%\n"
     ]
    }
   ],
   "source": [
    "from xgboost import XGBClassifier\n",
    "from sklearn.metrics import accuracy_score\n",
    "\n",
    "xgb = XGBClassifier()\n",
    "xgb.fit(cv_train_features, train_ratings)\n",
    "pred_ratings = xgb.predict(cv_test_features)\n",
    "predictions = [round(value) for value in pred_ratings]\n",
    "# evaluate predictions\n",
    "accuracy = accuracy_score(test_ratings, predictions)\n",
    "print(\"Accuracy: %.2f%%\" % (accuracy * 100.0))"
   ]
  },
  {
   "cell_type": "code",
   "execution_count": 31,
   "metadata": {},
   "outputs": [
    {
     "name": "stdout",
     "output_type": "stream",
     "text": [
      "[[1510  854]\n",
      " [ 341 7295]]\n",
      "              precision    recall  f1-score   support\n",
      "\n",
      "           0       0.82      0.64      0.72      2364\n",
      "           1       0.90      0.96      0.92      7636\n",
      "\n",
      "    accuracy                           0.88     10000\n",
      "   macro avg       0.86      0.80      0.82     10000\n",
      "weighted avg       0.88      0.88      0.88     10000\n",
      "\n"
     ]
    }
   ],
   "source": [
    "cm = confusion_matrix(test_ratings, pred_ratings)\n",
    "cr = classification_report(test_ratings, pred_ratings)\n",
    "print(cm)\n",
    "print(cr)"
   ]
  },
  {
   "cell_type": "code",
   "execution_count": 44,
   "metadata": {},
   "outputs": [
    {
     "name": "stdout",
     "output_type": "stream",
     "text": [
      "Best Score:0.8843\n",
      "Best Parameters: {'solver': 'lbfgs', 'penalty': 'l2', 'C': 1}\n",
      "              precision    recall  f1-score   support\n",
      "\n",
      "         low       0.80      0.69      0.74      2364\n",
      "        high       0.91      0.94      0.93      7636\n",
      "\n",
      "    accuracy                           0.89     10000\n",
      "   macro avg       0.85      0.82      0.83     10000\n",
      "weighted avg       0.88      0.89      0.88     10000\n",
      "\n",
      "CPU times: user 2.89 s, sys: 701 ms, total: 3.59 s\n",
      "Wall time: 13min 37s\n"
     ]
    },
    {
     "name": "stderr",
     "output_type": "stream",
     "text": [
      "/opt/anaconda3/lib/python3.8/site-packages/sklearn/linear_model/_logistic.py:762: ConvergenceWarning: lbfgs failed to converge (status=1):\n",
      "STOP: TOTAL NO. of ITERATIONS REACHED LIMIT.\n",
      "\n",
      "Increase the number of iterations (max_iter) or scale the data as shown in:\n",
      "    https://scikit-learn.org/stable/modules/preprocessing.html\n",
      "Please also refer to the documentation for alternative solver options:\n",
      "    https://scikit-learn.org/stable/modules/linear_model.html#logistic-regression\n",
      "  n_iter_i = _check_optimize_result(\n"
     ]
    },
    {
     "data": {
      "text/html": [
       "<div>\n",
       "<style scoped>\n",
       "    .dataframe tbody tr th:only-of-type {\n",
       "        vertical-align: middle;\n",
       "    }\n",
       "\n",
       "    .dataframe tbody tr th {\n",
       "        vertical-align: top;\n",
       "    }\n",
       "\n",
       "    .dataframe thead th {\n",
       "        text-align: right;\n",
       "    }\n",
       "</style>\n",
       "<table border=\"1\" class=\"dataframe\">\n",
       "  <thead>\n",
       "    <tr style=\"text-align: right;\">\n",
       "      <th></th>\n",
       "      <th>low</th>\n",
       "      <th>high</th>\n",
       "    </tr>\n",
       "  </thead>\n",
       "  <tbody>\n",
       "    <tr>\n",
       "      <th>low</th>\n",
       "      <td>1641</td>\n",
       "      <td>723</td>\n",
       "    </tr>\n",
       "    <tr>\n",
       "      <th>high</th>\n",
       "      <td>421</td>\n",
       "      <td>7215</td>\n",
       "    </tr>\n",
       "  </tbody>\n",
       "</table>\n",
       "</div>"
      ],
      "text/plain": [
       "       low  high\n",
       "low   1641   723\n",
       "high   421  7215"
      ]
     },
     "execution_count": 44,
     "metadata": {},
     "output_type": "execute_result"
    }
   ],
   "source": [
    "%%time\n",
    "\n",
    "# Randomized Search CV on logistic regression and xgboost\n",
    "\n",
    "from sklearn.model_selection import RandomizedSearchCV\n",
    "param_grid = {'C':np.arange(1,10), 'solver' : ['newton-cg', 'lbfgs','liblinear'], 'penalty': ['none', 'l1', 'l2', 'elasticnet']}\n",
    "lr = LogisticRegression(random_state = 42) #if I want to fix solver, put it in LogisticRegression(). You can also skip it and use the default.\n",
    "lr_cv= RandomizedSearchCV(lr,param_grid,n_iter = 100, cv=5, scoring = 'accuracy', n_jobs = -1, random_state = 1)\n",
    "lr_cv.fit(cv_train_features, train_ratings)\n",
    "\n",
    "print(\"Best Score:\" + str(lr_cv.best_score_))\n",
    "print(\"Best Parameters: \" + str(lr_cv.best_params_))\n",
    "\n",
    "# predict on test data\n",
    "lr_cv_bow_predictions = lr_cv.predict(cv_test_features)\n",
    "\n",
    "print(classification_report(test_ratings, lr_cv_bow_predictions, target_names = labels))\n",
    "pd.DataFrame(confusion_matrix(test_ratings, lr_cv_bow_predictions), index=labels, columns=labels)\n"
   ]
  },
  {
   "cell_type": "code",
   "execution_count": 68,
   "metadata": {},
   "outputs": [],
   "source": [
    "import warnings\n",
    "warnings.filterwarnings('ignore')\n",
    "\n",
    "from hyperopt import tpe, hp, fmin, STATUS_OK,Trials\n",
    "from hyperopt.pyll.base import scope\n",
    "from sklearn.model_selection import cross_val_score\n"
   ]
  },
  {
   "cell_type": "markdown",
   "metadata": {},
   "source": [
    "suppress warnings\n",
    "try 3 fold instead of 5 folds to make it faster\n",
    "reduce iterations (num_boost_round)\n",
    "After maximize (or fmin from hyperopt), then do fit predict.\n",
    "function should compute for loss\n",
    "go back to the sklearn xgb and return cross_val_score\n",
    "follow RF example in Hyperopt"
   ]
  },
  {
   "cell_type": "code",
   "execution_count": 92,
   "metadata": {},
   "outputs": [
    {
     "name": "stdout",
     "output_type": "stream",
     "text": [
      "100%|██████████| 100/100 [05:50<00:00,  3.51s/trial, best loss: -0.8843]\n",
      "Best: {'C': 0.8700221770349829}\n",
      "CPU times: user 5min 29s, sys: 16.8 s, total: 5min 45s\n",
      "Wall time: 5min 50s\n"
     ]
    }
   ],
   "source": [
    "%%time \n",
    "\n",
    "# Bayesian Optimization for Logistic Regression\n",
    "\n",
    "space = {'C':hp.uniform('C',0.1,5), 'penalty': ['l1', 'l2', 'elasticnet']}\n",
    "\n",
    "def hyperparameter_tuning(params):\n",
    "    clf = LogisticRegression(random_state = 42)\n",
    "    acc = cross_val_score(clf, cv_train_features, train_ratings,scoring=\"accuracy\").mean()\n",
    "    return {\"loss\": -acc, \"status\": STATUS_OK}\n",
    "\n",
    "trials = Trials()\n",
    "\n",
    "best = fmin(\n",
    "    fn=hyperparameter_tuning,\n",
    "    space = space, \n",
    "    algo=tpe.suggest, \n",
    "    max_evals=100, \n",
    "    trials=trials\n",
    ")\n",
    "\n",
    "print(\"Best: {}\".format(best))"
   ]
  },
  {
   "cell_type": "code",
   "execution_count": 94,
   "metadata": {},
   "outputs": [
    {
     "name": "stdout",
     "output_type": "stream",
     "text": [
      "              precision    recall  f1-score   support\n",
      "\n",
      "         low       0.80      0.70      0.74      2364\n",
      "        high       0.91      0.94      0.93      7636\n",
      "\n",
      "    accuracy                           0.89     10000\n",
      "   macro avg       0.85      0.82      0.83     10000\n",
      "weighted avg       0.88      0.89      0.88     10000\n",
      "\n"
     ]
    },
    {
     "data": {
      "text/html": [
       "<div>\n",
       "<style scoped>\n",
       "    .dataframe tbody tr th:only-of-type {\n",
       "        vertical-align: middle;\n",
       "    }\n",
       "\n",
       "    .dataframe tbody tr th {\n",
       "        vertical-align: top;\n",
       "    }\n",
       "\n",
       "    .dataframe thead th {\n",
       "        text-align: right;\n",
       "    }\n",
       "</style>\n",
       "<table border=\"1\" class=\"dataframe\">\n",
       "  <thead>\n",
       "    <tr style=\"text-align: right;\">\n",
       "      <th></th>\n",
       "      <th>low</th>\n",
       "      <th>high</th>\n",
       "    </tr>\n",
       "  </thead>\n",
       "  <tbody>\n",
       "    <tr>\n",
       "      <th>low</th>\n",
       "      <td>1646</td>\n",
       "      <td>718</td>\n",
       "    </tr>\n",
       "    <tr>\n",
       "      <th>high</th>\n",
       "      <td>423</td>\n",
       "      <td>7213</td>\n",
       "    </tr>\n",
       "  </tbody>\n",
       "</table>\n",
       "</div>"
      ],
      "text/plain": [
       "       low  high\n",
       "low   1646   718\n",
       "high   423  7213"
      ]
     },
     "execution_count": 94,
     "metadata": {},
     "output_type": "execute_result"
    }
   ],
   "source": [
    "lrbo = LogisticRegression(C = 0.87, random_state = 42)\n",
    "lrbo.fit(cv_train_features, train_ratings)\n",
    "lrbo_predictions = lrbo.predict(cv_test_features)\n",
    "print(classification_report(test_ratings, lrbo_predictions, target_names = labels))\n",
    "pd.DataFrame(confusion_matrix(test_ratings, lrbo_predictions), index=labels, columns=labels)"
   ]
  },
  {
   "cell_type": "code",
   "execution_count": null,
   "metadata": {},
   "outputs": [],
   "source": [
    "# Regularization (optional)"
   ]
  },
  {
   "cell_type": "code",
   "execution_count": 95,
   "metadata": {},
   "outputs": [
    {
     "name": "stdout",
     "output_type": "stream",
     "text": [
      "              precision    recall  f1-score   support\n",
      "\n",
      "         low       0.67      0.83      0.74      2364\n",
      "        high       0.94      0.87      0.91      7636\n",
      "\n",
      "    accuracy                           0.86     10000\n",
      "   macro avg       0.81      0.85      0.82     10000\n",
      "weighted avg       0.88      0.86      0.87     10000\n",
      "\n",
      "CPU times: user 833 ms, sys: 42.1 ms, total: 875 ms\n",
      "Wall time: 881 ms\n"
     ]
    },
    {
     "data": {
      "text/html": [
       "<div>\n",
       "<style scoped>\n",
       "    .dataframe tbody tr th:only-of-type {\n",
       "        vertical-align: middle;\n",
       "    }\n",
       "\n",
       "    .dataframe tbody tr th {\n",
       "        vertical-align: top;\n",
       "    }\n",
       "\n",
       "    .dataframe thead th {\n",
       "        text-align: right;\n",
       "    }\n",
       "</style>\n",
       "<table border=\"1\" class=\"dataframe\">\n",
       "  <thead>\n",
       "    <tr style=\"text-align: right;\">\n",
       "      <th></th>\n",
       "      <th>low</th>\n",
       "      <th>high</th>\n",
       "    </tr>\n",
       "  </thead>\n",
       "  <tbody>\n",
       "    <tr>\n",
       "      <th>low</th>\n",
       "      <td>1952</td>\n",
       "      <td>412</td>\n",
       "    </tr>\n",
       "    <tr>\n",
       "      <th>high</th>\n",
       "      <td>966</td>\n",
       "      <td>6670</td>\n",
       "    </tr>\n",
       "  </tbody>\n",
       "</table>\n",
       "</div>"
      ],
      "text/plain": [
       "       low  high\n",
       "low   1952   412\n",
       "high   966  6670"
      ]
     },
     "execution_count": 95,
     "metadata": {},
     "output_type": "execute_result"
    }
   ],
   "source": [
    "%%time\n",
    "# Class Imbalance - class weight parameter\n",
    "\n",
    "lr_ci1 = LogisticRegression(C = 0.89, class_weight = 'balanced', random_state = 42)\n",
    "lr_ci1.fit(cv_train_features, train_ratings)\n",
    "lr_ci1_predictions = lr_ci1.predict(cv_test_features)\n",
    "print(classification_report(test_ratings, lr_ci1_predictions, target_names = labels))\n",
    "pd.DataFrame(confusion_matrix(test_ratings, lr_ci1_predictions), index=labels, columns=labels)"
   ]
  },
  {
   "cell_type": "code",
   "execution_count": 79,
   "metadata": {},
   "outputs": [],
   "source": [
    "from imblearn.under_sampling import RandomUnderSampler"
   ]
  },
  {
   "cell_type": "code",
   "execution_count": 96,
   "metadata": {},
   "outputs": [
    {
     "name": "stdout",
     "output_type": "stream",
     "text": [
      "original dataset shape: (40000,)\n",
      "Resample dataset shape (18434,)\n",
      "              precision    recall  f1-score   support\n",
      "\n",
      "         low       0.63      0.85      0.72      2364\n",
      "        high       0.95      0.85      0.89      7636\n",
      "\n",
      "    accuracy                           0.85     10000\n",
      "   macro avg       0.79      0.85      0.81     10000\n",
      "weighted avg       0.87      0.85      0.85     10000\n",
      "\n",
      "CPU times: user 472 ms, sys: 26.4 ms, total: 499 ms\n",
      "Wall time: 501 ms\n"
     ]
    },
    {
     "data": {
      "text/html": [
       "<div>\n",
       "<style scoped>\n",
       "    .dataframe tbody tr th:only-of-type {\n",
       "        vertical-align: middle;\n",
       "    }\n",
       "\n",
       "    .dataframe tbody tr th {\n",
       "        vertical-align: top;\n",
       "    }\n",
       "\n",
       "    .dataframe thead th {\n",
       "        text-align: right;\n",
       "    }\n",
       "</style>\n",
       "<table border=\"1\" class=\"dataframe\">\n",
       "  <thead>\n",
       "    <tr style=\"text-align: right;\">\n",
       "      <th></th>\n",
       "      <th>low</th>\n",
       "      <th>high</th>\n",
       "    </tr>\n",
       "  </thead>\n",
       "  <tbody>\n",
       "    <tr>\n",
       "      <th>low</th>\n",
       "      <td>2004</td>\n",
       "      <td>360</td>\n",
       "    </tr>\n",
       "    <tr>\n",
       "      <th>high</th>\n",
       "      <td>1172</td>\n",
       "      <td>6464</td>\n",
       "    </tr>\n",
       "  </tbody>\n",
       "</table>\n",
       "</div>"
      ],
      "text/plain": [
       "       low  high\n",
       "low   2004   360\n",
       "high  1172  6464"
      ]
     },
     "execution_count": 96,
     "metadata": {},
     "output_type": "execute_result"
    }
   ],
   "source": [
    "%%time\n",
    "# Class Imbalance - RandomUnderSampler\n",
    "from imblearn.under_sampling import RandomUnderSampler\n",
    "\n",
    "rus = RandomUnderSampler(random_state=42, replacement=True)# fit predictor and target variable\n",
    "x_rus, y_rus = rus.fit_resample(cv_train_features, train_ratings)\n",
    "\n",
    "print('original dataset shape:', train_ratings.shape)\n",
    "print('Resample dataset shape', y_rus.shape)\n",
    "\n",
    "lr_ci2 = LogisticRegression(C = 0.89, random_state = 42)\n",
    "lr_ci2.fit(x_rus, y_rus)\n",
    "lr_ci2_predictions = lr_ci2.predict(cv_test_features)\n",
    "print(classification_report(test_ratings, lr_ci2_predictions, target_names = labels))\n",
    "pd.DataFrame(confusion_matrix(test_ratings, lr_ci2_predictions), index=labels, columns=labels)"
   ]
  },
  {
   "cell_type": "code",
   "execution_count": 97,
   "metadata": {},
   "outputs": [
    {
     "name": "stdout",
     "output_type": "stream",
     "text": [
      "Original dataset shape (40000,)\n",
      "Resample dataset shape (61566,)\n",
      "              precision    recall  f1-score   support\n",
      "\n",
      "         low       0.72      0.75      0.74      2364\n",
      "        high       0.92      0.91      0.92      7636\n",
      "\n",
      "    accuracy                           0.87     10000\n",
      "   macro avg       0.82      0.83      0.83     10000\n",
      "weighted avg       0.88      0.87      0.87     10000\n",
      "\n",
      "CPU times: user 6.14 s, sys: 1.08 s, total: 7.22 s\n",
      "Wall time: 7.27 s\n"
     ]
    },
    {
     "data": {
      "text/html": [
       "<div>\n",
       "<style scoped>\n",
       "    .dataframe tbody tr th:only-of-type {\n",
       "        vertical-align: middle;\n",
       "    }\n",
       "\n",
       "    .dataframe tbody tr th {\n",
       "        vertical-align: top;\n",
       "    }\n",
       "\n",
       "    .dataframe thead th {\n",
       "        text-align: right;\n",
       "    }\n",
       "</style>\n",
       "<table border=\"1\" class=\"dataframe\">\n",
       "  <thead>\n",
       "    <tr style=\"text-align: right;\">\n",
       "      <th></th>\n",
       "      <th>low</th>\n",
       "      <th>high</th>\n",
       "    </tr>\n",
       "  </thead>\n",
       "  <tbody>\n",
       "    <tr>\n",
       "      <th>low</th>\n",
       "      <td>1784</td>\n",
       "      <td>580</td>\n",
       "    </tr>\n",
       "    <tr>\n",
       "      <th>high</th>\n",
       "      <td>688</td>\n",
       "      <td>6948</td>\n",
       "    </tr>\n",
       "  </tbody>\n",
       "</table>\n",
       "</div>"
      ],
      "text/plain": [
       "       low  high\n",
       "low   1784   580\n",
       "high   688  6948"
      ]
     },
     "execution_count": 97,
     "metadata": {},
     "output_type": "execute_result"
    }
   ],
   "source": [
    "%%time\n",
    "\n",
    "from imblearn.over_sampling import SMOTE\n",
    "\n",
    "smote = SMOTE()\n",
    "\n",
    "x_smote, y_smote = smote.fit_resample(cv_train_features, train_ratings)\n",
    "\n",
    "print('Original dataset shape', train_ratings.shape)\n",
    "print('Resample dataset shape', y_smote.shape)\n",
    "\n",
    "lr_ci3 = LogisticRegression(C = 0.89, random_state = 42)\n",
    "lr_ci3.fit(x_smote, y_smote)\n",
    "lr_ci3_predictions = lr_ci3.predict(cv_test_features)\n",
    "print(classification_report(test_ratings, lr_ci3_predictions, target_names = labels))\n",
    "pd.DataFrame(confusion_matrix(test_ratings, lr_ci3_predictions), index=labels, columns=labels)"
   ]
  },
  {
   "cell_type": "code",
   "execution_count": 98,
   "metadata": {},
   "outputs": [
    {
     "name": "stdout",
     "output_type": "stream",
     "text": [
      "(40000, 2078) (40000,)\n",
      "(61566, 2078) (61566,)\n",
      "(18434, 2078) (18434,)\n"
     ]
    }
   ],
   "source": [
    "print(cv_train_features.shape, train_ratings.shape)\n",
    "print(x_smote.shape, y_smote.shape)\n",
    "print(x_rus.shape, y_rus.shape)"
   ]
  },
  {
   "cell_type": "code",
   "execution_count": 170,
   "metadata": {},
   "outputs": [],
   "source": [
    "# Interpret data - feature importance, coefficient, interpretable ML package\n",
    "\n",
    "coef = pd.DataFrame(lrbo.coef_).transpose().sort_values(by = 0, ascending = False)\n",
    "\n",
    "# Does only the magnitude matter, not the direction?\n",
    "\n",
    "coef_abs = pd.DataFrame(abs(lrbo.coef_)).transpose().sort_values(by = 0, ascending = False)"
   ]
  },
  {
   "cell_type": "code",
   "execution_count": 158,
   "metadata": {},
   "outputs": [
    {
     "data": {
      "text/plain": [
       "(2078, 1)"
      ]
     },
     "execution_count": 158,
     "metadata": {},
     "output_type": "execute_result"
    }
   ],
   "source": [
    "cv = CountVectorizer(norm_train_reviews, binary=False, min_df=100, max_df=0.9)\n",
    "cv.fit_transform(norm_train_reviews)\n",
    "fnames = pd.DataFrame(cv.get_feature_names())\n",
    "fnames.head()\n",
    "fnames.shape"
   ]
  },
  {
   "cell_type": "code",
   "execution_count": 183,
   "metadata": {},
   "outputs": [
    {
     "data": {
      "text/html": [
       "<div>\n",
       "<style scoped>\n",
       "    .dataframe tbody tr th:only-of-type {\n",
       "        vertical-align: middle;\n",
       "    }\n",
       "\n",
       "    .dataframe tbody tr th {\n",
       "        vertical-align: top;\n",
       "    }\n",
       "\n",
       "    .dataframe thead th {\n",
       "        text-align: right;\n",
       "    }\n",
       "</style>\n",
       "<table border=\"1\" class=\"dataframe\">\n",
       "  <thead>\n",
       "    <tr style=\"text-align: right;\">\n",
       "      <th></th>\n",
       "      <th>0_coefficient</th>\n",
       "      <th>0_feature</th>\n",
       "    </tr>\n",
       "  </thead>\n",
       "  <tbody>\n",
       "    <tr>\n",
       "      <th>537</th>\n",
       "      <td>2.798554</td>\n",
       "      <td>disappointing</td>\n",
       "    </tr>\n",
       "    <tr>\n",
       "      <th>2055</th>\n",
       "      <td>2.570661</td>\n",
       "      <td>worst</td>\n",
       "    </tr>\n",
       "    <tr>\n",
       "      <th>2075</th>\n",
       "      <td>2.265257</td>\n",
       "      <td>yum</td>\n",
       "    </tr>\n",
       "    <tr>\n",
       "      <th>2074</th>\n",
       "      <td>2.184381</td>\n",
       "      <td>yuck</td>\n",
       "    </tr>\n",
       "    <tr>\n",
       "      <th>813</th>\n",
       "      <td>2.051593</td>\n",
       "      <td>grounds</td>\n",
       "    </tr>\n",
       "    <tr>\n",
       "      <th>...</th>\n",
       "      <td>...</td>\n",
       "      <td>...</td>\n",
       "    </tr>\n",
       "    <tr>\n",
       "      <th>648</th>\n",
       "      <td>0.002863</td>\n",
       "      <td>extra</td>\n",
       "    </tr>\n",
       "    <tr>\n",
       "      <th>885</th>\n",
       "      <td>0.002793</td>\n",
       "      <td>honey</td>\n",
       "    </tr>\n",
       "    <tr>\n",
       "      <th>459</th>\n",
       "      <td>0.002504</td>\n",
       "      <td>crap</td>\n",
       "    </tr>\n",
       "    <tr>\n",
       "      <th>1354</th>\n",
       "      <td>0.002099</td>\n",
       "      <td>pop</td>\n",
       "    </tr>\n",
       "    <tr>\n",
       "      <th>236</th>\n",
       "      <td>0.001678</td>\n",
       "      <td>bottle</td>\n",
       "    </tr>\n",
       "  </tbody>\n",
       "</table>\n",
       "<p>2073 rows × 2 columns</p>\n",
       "</div>"
      ],
      "text/plain": [
       "      0_coefficient      0_feature\n",
       "537        2.798554  disappointing\n",
       "2055       2.570661          worst\n",
       "2075       2.265257            yum\n",
       "2074       2.184381           yuck\n",
       "813        2.051593        grounds\n",
       "...             ...            ...\n",
       "648        0.002863          extra\n",
       "885        0.002793          honey\n",
       "459        0.002504           crap\n",
       "1354       0.002099            pop\n",
       "236        0.001678         bottle\n",
       "\n",
       "[2073 rows x 2 columns]"
      ]
     },
     "execution_count": 183,
     "metadata": {},
     "output_type": "execute_result"
    }
   ],
   "source": [
    "fc_abs = coef_abs.join(fnames, lsuffix = '_coefficient', rsuffix = '_feature')\n",
    "fc_abs.head(-5)"
   ]
  },
  {
   "cell_type": "code",
   "execution_count": 184,
   "metadata": {},
   "outputs": [
    {
     "data": {
      "text/html": [
       "<div>\n",
       "<style scoped>\n",
       "    .dataframe tbody tr th:only-of-type {\n",
       "        vertical-align: middle;\n",
       "    }\n",
       "\n",
       "    .dataframe tbody tr th {\n",
       "        vertical-align: top;\n",
       "    }\n",
       "\n",
       "    .dataframe thead th {\n",
       "        text-align: right;\n",
       "    }\n",
       "</style>\n",
       "<table border=\"1\" class=\"dataframe\">\n",
       "  <thead>\n",
       "    <tr style=\"text-align: right;\">\n",
       "      <th></th>\n",
       "      <th>0_coefficient</th>\n",
       "      <th>0_feature</th>\n",
       "    </tr>\n",
       "  </thead>\n",
       "  <tbody>\n",
       "    <tr>\n",
       "      <th>2075</th>\n",
       "      <td>2.265257</td>\n",
       "      <td>yum</td>\n",
       "    </tr>\n",
       "    <tr>\n",
       "      <th>87</th>\n",
       "      <td>1.858562</td>\n",
       "      <td>amazing</td>\n",
       "    </tr>\n",
       "    <tr>\n",
       "      <th>886</th>\n",
       "      <td>1.845319</td>\n",
       "      <td>hooked</td>\n",
       "    </tr>\n",
       "    <tr>\n",
       "      <th>2052</th>\n",
       "      <td>1.808127</td>\n",
       "      <td>worried</td>\n",
       "    </tr>\n",
       "    <tr>\n",
       "      <th>637</th>\n",
       "      <td>1.699194</td>\n",
       "      <td>excellent</td>\n",
       "    </tr>\n",
       "    <tr>\n",
       "      <th>...</th>\n",
       "      <td>...</td>\n",
       "      <td>...</td>\n",
       "    </tr>\n",
       "    <tr>\n",
       "      <th>1863</th>\n",
       "      <td>-1.544000</td>\n",
       "      <td>threw</td>\n",
       "    </tr>\n",
       "    <tr>\n",
       "      <th>1607</th>\n",
       "      <td>-1.609257</td>\n",
       "      <td>shame</td>\n",
       "    </tr>\n",
       "    <tr>\n",
       "      <th>891</th>\n",
       "      <td>-1.655488</td>\n",
       "      <td>horrible</td>\n",
       "    </tr>\n",
       "    <tr>\n",
       "      <th>1221</th>\n",
       "      <td>-1.719424</td>\n",
       "      <td>ok</td>\n",
       "    </tr>\n",
       "    <tr>\n",
       "      <th>139</th>\n",
       "      <td>-1.854482</td>\n",
       "      <td>awful</td>\n",
       "    </tr>\n",
       "  </tbody>\n",
       "</table>\n",
       "<p>2073 rows × 2 columns</p>\n",
       "</div>"
      ],
      "text/plain": [
       "      0_coefficient  0_feature\n",
       "2075       2.265257        yum\n",
       "87         1.858562    amazing\n",
       "886        1.845319     hooked\n",
       "2052       1.808127    worried\n",
       "637        1.699194  excellent\n",
       "...             ...        ...\n",
       "1863      -1.544000      threw\n",
       "1607      -1.609257      shame\n",
       "891       -1.655488   horrible\n",
       "1221      -1.719424         ok\n",
       "139       -1.854482      awful\n",
       "\n",
       "[2073 rows x 2 columns]"
      ]
     },
     "execution_count": 184,
     "metadata": {},
     "output_type": "execute_result"
    }
   ],
   "source": [
    "fc = coef.join(fnames, lsuffix = '_coefficient', rsuffix = '_feature')\n",
    "fc.head(-5)"
   ]
  },
  {
   "cell_type": "code",
   "execution_count": 164,
   "metadata": {},
   "outputs": [
    {
     "data": {
      "text/plain": [
       "array([0.6816229])"
      ]
     },
     "execution_count": 164,
     "metadata": {},
     "output_type": "execute_result"
    }
   ],
   "source": [
    "lrbo.intercept_"
   ]
  },
  {
   "cell_type": "code",
   "execution_count": 186,
   "metadata": {},
   "outputs": [
    {
     "data": {
      "text/html": [
       "\n",
       "    <style>\n",
       "    table.eli5-weights tr:hover {\n",
       "        filter: brightness(85%);\n",
       "    }\n",
       "</style>\n",
       "\n",
       "\n",
       "\n",
       "    \n",
       "\n",
       "    \n",
       "\n",
       "    \n",
       "\n",
       "    \n",
       "\n",
       "    \n",
       "\n",
       "    \n",
       "\n",
       "\n",
       "    \n",
       "\n",
       "    \n",
       "\n",
       "    \n",
       "\n",
       "    \n",
       "        \n",
       "\n",
       "    \n",
       "\n",
       "        \n",
       "            \n",
       "                \n",
       "                \n",
       "    \n",
       "        <p style=\"margin-bottom: 0.5em; margin-top: 0em\">\n",
       "            <b>\n",
       "    \n",
       "        y=1\n",
       "    \n",
       "</b>\n",
       "\n",
       "top features\n",
       "        </p>\n",
       "    \n",
       "    <table class=\"eli5-weights\"\n",
       "           style=\"border-collapse: collapse; border: none; margin-top: 0em; table-layout: auto; margin-bottom: 2em;\">\n",
       "        <thead>\n",
       "        <tr style=\"border: none;\">\n",
       "            \n",
       "                <th style=\"padding: 0 1em 0 0.5em; text-align: right; border: none;\" title=\"Feature weights. Note that weights do not account for feature value scales, so if feature values have different scales, features with highest weights might not be the most important.\">\n",
       "                    Weight<sup>?</sup>\n",
       "                </th>\n",
       "            \n",
       "            <th style=\"padding: 0 0.5em 0 0.5em; text-align: left; border: none;\">Feature</th>\n",
       "            \n",
       "        </tr>\n",
       "        </thead>\n",
       "        <tbody>\n",
       "        \n",
       "            <tr style=\"background-color: hsl(120, 100.00%, 82.75%); border: none;\">\n",
       "    <td style=\"padding: 0 1em 0 0.5em; text-align: right; border: none;\">\n",
       "        +2.265\n",
       "    </td>\n",
       "    <td style=\"padding: 0 0.5em 0 0.5em; text-align: left; border: none;\">\n",
       "        yum\n",
       "    </td>\n",
       "    \n",
       "</tr>\n",
       "        \n",
       "            <tr style=\"background-color: hsl(120, 100.00%, 84.98%); border: none;\">\n",
       "    <td style=\"padding: 0 1em 0 0.5em; text-align: right; border: none;\">\n",
       "        +1.859\n",
       "    </td>\n",
       "    <td style=\"padding: 0 0.5em 0 0.5em; text-align: left; border: none;\">\n",
       "        amazing\n",
       "    </td>\n",
       "    \n",
       "</tr>\n",
       "        \n",
       "            <tr style=\"background-color: hsl(120, 100.00%, 85.06%); border: none;\">\n",
       "    <td style=\"padding: 0 1em 0 0.5em; text-align: right; border: none;\">\n",
       "        +1.845\n",
       "    </td>\n",
       "    <td style=\"padding: 0 0.5em 0 0.5em; text-align: left; border: none;\">\n",
       "        hooked\n",
       "    </td>\n",
       "    \n",
       "</tr>\n",
       "        \n",
       "            <tr style=\"background-color: hsl(120, 100.00%, 85.27%); border: none;\">\n",
       "    <td style=\"padding: 0 1em 0 0.5em; text-align: right; border: none;\">\n",
       "        +1.808\n",
       "    </td>\n",
       "    <td style=\"padding: 0 0.5em 0 0.5em; text-align: left; border: none;\">\n",
       "        worried\n",
       "    </td>\n",
       "    \n",
       "</tr>\n",
       "        \n",
       "            <tr style=\"background-color: hsl(120, 100.00%, 85.90%); border: none;\">\n",
       "    <td style=\"padding: 0 1em 0 0.5em; text-align: right; border: none;\">\n",
       "        +1.699\n",
       "    </td>\n",
       "    <td style=\"padding: 0 0.5em 0 0.5em; text-align: left; border: none;\">\n",
       "        excellent\n",
       "    </td>\n",
       "    \n",
       "</tr>\n",
       "        \n",
       "            <tr style=\"background-color: hsl(120, 100.00%, 86.00%); border: none;\">\n",
       "    <td style=\"padding: 0 1em 0 0.5em; text-align: right; border: none;\">\n",
       "        +1.681\n",
       "    </td>\n",
       "    <td style=\"padding: 0 0.5em 0 0.5em; text-align: left; border: none;\">\n",
       "        yummy\n",
       "    </td>\n",
       "    \n",
       "</tr>\n",
       "        \n",
       "            <tr style=\"background-color: hsl(120, 100.00%, 86.51%); border: none;\">\n",
       "    <td style=\"padding: 0 1em 0 0.5em; text-align: right; border: none;\">\n",
       "        +1.595\n",
       "    </td>\n",
       "    <td style=\"padding: 0 0.5em 0 0.5em; text-align: left; border: none;\">\n",
       "        delicious\n",
       "    </td>\n",
       "    \n",
       "</tr>\n",
       "        \n",
       "            <tr style=\"background-color: hsl(120, 100.00%, 86.78%); border: none;\">\n",
       "    <td style=\"padding: 0 1em 0 0.5em; text-align: right; border: none;\">\n",
       "        +1.550\n",
       "    </td>\n",
       "    <td style=\"padding: 0 0.5em 0 0.5em; text-align: left; border: none;\">\n",
       "        fantastic\n",
       "    </td>\n",
       "    \n",
       "</tr>\n",
       "        \n",
       "            <tr style=\"background-color: hsl(120, 100.00%, 87.59%); border: none;\">\n",
       "    <td style=\"padding: 0 1em 0 0.5em; text-align: right; border: none;\">\n",
       "        +1.415\n",
       "    </td>\n",
       "    <td style=\"padding: 0 0.5em 0 0.5em; text-align: left; border: none;\">\n",
       "        pleasantly\n",
       "    </td>\n",
       "    \n",
       "</tr>\n",
       "        \n",
       "        \n",
       "            <tr style=\"background-color: hsl(120, 100.00%, 87.59%); border: none;\">\n",
       "                <td colspan=\"2\" style=\"padding: 0 0.5em 0 0.5em; text-align: center; border: none; white-space: nowrap;\">\n",
       "                    <i>&hellip; 1100 more positive &hellip;</i>\n",
       "                </td>\n",
       "            </tr>\n",
       "        \n",
       "\n",
       "        \n",
       "            <tr style=\"background-color: hsl(0, 100.00%, 87.64%); border: none;\">\n",
       "                <td colspan=\"2\" style=\"padding: 0 0.5em 0 0.5em; text-align: center; border: none; white-space: nowrap;\">\n",
       "                    <i>&hellip; 959 more negative &hellip;</i>\n",
       "                </td>\n",
       "            </tr>\n",
       "        \n",
       "        \n",
       "            <tr style=\"background-color: hsl(0, 100.00%, 87.64%); border: none;\">\n",
       "    <td style=\"padding: 0 1em 0 0.5em; text-align: right; border: none;\">\n",
       "        -1.408\n",
       "    </td>\n",
       "    <td style=\"padding: 0 0.5em 0 0.5em; text-align: left; border: none;\">\n",
       "        terrible\n",
       "    </td>\n",
       "    \n",
       "</tr>\n",
       "        \n",
       "            <tr style=\"background-color: hsl(0, 100.00%, 86.81%); border: none;\">\n",
       "    <td style=\"padding: 0 1em 0 0.5em; text-align: right; border: none;\">\n",
       "        -1.544\n",
       "    </td>\n",
       "    <td style=\"padding: 0 0.5em 0 0.5em; text-align: left; border: none;\">\n",
       "        threw\n",
       "    </td>\n",
       "    \n",
       "</tr>\n",
       "        \n",
       "            <tr style=\"background-color: hsl(0, 100.00%, 86.42%); border: none;\">\n",
       "    <td style=\"padding: 0 1em 0 0.5em; text-align: right; border: none;\">\n",
       "        -1.609\n",
       "    </td>\n",
       "    <td style=\"padding: 0 0.5em 0 0.5em; text-align: left; border: none;\">\n",
       "        shame\n",
       "    </td>\n",
       "    \n",
       "</tr>\n",
       "        \n",
       "            <tr style=\"background-color: hsl(0, 100.00%, 86.15%); border: none;\">\n",
       "    <td style=\"padding: 0 1em 0 0.5em; text-align: right; border: none;\">\n",
       "        -1.655\n",
       "    </td>\n",
       "    <td style=\"padding: 0 0.5em 0 0.5em; text-align: left; border: none;\">\n",
       "        horrible\n",
       "    </td>\n",
       "    \n",
       "</tr>\n",
       "        \n",
       "            <tr style=\"background-color: hsl(0, 100.00%, 85.78%); border: none;\">\n",
       "    <td style=\"padding: 0 1em 0 0.5em; text-align: right; border: none;\">\n",
       "        -1.719\n",
       "    </td>\n",
       "    <td style=\"padding: 0 0.5em 0 0.5em; text-align: left; border: none;\">\n",
       "        ok\n",
       "    </td>\n",
       "    \n",
       "</tr>\n",
       "        \n",
       "            <tr style=\"background-color: hsl(0, 100.00%, 85.01%); border: none;\">\n",
       "    <td style=\"padding: 0 1em 0 0.5em; text-align: right; border: none;\">\n",
       "        -1.854\n",
       "    </td>\n",
       "    <td style=\"padding: 0 0.5em 0 0.5em; text-align: left; border: none;\">\n",
       "        awful\n",
       "    </td>\n",
       "    \n",
       "</tr>\n",
       "        \n",
       "            <tr style=\"background-color: hsl(0, 100.00%, 83.98%); border: none;\">\n",
       "    <td style=\"padding: 0 1em 0 0.5em; text-align: right; border: none;\">\n",
       "        -2.038\n",
       "    </td>\n",
       "    <td style=\"padding: 0 0.5em 0 0.5em; text-align: left; border: none;\">\n",
       "        disappointment\n",
       "    </td>\n",
       "    \n",
       "</tr>\n",
       "        \n",
       "            <tr style=\"background-color: hsl(0, 100.00%, 83.91%); border: none;\">\n",
       "    <td style=\"padding: 0 1em 0 0.5em; text-align: right; border: none;\">\n",
       "        -2.052\n",
       "    </td>\n",
       "    <td style=\"padding: 0 0.5em 0 0.5em; text-align: left; border: none;\">\n",
       "        grounds\n",
       "    </td>\n",
       "    \n",
       "</tr>\n",
       "        \n",
       "            <tr style=\"background-color: hsl(0, 100.00%, 83.18%); border: none;\">\n",
       "    <td style=\"padding: 0 1em 0 0.5em; text-align: right; border: none;\">\n",
       "        -2.184\n",
       "    </td>\n",
       "    <td style=\"padding: 0 0.5em 0 0.5em; text-align: left; border: none;\">\n",
       "        yuck\n",
       "    </td>\n",
       "    \n",
       "</tr>\n",
       "        \n",
       "            <tr style=\"background-color: hsl(0, 100.00%, 81.15%); border: none;\">\n",
       "    <td style=\"padding: 0 1em 0 0.5em; text-align: right; border: none;\">\n",
       "        -2.571\n",
       "    </td>\n",
       "    <td style=\"padding: 0 0.5em 0 0.5em; text-align: left; border: none;\">\n",
       "        worst\n",
       "    </td>\n",
       "    \n",
       "</tr>\n",
       "        \n",
       "            <tr style=\"background-color: hsl(0, 100.00%, 80.00%); border: none;\">\n",
       "    <td style=\"padding: 0 1em 0 0.5em; text-align: right; border: none;\">\n",
       "        -2.799\n",
       "    </td>\n",
       "    <td style=\"padding: 0 0.5em 0 0.5em; text-align: left; border: none;\">\n",
       "        disappointing\n",
       "    </td>\n",
       "    \n",
       "</tr>\n",
       "        \n",
       "\n",
       "        </tbody>\n",
       "    </table>\n",
       "\n",
       "            \n",
       "        \n",
       "\n",
       "        \n",
       "\n",
       "\n",
       "\n",
       "    \n",
       "\n",
       "    \n",
       "\n",
       "    \n",
       "\n",
       "    \n",
       "\n",
       "\n",
       "    \n",
       "\n",
       "    \n",
       "\n",
       "    \n",
       "\n",
       "    \n",
       "\n",
       "    \n",
       "\n",
       "    \n",
       "\n",
       "\n",
       "    \n",
       "\n",
       "    \n",
       "\n",
       "    \n",
       "\n",
       "    \n",
       "\n",
       "    \n",
       "\n",
       "    \n",
       "\n",
       "\n",
       "\n"
      ],
      "text/plain": [
       "<IPython.core.display.HTML object>"
      ]
     },
     "execution_count": 186,
     "metadata": {},
     "output_type": "execute_result"
    }
   ],
   "source": [
    "import eli5\n",
    "eli5.show_weights(lrbo, vec=cv, top=20)"
   ]
  },
  {
   "cell_type": "code",
   "execution_count": null,
   "metadata": {},
   "outputs": [],
   "source": [
    "from interpret_text.widget import ExplanationDashboard\n",
    "from interpret_text.explanation.explanation import _create_local_explanation\n",
    "\n",
    "ExplanationDashboard(local_explanantion)\n",
    "\n",
    "local_explanantion = _create_local_explanation(\n",
    "classification=True,\n",
    "text_explanation=True,\n",
    "local_importance_values=feature_importance_values,\n",
    "method=lrbo,\n",
    "model_task=\"classification\",\n",
    "features=fnames,\n",
    "classes=list_of_classes,\n",
    ")"
   ]
  },
  {
   "cell_type": "code",
   "execution_count": 33,
   "metadata": {},
   "outputs": [
    {
     "name": "stdout",
     "output_type": "stream",
     "text": [
      "              precision    recall  f1-score   support\n",
      "\n",
      "         low       0.00      0.00      0.00        47\n",
      "        high       0.77      1.00      0.87       153\n",
      "\n",
      "    accuracy                           0.77       200\n",
      "   macro avg       0.38      0.50      0.43       200\n",
      "weighted avg       0.59      0.77      0.66       200\n",
      "\n",
      "CPU times: user 22 ms, sys: 2.35 ms, total: 24.4 ms\n",
      "Wall time: 22.8 ms\n"
     ]
    },
    {
     "name": "stderr",
     "output_type": "stream",
     "text": [
      "/opt/anaconda3/lib/python3.8/site-packages/sklearn/metrics/_classification.py:1221: UndefinedMetricWarning: Precision and F-score are ill-defined and being set to 0.0 in labels with no predicted samples. Use `zero_division` parameter to control this behavior.\n",
      "  _warn_prf(average, modifier, msg_start, len(result))\n"
     ]
    },
    {
     "data": {
      "text/html": [
       "<div>\n",
       "<style scoped>\n",
       "    .dataframe tbody tr th:only-of-type {\n",
       "        vertical-align: middle;\n",
       "    }\n",
       "\n",
       "    .dataframe tbody tr th {\n",
       "        vertical-align: top;\n",
       "    }\n",
       "\n",
       "    .dataframe thead th {\n",
       "        text-align: right;\n",
       "    }\n",
       "</style>\n",
       "<table border=\"1\" class=\"dataframe\">\n",
       "  <thead>\n",
       "    <tr style=\"text-align: right;\">\n",
       "      <th></th>\n",
       "      <th>low</th>\n",
       "      <th>high</th>\n",
       "    </tr>\n",
       "  </thead>\n",
       "  <tbody>\n",
       "    <tr>\n",
       "      <th>low</th>\n",
       "      <td>0</td>\n",
       "      <td>47</td>\n",
       "    </tr>\n",
       "    <tr>\n",
       "      <th>high</th>\n",
       "      <td>0</td>\n",
       "      <td>153</td>\n",
       "    </tr>\n",
       "  </tbody>\n",
       "</table>\n",
       "</div>"
      ],
      "text/plain": [
       "      low  high\n",
       "low     0    47\n",
       "high    0   153"
      ]
     },
     "execution_count": 33,
     "metadata": {},
     "output_type": "execute_result"
    }
   ],
   "source": [
    "%%time\n",
    "\n",
    "# Logistic Regression on TF-IDF features\n",
    "\n",
    "# instantiate model\n",
    "lr_tv = LogisticRegression(penalty='l2', max_iter=500, C=1, solver='lbfgs', random_state=42)\n",
    "\n",
    "# train model\n",
    "lr_tv.fit(tv_train_features, train_ratings)\n",
    "\n",
    "# predict on test data\n",
    "lr_tv_predictions = lr.predict(tv_test_features)\n",
    "\n",
    "print(classification_report(test_ratings, lr_tv_predictions, target_names = labels))\n",
    "pd.DataFrame(confusion_matrix(test_ratings, lr_tv_predictions), index=labels, columns=labels)"
   ]
  },
  {
   "cell_type": "code",
   "execution_count": 38,
   "metadata": {},
   "outputs": [
    {
     "name": "stdout",
     "output_type": "stream",
     "text": [
      "              precision    recall  f1-score   support\n",
      "\n",
      "         low       0.56      0.11      0.18        47\n",
      "        high       0.78      0.97      0.87       153\n",
      "\n",
      "    accuracy                           0.77       200\n",
      "   macro avg       0.67      0.54      0.52       200\n",
      "weighted avg       0.73      0.77      0.70       200\n",
      "\n",
      "CPU times: user 416 ms, sys: 58.4 ms, total: 475 ms\n",
      "Wall time: 255 ms\n"
     ]
    },
    {
     "data": {
      "text/html": [
       "<div>\n",
       "<style scoped>\n",
       "    .dataframe tbody tr th:only-of-type {\n",
       "        vertical-align: middle;\n",
       "    }\n",
       "\n",
       "    .dataframe tbody tr th {\n",
       "        vertical-align: top;\n",
       "    }\n",
       "\n",
       "    .dataframe thead th {\n",
       "        text-align: right;\n",
       "    }\n",
       "</style>\n",
       "<table border=\"1\" class=\"dataframe\">\n",
       "  <thead>\n",
       "    <tr style=\"text-align: right;\">\n",
       "      <th></th>\n",
       "      <th>low</th>\n",
       "      <th>high</th>\n",
       "    </tr>\n",
       "  </thead>\n",
       "  <tbody>\n",
       "    <tr>\n",
       "      <th>low</th>\n",
       "      <td>5</td>\n",
       "      <td>42</td>\n",
       "    </tr>\n",
       "    <tr>\n",
       "      <th>high</th>\n",
       "      <td>4</td>\n",
       "      <td>149</td>\n",
       "    </tr>\n",
       "  </tbody>\n",
       "</table>\n",
       "</div>"
      ],
      "text/plain": [
       "      low  high\n",
       "low     5    42\n",
       "high    4   149"
      ]
     },
     "execution_count": 38,
     "metadata": {},
     "output_type": "execute_result"
    }
   ],
   "source": [
    "%%time\n",
    "\n",
    "# Random Forest on TF-IDF features\n",
    "\n",
    "# instantiate model\n",
    "rf = RandomForestClassifier(n_estimators=100, n_jobs=-1, random_state=42)\n",
    "\n",
    "# train model\n",
    "rf.fit(tv_train_features, train_ratings)\n",
    "\n",
    "# predict on test data\n",
    "rf_tv_predictions = rf.predict(tv_test_features)\n",
    "\n",
    "print(classification_report(test_ratings, rf_tv_predictions, target_names = labels))\n",
    "pd.DataFrame(confusion_matrix(test_ratings, rf_tv_predictions), index=labels, columns=labels)"
   ]
  },
  {
   "cell_type": "markdown",
   "metadata": {},
   "source": [
    "Next steps\n",
    "\n",
    "\n",
    "#gradient boosting - sequential learning, learn mistakes from previous learning\n",
    "#xgboost - more robust method of gradient boosting, parallelizes the training --> faster\n",
    "\n",
    "#Tune the best model\n",
    "#Look at top features - interpret model\n",
    "#BONUS: Recommender or neural networks - can decide to do now or later\n",
    "\n",
    "\n",
    "1. nlp\n",
    "\n",
    "2. Should I look at how many reviews were created by the same user? Do they tend to review more positive or negative? How do you remove bias?'\n",
    "\n",
    "can combine classes - like low rating = 1,2,3\n",
    "Next steps:\n",
    "1. text classification - predict score given review\n",
    "2. text cleaning\n",
    "3. convert text into numerical representation (eg. bag of words)\n",
    "4. general classfications: logistic regression, random forest\n",
    "\n",
    "http://surpriselib.com\n",
    "https://huggingface.co/course/chapter1/3?fw=pt\n",
    "\n",
    "Use df[review_edited] for traditional ML\n",
    "Use df[reviews] for python libraries for comparison\n",
    "\n",
    "randomized search or bayesian optimization for hyperparameter tuning\n",
    "do logistic (c) and xgboost (max_depth, n_trees, etc)\n",
    "can try regularization\n",
    "if it improves, then good. but if it doesn't improve, stop.\n",
    "can try handling class imbalance after tuning: eg. class weight parameter (give higher weight to minority class)\n",
    "for interpretation, look at feature importance or coeff. can do interpretable ML (there's a package, but it's slow)\n",
    "\n",
    "\n"
   ]
  },
  {
   "cell_type": "markdown",
   "metadata": {},
   "source": [
    "group <= 4 as non-perfect score\n",
    "\n",
    "text wrangling (only needed if doing traditional ML. if using NLP libraries, don't change text)\n",
    "get rid of symbols\n",
    "lower case\n",
    "remove stop words\n",
    "\n",
    "huggingface course (NLP library aka python packages) - give it text, provides score for sentinent\n",
    "can say low score = \"bad\" and perfect score = \"good\"\n",
    "\n",
    "python surprise (NLP library) - recommendation system library\n",
    "\n",
    "compare traditional model to huggingface and python surprise"
   ]
  },
  {
   "cell_type": "code",
   "execution_count": null,
   "metadata": {},
   "outputs": [],
   "source": []
  }
 ],
 "metadata": {
  "kernelspec": {
   "display_name": "Python 3",
   "language": "python",
   "name": "python3"
  },
  "language_info": {
   "codemirror_mode": {
    "name": "ipython",
    "version": 3
   },
   "file_extension": ".py",
   "mimetype": "text/x-python",
   "name": "python",
   "nbconvert_exporter": "python",
   "pygments_lexer": "ipython3",
   "version": "3.8.5"
  }
 },
 "nbformat": 4,
 "nbformat_minor": 4
}
