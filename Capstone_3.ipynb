{
  "nbformat": 4,
  "nbformat_minor": 0,
  "metadata": {
    "colab": {
      "name": "Capstone 3.ipynb",
      "provenance": [],
      "collapsed_sections": [],
      "mount_file_id": "1xgRKxvYu9lXdmUodyxsCZXeQ37YOZe_S",
      "authorship_tag": "ABX9TyPOVxGkpZmQ1f0yITto9WJR",
      "include_colab_link": true
    },
    "kernelspec": {
      "name": "python3",
      "display_name": "Python 3"
    },
    "language_info": {
      "name": "python"
    },
    "accelerator": "GPU"
  },
  "cells": [
    {
      "cell_type": "markdown",
      "metadata": {
        "id": "view-in-github",
        "colab_type": "text"
      },
      "source": [
        "<a href=\"https://colab.research.google.com/github/chloemai/Capstone2/blob/main/Capstone_3.ipynb\" target=\"_parent\"><img src=\"https://colab.research.google.com/assets/colab-badge.svg\" alt=\"Open In Colab\"/></a>"
      ]
    },
    {
      "cell_type": "code",
      "metadata": {
        "id": "DqDYkaqhQWqz"
      },
      "source": [
        "# Import libraries\n",
        "import numpy as np\n",
        "import pandas as pd\n",
        "import matplotlib.pyplot as plt\n",
        "import tensorflow as tf\n",
        "from tensorflow.keras import datasets, layers, models\n",
        "from tensorflow.keras.preprocessing.image import ImageDataGenerator, load_img, img_to_array, array_to_img\n",
        "#from tensorflow.keras.callbacks import ModelCheckpoint, EarlyStopping, LearningRateScheduler, ReduceLROnPlateau\n",
        "#from tensorflow.keras.metrics import AUC, TruePositives, TrueNegatives, FalsePositives, FalseNegatives\n",
        "#from tensorflow.keras.layers.experimental.preprocessing import Resizing, Rescaling\n",
        "#from tensorflow.keras.optimizers import Adam\n",
        "#from tensorflow.keras.regularizers import l2"
      ],
      "execution_count": 1,
      "outputs": []
    },
    {
      "cell_type": "code",
      "metadata": {
        "id": "8NrDzud0XquP",
        "colab": {
          "base_uri": "https://localhost:8080/"
        },
        "outputId": "c52f3613-11ef-4676-cc76-2d768de72b7c"
      },
      "source": [
        "# Mount Drive\n",
        "\n",
        "from google.colab import drive\n",
        "drive.mount('/content/drive/')"
      ],
      "execution_count": 2,
      "outputs": [
        {
          "output_type": "stream",
          "name": "stdout",
          "text": [
            "Drive already mounted at /content/drive/; to attempt to forcibly remount, call drive.mount(\"/content/drive/\", force_remount=True).\n"
          ]
        }
      ]
    },
    {
      "cell_type": "code",
      "metadata": {
        "colab": {
          "base_uri": "https://localhost:8080/"
        },
        "id": "L2_eV_dNesUc",
        "outputId": "ebdedbd9-8bd3-46ad-fb03-43820c4f67e2"
      },
      "source": [
        "# Check contents\n",
        "\n",
        "!ls \"/content/drive/MyDrive/Coronahack-Chest-XRay-Dataset/\""
      ],
      "execution_count": 3,
      "outputs": [
        {
          "output_type": "stream",
          "name": "stdout",
          "text": [
            "Chest_xray_Corona_Metadata.csv\ttest  train\n"
          ]
        }
      ]
    },
    {
      "cell_type": "code",
      "metadata": {
        "colab": {
          "base_uri": "https://localhost:8080/"
        },
        "id": "tEar478EfWva",
        "outputId": "17c11fc0-b590-47c4-ff6d-10b1f5b7c4a8"
      },
      "source": [
        "# Import images\n",
        "\n",
        "import pathlib\n",
        "train = pathlib.Path('/content/drive/MyDrive/Coronahack-Chest-XRay-Dataset/train') \n",
        "test = pathlib.Path('/content/drive/MyDrive/Coronahack-Chest-XRay-Dataset/test') \n",
        "count_train = len(list(train.glob('*.jp*')))\n",
        "count_test = len(list(test.glob('*.jp*')))\n",
        "print(count_train, count_test)"
      ],
      "execution_count": 4,
      "outputs": [
        {
          "output_type": "stream",
          "name": "stdout",
          "text": [
            "5301 624\n"
          ]
        }
      ]
    },
    {
      "cell_type": "code",
      "metadata": {
        "colab": {
          "base_uri": "https://localhost:8080/",
          "height": 204
        },
        "id": "R101SNLsQpjL",
        "outputId": "6131bf04-d79f-468b-a1bc-4d00dd0d059e"
      },
      "source": [
        "# Import labels\n",
        "\n",
        "labels = pd.read_csv('/content/drive/MyDrive/Coronahack-Chest-XRay-Dataset/Chest_xray_Corona_Metadata.csv')\n",
        "labels.head()"
      ],
      "execution_count": 5,
      "outputs": [
        {
          "output_type": "execute_result",
          "data": {
            "text/html": [
              "\n",
              "  <div id=\"df-bc6730f2-fe9f-46aa-ae82-2e74fb83781e\">\n",
              "    <div class=\"colab-df-container\">\n",
              "      <div>\n",
              "<style scoped>\n",
              "    .dataframe tbody tr th:only-of-type {\n",
              "        vertical-align: middle;\n",
              "    }\n",
              "\n",
              "    .dataframe tbody tr th {\n",
              "        vertical-align: top;\n",
              "    }\n",
              "\n",
              "    .dataframe thead th {\n",
              "        text-align: right;\n",
              "    }\n",
              "</style>\n",
              "<table border=\"1\" class=\"dataframe\">\n",
              "  <thead>\n",
              "    <tr style=\"text-align: right;\">\n",
              "      <th></th>\n",
              "      <th>Unnamed: 0</th>\n",
              "      <th>X_ray_image_name</th>\n",
              "      <th>Label</th>\n",
              "      <th>Dataset_type</th>\n",
              "      <th>Label_2_Virus_category</th>\n",
              "      <th>Label_1_Virus_category</th>\n",
              "    </tr>\n",
              "  </thead>\n",
              "  <tbody>\n",
              "    <tr>\n",
              "      <th>0</th>\n",
              "      <td>0</td>\n",
              "      <td>IM-0128-0001.jpeg</td>\n",
              "      <td>Normal</td>\n",
              "      <td>TRAIN</td>\n",
              "      <td>NaN</td>\n",
              "      <td>NaN</td>\n",
              "    </tr>\n",
              "    <tr>\n",
              "      <th>1</th>\n",
              "      <td>1</td>\n",
              "      <td>IM-0127-0001.jpeg</td>\n",
              "      <td>Normal</td>\n",
              "      <td>TRAIN</td>\n",
              "      <td>NaN</td>\n",
              "      <td>NaN</td>\n",
              "    </tr>\n",
              "    <tr>\n",
              "      <th>2</th>\n",
              "      <td>2</td>\n",
              "      <td>IM-0125-0001.jpeg</td>\n",
              "      <td>Normal</td>\n",
              "      <td>TRAIN</td>\n",
              "      <td>NaN</td>\n",
              "      <td>NaN</td>\n",
              "    </tr>\n",
              "    <tr>\n",
              "      <th>3</th>\n",
              "      <td>3</td>\n",
              "      <td>IM-0122-0001.jpeg</td>\n",
              "      <td>Normal</td>\n",
              "      <td>TRAIN</td>\n",
              "      <td>NaN</td>\n",
              "      <td>NaN</td>\n",
              "    </tr>\n",
              "    <tr>\n",
              "      <th>4</th>\n",
              "      <td>4</td>\n",
              "      <td>IM-0119-0001.jpeg</td>\n",
              "      <td>Normal</td>\n",
              "      <td>TRAIN</td>\n",
              "      <td>NaN</td>\n",
              "      <td>NaN</td>\n",
              "    </tr>\n",
              "  </tbody>\n",
              "</table>\n",
              "</div>\n",
              "      <button class=\"colab-df-convert\" onclick=\"convertToInteractive('df-bc6730f2-fe9f-46aa-ae82-2e74fb83781e')\"\n",
              "              title=\"Convert this dataframe to an interactive table.\"\n",
              "              style=\"display:none;\">\n",
              "        \n",
              "  <svg xmlns=\"http://www.w3.org/2000/svg\" height=\"24px\"viewBox=\"0 0 24 24\"\n",
              "       width=\"24px\">\n",
              "    <path d=\"M0 0h24v24H0V0z\" fill=\"none\"/>\n",
              "    <path d=\"M18.56 5.44l.94 2.06.94-2.06 2.06-.94-2.06-.94-.94-2.06-.94 2.06-2.06.94zm-11 1L8.5 8.5l.94-2.06 2.06-.94-2.06-.94L8.5 2.5l-.94 2.06-2.06.94zm10 10l.94 2.06.94-2.06 2.06-.94-2.06-.94-.94-2.06-.94 2.06-2.06.94z\"/><path d=\"M17.41 7.96l-1.37-1.37c-.4-.4-.92-.59-1.43-.59-.52 0-1.04.2-1.43.59L10.3 9.45l-7.72 7.72c-.78.78-.78 2.05 0 2.83L4 21.41c.39.39.9.59 1.41.59.51 0 1.02-.2 1.41-.59l7.78-7.78 2.81-2.81c.8-.78.8-2.07 0-2.86zM5.41 20L4 18.59l7.72-7.72 1.47 1.35L5.41 20z\"/>\n",
              "  </svg>\n",
              "      </button>\n",
              "      \n",
              "  <style>\n",
              "    .colab-df-container {\n",
              "      display:flex;\n",
              "      flex-wrap:wrap;\n",
              "      gap: 12px;\n",
              "    }\n",
              "\n",
              "    .colab-df-convert {\n",
              "      background-color: #E8F0FE;\n",
              "      border: none;\n",
              "      border-radius: 50%;\n",
              "      cursor: pointer;\n",
              "      display: none;\n",
              "      fill: #1967D2;\n",
              "      height: 32px;\n",
              "      padding: 0 0 0 0;\n",
              "      width: 32px;\n",
              "    }\n",
              "\n",
              "    .colab-df-convert:hover {\n",
              "      background-color: #E2EBFA;\n",
              "      box-shadow: 0px 1px 2px rgba(60, 64, 67, 0.3), 0px 1px 3px 1px rgba(60, 64, 67, 0.15);\n",
              "      fill: #174EA6;\n",
              "    }\n",
              "\n",
              "    [theme=dark] .colab-df-convert {\n",
              "      background-color: #3B4455;\n",
              "      fill: #D2E3FC;\n",
              "    }\n",
              "\n",
              "    [theme=dark] .colab-df-convert:hover {\n",
              "      background-color: #434B5C;\n",
              "      box-shadow: 0px 1px 3px 1px rgba(0, 0, 0, 0.15);\n",
              "      filter: drop-shadow(0px 1px 2px rgba(0, 0, 0, 0.3));\n",
              "      fill: #FFFFFF;\n",
              "    }\n",
              "  </style>\n",
              "\n",
              "      <script>\n",
              "        const buttonEl =\n",
              "          document.querySelector('#df-bc6730f2-fe9f-46aa-ae82-2e74fb83781e button.colab-df-convert');\n",
              "        buttonEl.style.display =\n",
              "          google.colab.kernel.accessAllowed ? 'block' : 'none';\n",
              "\n",
              "        async function convertToInteractive(key) {\n",
              "          const element = document.querySelector('#df-bc6730f2-fe9f-46aa-ae82-2e74fb83781e');\n",
              "          const dataTable =\n",
              "            await google.colab.kernel.invokeFunction('convertToInteractive',\n",
              "                                                     [key], {});\n",
              "          if (!dataTable) return;\n",
              "\n",
              "          const docLinkHtml = 'Like what you see? Visit the ' +\n",
              "            '<a target=\"_blank\" href=https://colab.research.google.com/notebooks/data_table.ipynb>data table notebook</a>'\n",
              "            + ' to learn more about interactive tables.';\n",
              "          element.innerHTML = '';\n",
              "          dataTable['output_type'] = 'display_data';\n",
              "          await google.colab.output.renderOutput(dataTable, element);\n",
              "          const docLink = document.createElement('div');\n",
              "          docLink.innerHTML = docLinkHtml;\n",
              "          element.appendChild(docLink);\n",
              "        }\n",
              "      </script>\n",
              "    </div>\n",
              "  </div>\n",
              "  "
            ],
            "text/plain": [
              "   Unnamed: 0   X_ray_image_name  ... Label_2_Virus_category Label_1_Virus_category\n",
              "0           0  IM-0128-0001.jpeg  ...                    NaN                    NaN\n",
              "1           1  IM-0127-0001.jpeg  ...                    NaN                    NaN\n",
              "2           2  IM-0125-0001.jpeg  ...                    NaN                    NaN\n",
              "3           3  IM-0122-0001.jpeg  ...                    NaN                    NaN\n",
              "4           4  IM-0119-0001.jpeg  ...                    NaN                    NaN\n",
              "\n",
              "[5 rows x 6 columns]"
            ]
          },
          "metadata": {},
          "execution_count": 5
        }
      ]
    },
    {
      "cell_type": "code",
      "metadata": {
        "colab": {
          "base_uri": "https://localhost:8080/"
        },
        "id": "KK9gkNlhWuUK",
        "outputId": "c4c820af-29dc-4ace-d249-0001b83a1b32"
      },
      "source": [
        "# Remove index label column\n",
        "labels = labels.iloc[:,1:]\n",
        "labels.info()"
      ],
      "execution_count": 6,
      "outputs": [
        {
          "output_type": "stream",
          "name": "stdout",
          "text": [
            "<class 'pandas.core.frame.DataFrame'>\n",
            "RangeIndex: 5910 entries, 0 to 5909\n",
            "Data columns (total 5 columns):\n",
            " #   Column                  Non-Null Count  Dtype \n",
            "---  ------                  --------------  ----- \n",
            " 0   X_ray_image_name        5910 non-null   object\n",
            " 1   Label                   5910 non-null   object\n",
            " 2   Dataset_type            5910 non-null   object\n",
            " 3   Label_2_Virus_category  69 non-null     object\n",
            " 4   Label_1_Virus_category  4334 non-null   object\n",
            "dtypes: object(5)\n",
            "memory usage: 231.0+ KB\n"
          ]
        }
      ]
    },
    {
      "cell_type": "code",
      "metadata": {
        "colab": {
          "base_uri": "https://localhost:8080/"
        },
        "id": "fN2zUMpgwehA",
        "outputId": "3e097ef5-9c20-43b6-8e2c-238f85b7b528"
      },
      "source": [
        "# Explore labels\n",
        "\n",
        "print(labels.groupby('Label').size(),\n",
        "labels.groupby('Label_2_Virus_category').size(),\n",
        "labels.groupby('Label_1_Virus_category').size())"
      ],
      "execution_count": 7,
      "outputs": [
        {
          "output_type": "stream",
          "name": "stdout",
          "text": [
            "Label\n",
            "Normal      1576\n",
            "Pnemonia    4334\n",
            "dtype: int64 Label_2_Virus_category\n",
            "ARDS              2\n",
            "COVID-19         58\n",
            "SARS              4\n",
            "Streptococcus     5\n",
            "dtype: int64 Label_1_Virus_category\n",
            "Stress-Smoking       2\n",
            "Virus             1555\n",
            "bacteria          2777\n",
            "dtype: int64\n"
          ]
        }
      ]
    },
    {
      "cell_type": "code",
      "metadata": {
        "colab": {
          "base_uri": "https://localhost:8080/"
        },
        "id": "bggfttdopEfF",
        "outputId": "435ac9b2-4653-4a1d-d626-52f7c64d81c3"
      },
      "source": [
        "# Eliminate low count images\n",
        "labels = labels[labels.Label_1_Virus_category != 'Stress-Smoking']\n",
        "labels = labels[~(labels.Label_2_Virus_category.isin(['ARDS','SARS','Streptococcus']))]\n",
        "print(labels.groupby('Label').size(),\n",
        "labels.groupby('Label_2_Virus_category').size(),\n",
        "labels.groupby('Label_1_Virus_category').size())"
      ],
      "execution_count": 8,
      "outputs": [
        {
          "output_type": "stream",
          "name": "stdout",
          "text": [
            "Label\n",
            "Normal      1576\n",
            "Pnemonia    4323\n",
            "dtype: int64 Label_2_Virus_category\n",
            "COVID-19    58\n",
            "dtype: int64 Label_1_Virus_category\n",
            "Virus       1551\n",
            "bacteria    2772\n",
            "dtype: int64\n"
          ]
        }
      ]
    },
    {
      "cell_type": "code",
      "metadata": {
        "colab": {
          "base_uri": "https://localhost:8080/"
        },
        "id": "KWpEbzPTwDzF",
        "outputId": "c9f28fa7-9f00-442a-d3a8-2254066f68ee"
      },
      "source": [
        "# Replace NULL labels\n",
        "labels[labels.Label == 'Normal'] = labels[labels.Label == 'Normal'].fillna('Normal')\n",
        "labels.head()\n",
        "print(labels.groupby('Label').size(),\n",
        "labels.groupby('Label_2_Virus_category').size(),\n",
        "labels.groupby('Label_1_Virus_category').size())"
      ],
      "execution_count": 9,
      "outputs": [
        {
          "output_type": "stream",
          "name": "stdout",
          "text": [
            "Label\n",
            "Normal      1576\n",
            "Pnemonia    4323\n",
            "dtype: int64 Label_2_Virus_category\n",
            "COVID-19      58\n",
            "Normal      1576\n",
            "dtype: int64 Label_1_Virus_category\n",
            "Normal      1576\n",
            "Virus       1551\n",
            "bacteria    2772\n",
            "dtype: int64\n"
          ]
        }
      ]
    },
    {
      "cell_type": "code",
      "metadata": {
        "colab": {
          "base_uri": "https://localhost:8080/"
        },
        "id": "yQLnH0AJ27uS",
        "outputId": "bfd6aa9d-162d-4157-feef-b5e89389fcf1"
      },
      "source": [
        "labels = labels.fillna('Other')\n",
        "print(labels.groupby('Label').size(),\n",
        "labels.groupby('Label_2_Virus_category').size(),\n",
        "labels.groupby('Label_1_Virus_category').size())\n",
        "labels.reset_index(inplace = True)\n",
        "labels.info()"
      ],
      "execution_count": 10,
      "outputs": [
        {
          "output_type": "stream",
          "name": "stdout",
          "text": [
            "Label\n",
            "Normal      1576\n",
            "Pnemonia    4323\n",
            "dtype: int64 Label_2_Virus_category\n",
            "COVID-19      58\n",
            "Normal      1576\n",
            "Other       4265\n",
            "dtype: int64 Label_1_Virus_category\n",
            "Normal      1576\n",
            "Virus       1551\n",
            "bacteria    2772\n",
            "dtype: int64\n",
            "<class 'pandas.core.frame.DataFrame'>\n",
            "RangeIndex: 5899 entries, 0 to 5898\n",
            "Data columns (total 6 columns):\n",
            " #   Column                  Non-Null Count  Dtype \n",
            "---  ------                  --------------  ----- \n",
            " 0   index                   5899 non-null   int64 \n",
            " 1   X_ray_image_name        5899 non-null   object\n",
            " 2   Label                   5899 non-null   object\n",
            " 3   Dataset_type            5899 non-null   object\n",
            " 4   Label_2_Virus_category  5899 non-null   object\n",
            " 5   Label_1_Virus_category  5899 non-null   object\n",
            "dtypes: int64(1), object(5)\n",
            "memory usage: 276.6+ KB\n"
          ]
        }
      ]
    },
    {
      "cell_type": "code",
      "metadata": {
        "id": "XNR_lHDbtyzy"
      },
      "source": [
        "train_datagen = ImageDataGenerator(rotation_range=10,\n",
        "                              brightness_range=(0.8, 1.2),\n",
        "                              zoom_range=[0.75, 1],\n",
        "                              horizontal_flip=True)\n",
        "test_datagen = ImageDataGenerator()"
      ],
      "execution_count": 11,
      "outputs": []
    },
    {
      "cell_type": "code",
      "metadata": {
        "colab": {
          "base_uri": "https://localhost:8080/"
        },
        "id": "bsItgIyft3st",
        "outputId": "be8d7161-ebd6-4736-b539-ac1f6a67e829"
      },
      "source": [
        "from sklearn.model_selection import train_test_split\n",
        "train_df = labels[labels.Dataset_type == 'TRAIN']\n",
        "train_df_norm = train_df[train_df.Label == 'Normal']\n",
        "train_df_pne = train_df[train_df.Label == 'Pnemonia']\n",
        "#train_df = pd.concat([train_df_norm[:500],train_df_pne[:500]])\n",
        "train_df = pd.concat([train_df_norm,train_df_pne])\n",
        "X_train, X_valid, y_train, y_valid = train_test_split(train_df['X_ray_image_name'], train_df['Label'], test_size = 0.1, random_state = 42)\n",
        "train_df = pd.concat([X_train, y_train], axis = 1)\n",
        "valid_df = pd.concat([X_valid, y_valid], axis = 1)\n",
        "\n",
        "train_batches = train_datagen.flow_from_dataframe(train_df,\n",
        "                                             directory=train,\n",
        "                                             x_col='X_ray_image_name',\n",
        "                                             y_col='Label',\n",
        "                                             batch_size = 32)\n",
        "\n",
        "valid_batches = train_datagen.flow_from_dataframe(valid_df,\n",
        "                                              directory = train,\n",
        "                                              x_col='X_ray_image_name',\n",
        "                                              y_col='Label',\n",
        "                                              batch_size = 32)\n",
        "test_df = labels[labels.Dataset_type == 'TEST']\n",
        "test_batches = test_datagen.flow_from_dataframe(test_df,\n",
        "                                             directory=test,\n",
        "                                             x_col='X_ray_image_name',\n",
        "                                             y_col='Label',\n",
        "                                             batch_size = 32)\n",
        "#test_df.sample(100)\n",
        "# batch size comes in powers of 2. try medium of 32 of 64. larger batch size might be more accurate but will take longer\n",
        "# window size - maybe buckets of 3 like 3x3.\n",
        "# change class_mode to include more labels\n",
        "\n",
        "# Should I indicate a batch size?"
      ],
      "execution_count": 12,
      "outputs": [
        {
          "output_type": "stream",
          "name": "stdout",
          "text": [
            "Found 4747 validated image filenames belonging to 2 classes.\n",
            "Found 528 validated image filenames belonging to 2 classes.\n",
            "Found 624 validated image filenames belonging to 2 classes.\n"
          ]
        }
      ]
    },
    {
      "cell_type": "code",
      "source": [
        "valid_df.head()"
      ],
      "metadata": {
        "colab": {
          "base_uri": "https://localhost:8080/",
          "height": 204
        },
        "id": "R4X84AGjpUbZ",
        "outputId": "fc644c93-9f36-4746-aae7-fab64ebfef18"
      },
      "execution_count": 13,
      "outputs": [
        {
          "output_type": "execute_result",
          "data": {
            "text/html": [
              "\n",
              "  <div id=\"df-360ba668-704a-413d-83af-f35675fb04e4\">\n",
              "    <div class=\"colab-df-container\">\n",
              "      <div>\n",
              "<style scoped>\n",
              "    .dataframe tbody tr th:only-of-type {\n",
              "        vertical-align: middle;\n",
              "    }\n",
              "\n",
              "    .dataframe tbody tr th {\n",
              "        vertical-align: top;\n",
              "    }\n",
              "\n",
              "    .dataframe thead th {\n",
              "        text-align: right;\n",
              "    }\n",
              "</style>\n",
              "<table border=\"1\" class=\"dataframe\">\n",
              "  <thead>\n",
              "    <tr style=\"text-align: right;\">\n",
              "      <th></th>\n",
              "      <th>X_ray_image_name</th>\n",
              "      <th>Label</th>\n",
              "    </tr>\n",
              "  </thead>\n",
              "  <tbody>\n",
              "    <tr>\n",
              "      <th>8</th>\n",
              "      <td>IM-0187-0001.jpeg</td>\n",
              "      <td>Normal</td>\n",
              "    </tr>\n",
              "    <tr>\n",
              "      <th>655</th>\n",
              "      <td>NORMAL2-IM-0478-0001.jpeg</td>\n",
              "      <td>Normal</td>\n",
              "    </tr>\n",
              "    <tr>\n",
              "      <th>3349</th>\n",
              "      <td>person278_bacteria_1314.jpeg</td>\n",
              "      <td>Pnemonia</td>\n",
              "    </tr>\n",
              "    <tr>\n",
              "      <th>3264</th>\n",
              "      <td>person298_bacteria_1412.jpeg</td>\n",
              "      <td>Pnemonia</td>\n",
              "    </tr>\n",
              "    <tr>\n",
              "      <th>465</th>\n",
              "      <td>IM-0628-0001.jpeg</td>\n",
              "      <td>Normal</td>\n",
              "    </tr>\n",
              "  </tbody>\n",
              "</table>\n",
              "</div>\n",
              "      <button class=\"colab-df-convert\" onclick=\"convertToInteractive('df-360ba668-704a-413d-83af-f35675fb04e4')\"\n",
              "              title=\"Convert this dataframe to an interactive table.\"\n",
              "              style=\"display:none;\">\n",
              "        \n",
              "  <svg xmlns=\"http://www.w3.org/2000/svg\" height=\"24px\"viewBox=\"0 0 24 24\"\n",
              "       width=\"24px\">\n",
              "    <path d=\"M0 0h24v24H0V0z\" fill=\"none\"/>\n",
              "    <path d=\"M18.56 5.44l.94 2.06.94-2.06 2.06-.94-2.06-.94-.94-2.06-.94 2.06-2.06.94zm-11 1L8.5 8.5l.94-2.06 2.06-.94-2.06-.94L8.5 2.5l-.94 2.06-2.06.94zm10 10l.94 2.06.94-2.06 2.06-.94-2.06-.94-.94-2.06-.94 2.06-2.06.94z\"/><path d=\"M17.41 7.96l-1.37-1.37c-.4-.4-.92-.59-1.43-.59-.52 0-1.04.2-1.43.59L10.3 9.45l-7.72 7.72c-.78.78-.78 2.05 0 2.83L4 21.41c.39.39.9.59 1.41.59.51 0 1.02-.2 1.41-.59l7.78-7.78 2.81-2.81c.8-.78.8-2.07 0-2.86zM5.41 20L4 18.59l7.72-7.72 1.47 1.35L5.41 20z\"/>\n",
              "  </svg>\n",
              "      </button>\n",
              "      \n",
              "  <style>\n",
              "    .colab-df-container {\n",
              "      display:flex;\n",
              "      flex-wrap:wrap;\n",
              "      gap: 12px;\n",
              "    }\n",
              "\n",
              "    .colab-df-convert {\n",
              "      background-color: #E8F0FE;\n",
              "      border: none;\n",
              "      border-radius: 50%;\n",
              "      cursor: pointer;\n",
              "      display: none;\n",
              "      fill: #1967D2;\n",
              "      height: 32px;\n",
              "      padding: 0 0 0 0;\n",
              "      width: 32px;\n",
              "    }\n",
              "\n",
              "    .colab-df-convert:hover {\n",
              "      background-color: #E2EBFA;\n",
              "      box-shadow: 0px 1px 2px rgba(60, 64, 67, 0.3), 0px 1px 3px 1px rgba(60, 64, 67, 0.15);\n",
              "      fill: #174EA6;\n",
              "    }\n",
              "\n",
              "    [theme=dark] .colab-df-convert {\n",
              "      background-color: #3B4455;\n",
              "      fill: #D2E3FC;\n",
              "    }\n",
              "\n",
              "    [theme=dark] .colab-df-convert:hover {\n",
              "      background-color: #434B5C;\n",
              "      box-shadow: 0px 1px 3px 1px rgba(0, 0, 0, 0.15);\n",
              "      filter: drop-shadow(0px 1px 2px rgba(0, 0, 0, 0.3));\n",
              "      fill: #FFFFFF;\n",
              "    }\n",
              "  </style>\n",
              "\n",
              "      <script>\n",
              "        const buttonEl =\n",
              "          document.querySelector('#df-360ba668-704a-413d-83af-f35675fb04e4 button.colab-df-convert');\n",
              "        buttonEl.style.display =\n",
              "          google.colab.kernel.accessAllowed ? 'block' : 'none';\n",
              "\n",
              "        async function convertToInteractive(key) {\n",
              "          const element = document.querySelector('#df-360ba668-704a-413d-83af-f35675fb04e4');\n",
              "          const dataTable =\n",
              "            await google.colab.kernel.invokeFunction('convertToInteractive',\n",
              "                                                     [key], {});\n",
              "          if (!dataTable) return;\n",
              "\n",
              "          const docLinkHtml = 'Like what you see? Visit the ' +\n",
              "            '<a target=\"_blank\" href=https://colab.research.google.com/notebooks/data_table.ipynb>data table notebook</a>'\n",
              "            + ' to learn more about interactive tables.';\n",
              "          element.innerHTML = '';\n",
              "          dataTable['output_type'] = 'display_data';\n",
              "          await google.colab.output.renderOutput(dataTable, element);\n",
              "          const docLink = document.createElement('div');\n",
              "          docLink.innerHTML = docLinkHtml;\n",
              "          element.appendChild(docLink);\n",
              "        }\n",
              "      </script>\n",
              "    </div>\n",
              "  </div>\n",
              "  "
            ],
            "text/plain": [
              "                  X_ray_image_name     Label\n",
              "8                IM-0187-0001.jpeg    Normal\n",
              "655      NORMAL2-IM-0478-0001.jpeg    Normal\n",
              "3349  person278_bacteria_1314.jpeg  Pnemonia\n",
              "3264  person298_bacteria_1412.jpeg  Pnemonia\n",
              "465              IM-0628-0001.jpeg    Normal"
            ]
          },
          "metadata": {},
          "execution_count": 13
        }
      ]
    },
    {
      "cell_type": "markdown",
      "metadata": {
        "id": "RblnCU5TVeDE"
      },
      "source": [
        "A - input (k x m) \n",
        "B - 1st hidden layer (m x n)\n",
        "A is a set of images - k = # of samples and m is the dimension of each input sample\n",
        "B - n is hidden layer size = output size\n",
        "\n",
        "Is my m from the input layer, the whole 4d tuple?"
      ]
    },
    {
      "cell_type": "code",
      "metadata": {
        "colab": {
          "base_uri": "https://localhost:8080/",
          "height": 286
        },
        "id": "Ue5YjurlA21I",
        "outputId": "7c3e3bdf-9338-4fe2-c172-f76879ba7d37"
      },
      "source": [
        "batch = next(train_batches)\n",
        "plt.imshow(batch[0][0].astype('uint8'))\n",
        "#print(train_df[train_df.X_ray_image_name == batch[0][0]].Label)"
      ],
      "execution_count": 14,
      "outputs": [
        {
          "output_type": "execute_result",
          "data": {
            "text/plain": [
              "<matplotlib.image.AxesImage at 0x7fd534e1b150>"
            ]
          },
          "metadata": {},
          "execution_count": 14
        },
        {
          "output_type": "display_data",
          "data": {
            "image/png": "[encoded data removed]",
            "text/plain": [
              "<Figure size 432x288 with 1 Axes>"
            ]
          },
          "metadata": {
            "needs_background": "light"
          }
        }
      ]
    },
    {
      "cell_type": "code",
      "metadata": {
        "colab": {
          "base_uri": "https://localhost:8080/"
        },
        "id": "XICYkmmu_jRL",
        "outputId": "746352d7-576a-412e-d401-10f2b4b8c1a1"
      },
      "source": [
        "train_batches[0][0][0].shape"
      ],
      "execution_count": 15,
      "outputs": [
        {
          "output_type": "execute_result",
          "data": {
            "text/plain": [
              "(256, 256, 3)"
            ]
          },
          "metadata": {},
          "execution_count": 15
        }
      ]
    },
    {
      "cell_type": "code",
      "metadata": {
        "colab": {
          "base_uri": "https://localhost:8080/"
        },
        "id": "mcQs_4bVBOBk",
        "outputId": "59aa883b-decd-428f-f01a-3006a5a2cedb"
      },
      "source": [
        "batch[0][0].shape"
      ],
      "execution_count": 16,
      "outputs": [
        {
          "output_type": "execute_result",
          "data": {
            "text/plain": [
              "(256, 256, 3)"
            ]
          },
          "metadata": {},
          "execution_count": 16
        }
      ]
    },
    {
      "cell_type": "code",
      "metadata": {
        "colab": {
          "base_uri": "https://localhost:8080/"
        },
        "id": "6N2WL_JQO2MC",
        "outputId": "fcfdc3d5-c6d3-468a-c876-c1ce8051a8bb"
      },
      "source": [
        "train_batches_series = pd.Series(train_batches.classes)\n",
        "test_batches_series = pd.Series(test_batches.classes)\n",
        "print(f'Value count in train_batches: \\n{ train_batches_series.value_counts() }')\n",
        "print(f'Value count in test_batches: \\n{ test_batches_series.value_counts() }')"
      ],
      "execution_count": 17,
      "outputs": [
        {
          "output_type": "stream",
          "name": "stdout",
          "text": [
            "Value count in train_batches: \n",
            "1    3551\n",
            "0    1196\n",
            "dtype: int64\n",
            "Value count in test_batches: \n",
            "1    390\n",
            "0    234\n",
            "dtype: int64\n"
          ]
        }
      ]
    },
    {
      "cell_type": "code",
      "metadata": {
        "colab": {
          "base_uri": "https://localhost:8080/"
        },
        "id": "6YrAnmzusUdO",
        "outputId": "264642d6-11ab-4604-f33f-d39f668ebe07"
      },
      "source": [
        "from tensorflow.keras.models import Sequential\n",
        "from tensorflow.keras.layers import Conv2D, MaxPooling2D, Flatten, Dense\n",
        "model = Sequential()\n",
        "Input_shape=(32, 256, 256, 3)\n",
        "model.add(Conv2D(16, kernel_size=(2,2), padding=\"same\", activation='relu', input_shape=Input_shape[1:]))\n",
        "model.add(MaxPooling2D())\n",
        "model.add(Flatten())\n",
        "model.add(Dense(2, activation='softmax'))\n",
        "model.compile(optimizer='adam',\n",
        "              loss='categorical_crossentropy',\n",
        "              metrics=['accuracy'])\n",
        "model.summary()\n",
        "hist = model.fit(train_batches, epochs = 10)"
      ],
      "execution_count": 18,
      "outputs": [
        {
          "output_type": "stream",
          "name": "stdout",
          "text": [
            "Model: \"sequential\"\n",
            "_________________________________________________________________\n",
            " Layer (type)                Output Shape              Param #   \n",
            "=================================================================\n",
            " conv2d (Conv2D)             (None, 256, 256, 16)      208       \n",
            "                                                                 \n",
            " max_pooling2d (MaxPooling2D  (None, 128, 128, 16)     0         \n",
            " )                                                               \n",
            "                                                                 \n",
            " flatten (Flatten)           (None, 262144)            0         \n",
            "                                                                 \n",
            " dense (Dense)               (None, 2)                 524290    \n",
            "                                                                 \n",
            "=================================================================\n",
            "Total params: 524,498\n",
            "Trainable params: 524,498\n",
            "Non-trainable params: 0\n",
            "_________________________________________________________________\n",
            "Epoch 1/10\n",
            "149/149 [==============================] - 260s 818ms/step - loss: 936.4476 - accuracy: 0.7756\n",
            "Epoch 2/10\n",
            "149/149 [==============================] - 120s 807ms/step - loss: 46.6409 - accuracy: 0.8559\n",
            "Epoch 3/10\n",
            "149/149 [==============================] - 120s 803ms/step - loss: 47.1868 - accuracy: 0.8399\n",
            "Epoch 4/10\n",
            "149/149 [==============================] - 120s 802ms/step - loss: 12.0730 - accuracy: 0.8947\n",
            "Epoch 5/10\n",
            "149/149 [==============================] - 120s 802ms/step - loss: 5.9457 - accuracy: 0.9096\n",
            "Epoch 6/10\n",
            "149/149 [==============================] - 119s 798ms/step - loss: 4.0446 - accuracy: 0.8964\n",
            "Epoch 7/10\n",
            "149/149 [==============================] - 119s 800ms/step - loss: 1.8236 - accuracy: 0.9107\n",
            "Epoch 8/10\n",
            "149/149 [==============================] - 118s 795ms/step - loss: 1.8283 - accuracy: 0.8879\n",
            "Epoch 9/10\n",
            "149/149 [==============================] - 118s 792ms/step - loss: 1.7369 - accuracy: 0.8867\n",
            "Epoch 10/10\n",
            "149/149 [==============================] - 118s 793ms/step - loss: 1.1846 - accuracy: 0.9031\n"
          ]
        }
      ]
    },
    {
      "cell_type": "code",
      "metadata": {
        "id": "u_4GI_ZlwNsF",
        "colab": {
          "base_uri": "https://localhost:8080/"
        },
        "outputId": "860f40ef-0869-49a5-a92d-3ee8cea4fa71"
      },
      "source": [
        "# Test model_1\n",
        "from sklearn.metrics import confusion_matrix\n",
        "\n",
        "pred = model.predict(test_batches)\n",
        "predicted_class_indices=np.argmax(pred,axis=1)\n",
        "test_labels = (test_batches.class_indices)\n",
        "labels = dict((v,k) for k,v in test_labels.items())\n",
        "predictions = [labels[k] for k in predicted_class_indices]\n",
        "print(predicted_class_indices)\n",
        "print(labels)\n",
        "print(predictions)\n",
        "cf_matrix = confusion_matrix(predicted_class_indices,test_batches.classes)\n",
        "print(cf_matrix)"
      ],
      "execution_count": 19,
      "outputs": [
        {
          "output_type": "stream",
          "name": "stdout",
          "text": [
            "[1 1 1 0 0 1 1 0 1 1 1 1 1 1 1 1 1 1 1 1 1 1 0 0 1 0 1 1 1 0 0 0 1 1 0 1 1\n",
            " 1 1 1 0 0 1 1 0 1 0 1 1 1 0 1 1 0 0 0 1 0 1 1 1 0 1 1 1 1 1 1 1 1 0 0 1 0\n",
            " 1 1 1 1 1 1 1 1 1 0 1 1 1 1 1 1 0 1 1 1 1 1 0 1 1 1 1 1 1 1 1 1 1 0 1 1 1\n",
            " 1 0 1 1 0 1 1 1 0 1 0 1 1 1 1 1 1 0 1 1 1 1 1 0 1 1 1 0 0 1 1 1 1 1 0 1 0\n",
            " 1 0 1 1 1 1 1 0 1 0 1 1 1 1 1 1 1 1 1 1 0 0 1 1 1 0 1 1 1 1 0 1 0 1 1 1 1\n",
            " 1 1 1 1 1 0 1 1 1 0 1 0 1 1 1 0 1 1 1 1 1 1 1 0 1 1 1 0 1 1 1 1 1 0 1 1 1\n",
            " 0 1 1 1 1 1 1 1 1 1 1 0 1 1 1 1 1 1 1 1 1 1 1 0 1 1 1 1 1 1 1 1 1 1 0 0 1\n",
            " 1 1 1 1 1 1 0 1 0 1 1 1 0 0 1 0 1 1 1 1 1 1 1 1 1 1 1 1 1 1 1 0 1 1 1 1 1\n",
            " 1 0 0 1 0 1 1 0 1 1 1 1 1 1 0 0 1 0 1 1 1 1 1 0 1 1 0 0 1 1 0 1 1 1 1 1 1\n",
            " 0 1 1 1 0 0 1 1 1 1 1 1 1 1 1 1 1 0 1 1 1 1 1 1 1 0 0 1 1 1 1 1 1 1 1 1 1\n",
            " 1 1 1 1 1 1 0 1 1 0 1 0 1 1 1 1 1 1 1 1 1 0 1 1 0 1 1 1 1 1 1 1 1 1 1 1 1\n",
            " 1 1 1 0 1 0 1 1 1 1 1 1 0 1 0 1 1 1 1 0 1 0 1 1 1 1 1 1 0 1 0 1 1 1 1 1 0\n",
            " 1 1 1 1 1 1 0 0 1 1 1 0 1 1 0 1 1 1 1 1 1 1 1 1 1 1 1 1 1 0 1 1 1 1 1 1 1\n",
            " 1 0 1 1 0 0 1 1 1 1 1 0 1 1 1 1 1 1 0 1 0 0 0 1 1 0 0 1 0 1 0 1 1 1 1 1 1\n",
            " 1 1 1 1 1 1 1 0 1 1 0 1 1 0 1 1 0 1 1 1 1 1 1 0 0 1 1 1 1 1 1 1 1 1 1 1 1\n",
            " 1 1 1 1 1 1 0 0 1 1 1 1 1 0 1 1 1 0 1 1 1 1 1 1 1 1 1 0 1 1 1 1 1 1 1 1 0\n",
            " 1 1 1 1 0 1 1 0 1 0 1 0 1 1 1 1 1 1 1 1 1 0 1 1 1 1 1 1 0 1 1 1]\n",
            "{0: 'Normal', 1: 'Pnemonia'}\n",
            "['Pnemonia', 'Pnemonia', 'Pnemonia', 'Normal', 'Normal', 'Pnemonia', 'Pnemonia', 'Normal', 'Pnemonia', 'Pnemonia', 'Pnemonia', 'Pnemonia', 'Pnemonia', 'Pnemonia', 'Pnemonia', 'Pnemonia', 'Pnemonia', 'Pnemonia', 'Pnemonia', 'Pnemonia', 'Pnemonia', 'Pnemonia', 'Normal', 'Normal', 'Pnemonia', 'Normal', 'Pnemonia', 'Pnemonia', 'Pnemonia', 'Normal', 'Normal', 'Normal', 'Pnemonia', 'Pnemonia', 'Normal', 'Pnemonia', 'Pnemonia', 'Pnemonia', 'Pnemonia', 'Pnemonia', 'Normal', 'Normal', 'Pnemonia', 'Pnemonia', 'Normal', 'Pnemonia', 'Normal', 'Pnemonia', 'Pnemonia', 'Pnemonia', 'Normal', 'Pnemonia', 'Pnemonia', 'Normal', 'Normal', 'Normal', 'Pnemonia', 'Normal', 'Pnemonia', 'Pnemonia', 'Pnemonia', 'Normal', 'Pnemonia', 'Pnemonia', 'Pnemonia', 'Pnemonia', 'Pnemonia', 'Pnemonia', 'Pnemonia', 'Pnemonia', 'Normal', 'Normal', 'Pnemonia', 'Normal', 'Pnemonia', 'Pnemonia', 'Pnemonia', 'Pnemonia', 'Pnemonia', 'Pnemonia', 'Pnemonia', 'Pnemonia', 'Pnemonia', 'Normal', 'Pnemonia', 'Pnemonia', 'Pnemonia', 'Pnemonia', 'Pnemonia', 'Pnemonia', 'Normal', 'Pnemonia', 'Pnemonia', 'Pnemonia', 'Pnemonia', 'Pnemonia', 'Normal', 'Pnemonia', 'Pnemonia', 'Pnemonia', 'Pnemonia', 'Pnemonia', 'Pnemonia', 'Pnemonia', 'Pnemonia', 'Pnemonia', 'Pnemonia', 'Normal', 'Pnemonia', 'Pnemonia', 'Pnemonia', 'Pnemonia', 'Normal', 'Pnemonia', 'Pnemonia', 'Normal', 'Pnemonia', 'Pnemonia', 'Pnemonia', 'Normal', 'Pnemonia', 'Normal', 'Pnemonia', 'Pnemonia', 'Pnemonia', 'Pnemonia', 'Pnemonia', 'Pnemonia', 'Normal', 'Pnemonia', 'Pnemonia', 'Pnemonia', 'Pnemonia', 'Pnemonia', 'Normal', 'Pnemonia', 'Pnemonia', 'Pnemonia', 'Normal', 'Normal', 'Pnemonia', 'Pnemonia', 'Pnemonia', 'Pnemonia', 'Pnemonia', 'Normal', 'Pnemonia', 'Normal', 'Pnemonia', 'Normal', 'Pnemonia', 'Pnemonia', 'Pnemonia', 'Pnemonia', 'Pnemonia', 'Normal', 'Pnemonia', 'Normal', 'Pnemonia', 'Pnemonia', 'Pnemonia', 'Pnemonia', 'Pnemonia', 'Pnemonia', 'Pnemonia', 'Pnemonia', 'Pnemonia', 'Pnemonia', 'Normal', 'Normal', 'Pnemonia', 'Pnemonia', 'Pnemonia', 'Normal', 'Pnemonia', 'Pnemonia', 'Pnemonia', 'Pnemonia', 'Normal', 'Pnemonia', 'Normal', 'Pnemonia', 'Pnemonia', 'Pnemonia', 'Pnemonia', 'Pnemonia', 'Pnemonia', 'Pnemonia', 'Pnemonia', 'Pnemonia', 'Normal', 'Pnemonia', 'Pnemonia', 'Pnemonia', 'Normal', 'Pnemonia', 'Normal', 'Pnemonia', 'Pnemonia', 'Pnemonia', 'Normal', 'Pnemonia', 'Pnemonia', 'Pnemonia', 'Pnemonia', 'Pnemonia', 'Pnemonia', 'Pnemonia', 'Normal', 'Pnemonia', 'Pnemonia', 'Pnemonia', 'Normal', 'Pnemonia', 'Pnemonia', 'Pnemonia', 'Pnemonia', 'Pnemonia', 'Normal', 'Pnemonia', 'Pnemonia', 'Pnemonia', 'Normal', 'Pnemonia', 'Pnemonia', 'Pnemonia', 'Pnemonia', 'Pnemonia', 'Pnemonia', 'Pnemonia', 'Pnemonia', 'Pnemonia', 'Pnemonia', 'Normal', 'Pnemonia', 'Pnemonia', 'Pnemonia', 'Pnemonia', 'Pnemonia', 'Pnemonia', 'Pnemonia', 'Pnemonia', 'Pnemonia', 'Pnemonia', 'Pnemonia', 'Normal', 'Pnemonia', 'Pnemonia', 'Pnemonia', 'Pnemonia', 'Pnemonia', 'Pnemonia', 'Pnemonia', 'Pnemonia', 'Pnemonia', 'Pnemonia', 'Normal', 'Normal', 'Pnemonia', 'Pnemonia', 'Pnemonia', 'Pnemonia', 'Pnemonia', 'Pnemonia', 'Pnemonia', 'Normal', 'Pnemonia', 'Normal', 'Pnemonia', 'Pnemonia', 'Pnemonia', 'Normal', 'Normal', 'Pnemonia', 'Normal', 'Pnemonia', 'Pnemonia', 'Pnemonia', 'Pnemonia', 'Pnemonia', 'Pnemonia', 'Pnemonia', 'Pnemonia', 'Pnemonia', 'Pnemonia', 'Pnemonia', 'Pnemonia', 'Pnemonia', 'Pnemonia', 'Pnemonia', 'Normal', 'Pnemonia', 'Pnemonia', 'Pnemonia', 'Pnemonia', 'Pnemonia', 'Pnemonia', 'Normal', 'Normal', 'Pnemonia', 'Normal', 'Pnemonia', 'Pnemonia', 'Normal', 'Pnemonia', 'Pnemonia', 'Pnemonia', 'Pnemonia', 'Pnemonia', 'Pnemonia', 'Normal', 'Normal', 'Pnemonia', 'Normal', 'Pnemonia', 'Pnemonia', 'Pnemonia', 'Pnemonia', 'Pnemonia', 'Normal', 'Pnemonia', 'Pnemonia', 'Normal', 'Normal', 'Pnemonia', 'Pnemonia', 'Normal', 'Pnemonia', 'Pnemonia', 'Pnemonia', 'Pnemonia', 'Pnemonia', 'Pnemonia', 'Normal', 'Pnemonia', 'Pnemonia', 'Pnemonia', 'Normal', 'Normal', 'Pnemonia', 'Pnemonia', 'Pnemonia', 'Pnemonia', 'Pnemonia', 'Pnemonia', 'Pnemonia', 'Pnemonia', 'Pnemonia', 'Pnemonia', 'Pnemonia', 'Normal', 'Pnemonia', 'Pnemonia', 'Pnemonia', 'Pnemonia', 'Pnemonia', 'Pnemonia', 'Pnemonia', 'Normal', 'Normal', 'Pnemonia', 'Pnemonia', 'Pnemonia', 'Pnemonia', 'Pnemonia', 'Pnemonia', 'Pnemonia', 'Pnemonia', 'Pnemonia', 'Pnemonia', 'Pnemonia', 'Pnemonia', 'Pnemonia', 'Pnemonia', 'Pnemonia', 'Pnemonia', 'Normal', 'Pnemonia', 'Pnemonia', 'Normal', 'Pnemonia', 'Normal', 'Pnemonia', 'Pnemonia', 'Pnemonia', 'Pnemonia', 'Pnemonia', 'Pnemonia', 'Pnemonia', 'Pnemonia', 'Pnemonia', 'Normal', 'Pnemonia', 'Pnemonia', 'Normal', 'Pnemonia', 'Pnemonia', 'Pnemonia', 'Pnemonia', 'Pnemonia', 'Pnemonia', 'Pnemonia', 'Pnemonia', 'Pnemonia', 'Pnemonia', 'Pnemonia', 'Pnemonia', 'Pnemonia', 'Pnemonia', 'Pnemonia', 'Normal', 'Pnemonia', 'Normal', 'Pnemonia', 'Pnemonia', 'Pnemonia', 'Pnemonia', 'Pnemonia', 'Pnemonia', 'Normal', 'Pnemonia', 'Normal', 'Pnemonia', 'Pnemonia', 'Pnemonia', 'Pnemonia', 'Normal', 'Pnemonia', 'Normal', 'Pnemonia', 'Pnemonia', 'Pnemonia', 'Pnemonia', 'Pnemonia', 'Pnemonia', 'Normal', 'Pnemonia', 'Normal', 'Pnemonia', 'Pnemonia', 'Pnemonia', 'Pnemonia', 'Pnemonia', 'Normal', 'Pnemonia', 'Pnemonia', 'Pnemonia', 'Pnemonia', 'Pnemonia', 'Pnemonia', 'Normal', 'Normal', 'Pnemonia', 'Pnemonia', 'Pnemonia', 'Normal', 'Pnemonia', 'Pnemonia', 'Normal', 'Pnemonia', 'Pnemonia', 'Pnemonia', 'Pnemonia', 'Pnemonia', 'Pnemonia', 'Pnemonia', 'Pnemonia', 'Pnemonia', 'Pnemonia', 'Pnemonia', 'Pnemonia', 'Pnemonia', 'Pnemonia', 'Normal', 'Pnemonia', 'Pnemonia', 'Pnemonia', 'Pnemonia', 'Pnemonia', 'Pnemonia', 'Pnemonia', 'Pnemonia', 'Normal', 'Pnemonia', 'Pnemonia', 'Normal', 'Normal', 'Pnemonia', 'Pnemonia', 'Pnemonia', 'Pnemonia', 'Pnemonia', 'Normal', 'Pnemonia', 'Pnemonia', 'Pnemonia', 'Pnemonia', 'Pnemonia', 'Pnemonia', 'Normal', 'Pnemonia', 'Normal', 'Normal', 'Normal', 'Pnemonia', 'Pnemonia', 'Normal', 'Normal', 'Pnemonia', 'Normal', 'Pnemonia', 'Normal', 'Pnemonia', 'Pnemonia', 'Pnemonia', 'Pnemonia', 'Pnemonia', 'Pnemonia', 'Pnemonia', 'Pnemonia', 'Pnemonia', 'Pnemonia', 'Pnemonia', 'Pnemonia', 'Pnemonia', 'Normal', 'Pnemonia', 'Pnemonia', 'Normal', 'Pnemonia', 'Pnemonia', 'Normal', 'Pnemonia', 'Pnemonia', 'Normal', 'Pnemonia', 'Pnemonia', 'Pnemonia', 'Pnemonia', 'Pnemonia', 'Pnemonia', 'Normal', 'Normal', 'Pnemonia', 'Pnemonia', 'Pnemonia', 'Pnemonia', 'Pnemonia', 'Pnemonia', 'Pnemonia', 'Pnemonia', 'Pnemonia', 'Pnemonia', 'Pnemonia', 'Pnemonia', 'Pnemonia', 'Pnemonia', 'Pnemonia', 'Pnemonia', 'Pnemonia', 'Pnemonia', 'Normal', 'Normal', 'Pnemonia', 'Pnemonia', 'Pnemonia', 'Pnemonia', 'Pnemonia', 'Normal', 'Pnemonia', 'Pnemonia', 'Pnemonia', 'Normal', 'Pnemonia', 'Pnemonia', 'Pnemonia', 'Pnemonia', 'Pnemonia', 'Pnemonia', 'Pnemonia', 'Pnemonia', 'Pnemonia', 'Normal', 'Pnemonia', 'Pnemonia', 'Pnemonia', 'Pnemonia', 'Pnemonia', 'Pnemonia', 'Pnemonia', 'Pnemonia', 'Normal', 'Pnemonia', 'Pnemonia', 'Pnemonia', 'Pnemonia', 'Normal', 'Pnemonia', 'Pnemonia', 'Normal', 'Pnemonia', 'Normal', 'Pnemonia', 'Normal', 'Pnemonia', 'Pnemonia', 'Pnemonia', 'Pnemonia', 'Pnemonia', 'Pnemonia', 'Pnemonia', 'Pnemonia', 'Pnemonia', 'Normal', 'Pnemonia', 'Pnemonia', 'Pnemonia', 'Pnemonia', 'Pnemonia', 'Pnemonia', 'Normal', 'Pnemonia', 'Pnemonia', 'Pnemonia']\n",
            "[[ 54  75]\n",
            " [180 315]]\n"
          ]
        }
      ]
    },
    {
      "cell_type": "code",
      "source": [
        "import seaborn as sns\n",
        "\n",
        "group_names = ['True Normal','False Normal','False Pneumonia','True Pneumonia']\n",
        "group_counts = ['{0:0.0f}'.format(value) for value in\n",
        "                cf_matrix.flatten()]\n",
        "group_percentages = ['{0:.2%}'.format(value) for value in\n",
        "                     cf_matrix.flatten()/np.sum(cf_matrix)]\n",
        "labels = [f'{v1}\\n{v2}\\n{v3}' for v1, v2, v3 in\n",
        "          zip(group_names,group_counts,group_percentages)]\n",
        "labels = np.asarray(labels).reshape(2,2)\n",
        "sns.heatmap(cf_matrix, annot=labels, fmt='', cmap='Blues')"
      ],
      "metadata": {
        "colab": {
          "base_uri": "https://localhost:8080/",
          "height": 282
        },
        "id": "CpRYX9D5Hn3B",
        "outputId": "b614c6f0-7f0f-41b0-f87e-7fc9e6e333c6"
      },
      "execution_count": 20,
      "outputs": [
        {
          "output_type": "execute_result",
          "data": {
            "text/plain": [
              "<matplotlib.axes._subplots.AxesSubplot at 0x7fd4a255d390>"
            ]
          },
          "metadata": {},
          "execution_count": 20
        },
        {
          "output_type": "display_data",
          "data": {
            "image/png": "[encoded data removed]",
            "text/plain": [
              "<Figure size 432x288 with 2 Axes>"
            ]
          },
          "metadata": {
            "needs_background": "light"
          }
        }
      ]
    },
    {
      "cell_type": "markdown",
      "metadata": {
        "id": "mGQm4_VcKPW0"
      },
      "source": [
        "12/5: Training all of the data took about 25 min. Model accuracy was 85%. Took a subset to make modeling faster. With a random set of 1000 for train and 10 for test, the model was 65% accurate. The random train samples were about 75% pnemonia. So I manipulated train and made it 50/50 norm/pnemonia, and the model ended up being 55% accurate -- why less? Why does model_evaluate have different scores than fit? For the original random small data, the test data ended up guessing everything was Pnemonia. The new model has a confusion matrix of [15, 16][22, 47]. So accuray = 62%. That's better.\n",
        "\n",
        "These smaller models take about 7 min to run. "
      ]
    },
    {
      "cell_type": "code",
      "metadata": {
        "id": "IyN0u3M7wIJM",
        "colab": {
          "base_uri": "https://localhost:8080/"
        },
        "outputId": "26b5b29d-70a0-4298-ba1d-74eefeb33de5"
      },
      "source": [
        "# Create CNN model_1 - predict Pneumonia vs normal\n",
        "model_1 = Sequential()\n",
        "Input_shape=(None, 256, 256, 3)\n",
        "model_1.add(Conv2D(32, kernel_size=(2,2), padding=\"same\", activation='relu', input_shape=Input_shape[1:]))\n",
        "model_1.add(MaxPooling2D())\n",
        "model_1.add(Conv2D(16, kernel_size=(2,2), padding=\"same\", activation='relu'))\n",
        "model_1.add(MaxPooling2D())\n",
        "model_1.add(Flatten())\n",
        "model_1.add(Dense(2, activation='softmax'))\n",
        "model_1.compile(optimizer='adam',\n",
        "              loss='categorical_crossentropy',\n",
        "              metrics=['accuracy'])\n",
        "model_1.summary()\n",
        "hist_1 = model_1.fit(train_batches, epochs = 10)\n",
        "\n",
        "# use default for MaxPool2D - higher pool_size means further reduction of parameters"
      ],
      "execution_count": 21,
      "outputs": [
        {
          "output_type": "stream",
          "name": "stdout",
          "text": [
            "Model: \"sequential_1\"\n",
            "_________________________________________________________________\n",
            " Layer (type)                Output Shape              Param #   \n",
            "=================================================================\n",
            " conv2d_1 (Conv2D)           (None, 256, 256, 32)      416       \n",
            "                                                                 \n",
            " max_pooling2d_1 (MaxPooling  (None, 128, 128, 32)     0         \n",
            " 2D)                                                             \n",
            "                                                                 \n",
            " conv2d_2 (Conv2D)           (None, 128, 128, 16)      2064      \n",
            "                                                                 \n",
            " max_pooling2d_2 (MaxPooling  (None, 64, 64, 16)       0         \n",
            " 2D)                                                             \n",
            "                                                                 \n",
            " flatten_1 (Flatten)         (None, 65536)             0         \n",
            "                                                                 \n",
            " dense_1 (Dense)             (None, 2)                 131074    \n",
            "                                                                 \n",
            "=================================================================\n",
            "Total params: 133,554\n",
            "Trainable params: 133,554\n",
            "Non-trainable params: 0\n",
            "_________________________________________________________________\n",
            "Epoch 1/10\n",
            "149/149 [==============================] - 121s 809ms/step - loss: 23.0475 - accuracy: 0.7632\n",
            "Epoch 2/10\n",
            "149/149 [==============================] - 119s 801ms/step - loss: 0.4002 - accuracy: 0.8521\n",
            "Epoch 3/10\n",
            "149/149 [==============================] - 120s 804ms/step - loss: 0.3875 - accuracy: 0.8555\n",
            "Epoch 4/10\n",
            "149/149 [==============================] - 120s 801ms/step - loss: 0.3623 - accuracy: 0.8603\n",
            "Epoch 5/10\n",
            "149/149 [==============================] - 120s 803ms/step - loss: 0.4099 - accuracy: 0.8304\n",
            "Epoch 6/10\n",
            "149/149 [==============================] - 120s 802ms/step - loss: 0.3931 - accuracy: 0.8433\n",
            "Epoch 7/10\n",
            "149/149 [==============================] - 120s 802ms/step - loss: 0.3980 - accuracy: 0.8311\n",
            "Epoch 8/10\n",
            "149/149 [==============================] - 120s 803ms/step - loss: 0.4004 - accuracy: 0.8332\n",
            "Epoch 9/10\n",
            "149/149 [==============================] - 120s 803ms/step - loss: 0.3998 - accuracy: 0.8260\n",
            "Epoch 10/10\n",
            "149/149 [==============================] - 120s 803ms/step - loss: 0.3508 - accuracy: 0.8599\n"
          ]
        }
      ]
    },
    {
      "cell_type": "code",
      "source": [
        "pred_1 = model_1.predict(test_batches)\n",
        "predicted_class_indices_1=np.argmax(pred_1,axis=1)\n",
        "labels_1 = dict((v,k) for k,v in test_labels.items())\n",
        "predictions_1 = [labels_1[k] for k in predicted_class_indices_1]\n",
        "print(predicted_class_indices_1)\n",
        "print(labels_1)\n",
        "print(predictions_1)\n",
        "cf = confusion_matrix(predicted_class_indices_1,test_batches.classes)\n",
        "print(cf)\n",
        "\n",
        "group_names = ['True Normal','False Normal','False Pneumonia','True Pneumonia']\n",
        "group_counts = ['{0:0.0f}'.format(value) for value in\n",
        "                cf.flatten()]\n",
        "group_percentages = ['{0:.2%}'.format(value) for value in\n",
        "                     cf.flatten()/np.sum(cf)]\n",
        "labels = [f'{v1}\\n{v2}\\n{v3}' for v1, v2, v3 in\n",
        "          zip(group_names,group_counts,group_percentages)]\n",
        "labels = np.asarray(labels).reshape(2,2)\n",
        "sns.heatmap(cf, annot=labels, fmt='', cmap='Blues')"
      ],
      "metadata": {
        "colab": {
          "base_uri": "https://localhost:8080/",
          "height": 659
        },
        "id": "26JcKHct_4il",
        "outputId": "94f31357-506e-452b-996f-547663d6cc7f"
      },
      "execution_count": 22,
      "outputs": [
        {
          "output_type": "stream",
          "name": "stdout",
          "text": [
            "[0 0 1 1 1 1 1 0 0 1 0 1 1 1 1 1 0 1 1 1 1 1 1 1 1 0 0 1 0 0 1 1 0 1 0 1 0\n",
            " 1 0 1 1 1 1 1 1 1 1 1 1 1 1 1 1 1 1 1 1 1 1 0 1 0 0 1 1 1 0 1 1 0 1 0 1 1\n",
            " 1 1 1 1 0 1 1 1 1 1 1 1 1 0 0 1 0 1 1 1 1 1 1 1 1 1 0 1 1 1 0 1 1 1 1 0 1\n",
            " 1 0 1 1 1 0 1 1 1 1 1 0 0 1 1 1 1 1 1 0 1 1 1 0 1 1 1 0 0 1 1 1 1 1 1 1 1\n",
            " 1 1 1 0 0 1 1 1 0 1 1 1 1 1 1 1 1 1 1 1 1 1 1 0 1 1 1 1 1 0 1 1 1 1 1 1 1\n",
            " 1 1 0 1 0 1 1 1 1 1 1 0 1 0 0 1 1 1 1 1 1 1 1 1 1 1 0 1 0 1 0 1 1 1 1 1 0\n",
            " 1 1 1 1 1 1 1 1 0 1 1 1 0 1 1 1 1 1 1 1 1 1 1 1 0 1 1 1 1 1 0 0 1 0 1 1 1\n",
            " 1 1 1 1 1 1 1 1 0 0 1 1 0 1 1 1 0 0 1 1 1 1 0 0 1 1 1 1 1 1 1 1 0 0 1 1 0\n",
            " 0 1 1 1 1 1 1 1 1 1 1 1 0 1 1 1 0 1 0 1 1 1 1 1 0 1 1 1 1 1 1 1 1 0 1 1 1\n",
            " 1 1 1 0 1 1 1 1 1 1 1 1 1 1 0 0 1 0 1 1 1 0 1 1 0 1 1 1 1 0 0 1 0 0 1 1 1\n",
            " 1 1 1 1 1 1 0 1 1 1 1 1 1 0 0 1 1 1 1 0 1 0 1 0 1 0 1 1 1 1 1 1 1 1 0 0 1\n",
            " 1 1 1 0 1 1 1 0 0 1 0 1 1 1 1 1 1 0 1 0 0 1 0 1 1 0 0 1 1 1 0 0 0 1 0 1 1\n",
            " 1 1 0 1 1 1 1 1 1 0 1 1 1 1 1 1 0 0 0 1 1 0 1 0 1 1 0 1 0 1 1 0 0 1 0 1 0\n",
            " 1 0 1 1 1 0 0 0 0 1 1 0 1 1 1 1 1 1 0 1 1 1 1 1 1 1 0 1 1 1 0 1 1 0 1 1 1\n",
            " 1 1 1 0 0 1 0 0 1 1 1 0 1 1 1 1 1 1 0 1 1 0 1 1 1 1 0 1 0 1 1 1 1 1 1 0 1\n",
            " 1 1 1 1 1 0 1 1 1 1 1 1 0 1 1 1 1 1 1 0 1 1 1 1 1 1 1 0 1 0 1 1 1 1 1 1 0\n",
            " 1 1 0 1 1 1 0 1 1 1 1 1 1 0 1 1 0 1 0 1 1 0 1 1 1 1 0 0 0 1 1 0]\n",
            "{0: 'Normal', 1: 'Pnemonia'}\n",
            "['Normal', 'Normal', 'Pnemonia', 'Pnemonia', 'Pnemonia', 'Pnemonia', 'Pnemonia', 'Normal', 'Normal', 'Pnemonia', 'Normal', 'Pnemonia', 'Pnemonia', 'Pnemonia', 'Pnemonia', 'Pnemonia', 'Normal', 'Pnemonia', 'Pnemonia', 'Pnemonia', 'Pnemonia', 'Pnemonia', 'Pnemonia', 'Pnemonia', 'Pnemonia', 'Normal', 'Normal', 'Pnemonia', 'Normal', 'Normal', 'Pnemonia', 'Pnemonia', 'Normal', 'Pnemonia', 'Normal', 'Pnemonia', 'Normal', 'Pnemonia', 'Normal', 'Pnemonia', 'Pnemonia', 'Pnemonia', 'Pnemonia', 'Pnemonia', 'Pnemonia', 'Pnemonia', 'Pnemonia', 'Pnemonia', 'Pnemonia', 'Pnemonia', 'Pnemonia', 'Pnemonia', 'Pnemonia', 'Pnemonia', 'Pnemonia', 'Pnemonia', 'Pnemonia', 'Pnemonia', 'Pnemonia', 'Normal', 'Pnemonia', 'Normal', 'Normal', 'Pnemonia', 'Pnemonia', 'Pnemonia', 'Normal', 'Pnemonia', 'Pnemonia', 'Normal', 'Pnemonia', 'Normal', 'Pnemonia', 'Pnemonia', 'Pnemonia', 'Pnemonia', 'Pnemonia', 'Pnemonia', 'Normal', 'Pnemonia', 'Pnemonia', 'Pnemonia', 'Pnemonia', 'Pnemonia', 'Pnemonia', 'Pnemonia', 'Pnemonia', 'Normal', 'Normal', 'Pnemonia', 'Normal', 'Pnemonia', 'Pnemonia', 'Pnemonia', 'Pnemonia', 'Pnemonia', 'Pnemonia', 'Pnemonia', 'Pnemonia', 'Pnemonia', 'Normal', 'Pnemonia', 'Pnemonia', 'Pnemonia', 'Normal', 'Pnemonia', 'Pnemonia', 'Pnemonia', 'Pnemonia', 'Normal', 'Pnemonia', 'Pnemonia', 'Normal', 'Pnemonia', 'Pnemonia', 'Pnemonia', 'Normal', 'Pnemonia', 'Pnemonia', 'Pnemonia', 'Pnemonia', 'Pnemonia', 'Normal', 'Normal', 'Pnemonia', 'Pnemonia', 'Pnemonia', 'Pnemonia', 'Pnemonia', 'Pnemonia', 'Normal', 'Pnemonia', 'Pnemonia', 'Pnemonia', 'Normal', 'Pnemonia', 'Pnemonia', 'Pnemonia', 'Normal', 'Normal', 'Pnemonia', 'Pnemonia', 'Pnemonia', 'Pnemonia', 'Pnemonia', 'Pnemonia', 'Pnemonia', 'Pnemonia', 'Pnemonia', 'Pnemonia', 'Pnemonia', 'Normal', 'Normal', 'Pnemonia', 'Pnemonia', 'Pnemonia', 'Normal', 'Pnemonia', 'Pnemonia', 'Pnemonia', 'Pnemonia', 'Pnemonia', 'Pnemonia', 'Pnemonia', 'Pnemonia', 'Pnemonia', 'Pnemonia', 'Pnemonia', 'Pnemonia', 'Pnemonia', 'Pnemonia', 'Normal', 'Pnemonia', 'Pnemonia', 'Pnemonia', 'Pnemonia', 'Pnemonia', 'Normal', 'Pnemonia', 'Pnemonia', 'Pnemonia', 'Pnemonia', 'Pnemonia', 'Pnemonia', 'Pnemonia', 'Pnemonia', 'Pnemonia', 'Normal', 'Pnemonia', 'Normal', 'Pnemonia', 'Pnemonia', 'Pnemonia', 'Pnemonia', 'Pnemonia', 'Pnemonia', 'Normal', 'Pnemonia', 'Normal', 'Normal', 'Pnemonia', 'Pnemonia', 'Pnemonia', 'Pnemonia', 'Pnemonia', 'Pnemonia', 'Pnemonia', 'Pnemonia', 'Pnemonia', 'Pnemonia', 'Pnemonia', 'Normal', 'Pnemonia', 'Normal', 'Pnemonia', 'Normal', 'Pnemonia', 'Pnemonia', 'Pnemonia', 'Pnemonia', 'Pnemonia', 'Normal', 'Pnemonia', 'Pnemonia', 'Pnemonia', 'Pnemonia', 'Pnemonia', 'Pnemonia', 'Pnemonia', 'Pnemonia', 'Normal', 'Pnemonia', 'Pnemonia', 'Pnemonia', 'Normal', 'Pnemonia', 'Pnemonia', 'Pnemonia', 'Pnemonia', 'Pnemonia', 'Pnemonia', 'Pnemonia', 'Pnemonia', 'Pnemonia', 'Pnemonia', 'Pnemonia', 'Normal', 'Pnemonia', 'Pnemonia', 'Pnemonia', 'Pnemonia', 'Pnemonia', 'Normal', 'Normal', 'Pnemonia', 'Normal', 'Pnemonia', 'Pnemonia', 'Pnemonia', 'Pnemonia', 'Pnemonia', 'Pnemonia', 'Pnemonia', 'Pnemonia', 'Pnemonia', 'Pnemonia', 'Pnemonia', 'Normal', 'Normal', 'Pnemonia', 'Pnemonia', 'Normal', 'Pnemonia', 'Pnemonia', 'Pnemonia', 'Normal', 'Normal', 'Pnemonia', 'Pnemonia', 'Pnemonia', 'Pnemonia', 'Normal', 'Normal', 'Pnemonia', 'Pnemonia', 'Pnemonia', 'Pnemonia', 'Pnemonia', 'Pnemonia', 'Pnemonia', 'Pnemonia', 'Normal', 'Normal', 'Pnemonia', 'Pnemonia', 'Normal', 'Normal', 'Pnemonia', 'Pnemonia', 'Pnemonia', 'Pnemonia', 'Pnemonia', 'Pnemonia', 'Pnemonia', 'Pnemonia', 'Pnemonia', 'Pnemonia', 'Pnemonia', 'Normal', 'Pnemonia', 'Pnemonia', 'Pnemonia', 'Normal', 'Pnemonia', 'Normal', 'Pnemonia', 'Pnemonia', 'Pnemonia', 'Pnemonia', 'Pnemonia', 'Normal', 'Pnemonia', 'Pnemonia', 'Pnemonia', 'Pnemonia', 'Pnemonia', 'Pnemonia', 'Pnemonia', 'Pnemonia', 'Normal', 'Pnemonia', 'Pnemonia', 'Pnemonia', 'Pnemonia', 'Pnemonia', 'Pnemonia', 'Normal', 'Pnemonia', 'Pnemonia', 'Pnemonia', 'Pnemonia', 'Pnemonia', 'Pnemonia', 'Pnemonia', 'Pnemonia', 'Pnemonia', 'Pnemonia', 'Normal', 'Normal', 'Pnemonia', 'Normal', 'Pnemonia', 'Pnemonia', 'Pnemonia', 'Normal', 'Pnemonia', 'Pnemonia', 'Normal', 'Pnemonia', 'Pnemonia', 'Pnemonia', 'Pnemonia', 'Normal', 'Normal', 'Pnemonia', 'Normal', 'Normal', 'Pnemonia', 'Pnemonia', 'Pnemonia', 'Pnemonia', 'Pnemonia', 'Pnemonia', 'Pnemonia', 'Pnemonia', 'Pnemonia', 'Normal', 'Pnemonia', 'Pnemonia', 'Pnemonia', 'Pnemonia', 'Pnemonia', 'Pnemonia', 'Normal', 'Normal', 'Pnemonia', 'Pnemonia', 'Pnemonia', 'Pnemonia', 'Normal', 'Pnemonia', 'Normal', 'Pnemonia', 'Normal', 'Pnemonia', 'Normal', 'Pnemonia', 'Pnemonia', 'Pnemonia', 'Pnemonia', 'Pnemonia', 'Pnemonia', 'Pnemonia', 'Pnemonia', 'Normal', 'Normal', 'Pnemonia', 'Pnemonia', 'Pnemonia', 'Pnemonia', 'Normal', 'Pnemonia', 'Pnemonia', 'Pnemonia', 'Normal', 'Normal', 'Pnemonia', 'Normal', 'Pnemonia', 'Pnemonia', 'Pnemonia', 'Pnemonia', 'Pnemonia', 'Pnemonia', 'Normal', 'Pnemonia', 'Normal', 'Normal', 'Pnemonia', 'Normal', 'Pnemonia', 'Pnemonia', 'Normal', 'Normal', 'Pnemonia', 'Pnemonia', 'Pnemonia', 'Normal', 'Normal', 'Normal', 'Pnemonia', 'Normal', 'Pnemonia', 'Pnemonia', 'Pnemonia', 'Pnemonia', 'Normal', 'Pnemonia', 'Pnemonia', 'Pnemonia', 'Pnemonia', 'Pnemonia', 'Pnemonia', 'Normal', 'Pnemonia', 'Pnemonia', 'Pnemonia', 'Pnemonia', 'Pnemonia', 'Pnemonia', 'Normal', 'Normal', 'Normal', 'Pnemonia', 'Pnemonia', 'Normal', 'Pnemonia', 'Normal', 'Pnemonia', 'Pnemonia', 'Normal', 'Pnemonia', 'Normal', 'Pnemonia', 'Pnemonia', 'Normal', 'Normal', 'Pnemonia', 'Normal', 'Pnemonia', 'Normal', 'Pnemonia', 'Normal', 'Pnemonia', 'Pnemonia', 'Pnemonia', 'Normal', 'Normal', 'Normal', 'Normal', 'Pnemonia', 'Pnemonia', 'Normal', 'Pnemonia', 'Pnemonia', 'Pnemonia', 'Pnemonia', 'Pnemonia', 'Pnemonia', 'Normal', 'Pnemonia', 'Pnemonia', 'Pnemonia', 'Pnemonia', 'Pnemonia', 'Pnemonia', 'Pnemonia', 'Normal', 'Pnemonia', 'Pnemonia', 'Pnemonia', 'Normal', 'Pnemonia', 'Pnemonia', 'Normal', 'Pnemonia', 'Pnemonia', 'Pnemonia', 'Pnemonia', 'Pnemonia', 'Pnemonia', 'Normal', 'Normal', 'Pnemonia', 'Normal', 'Normal', 'Pnemonia', 'Pnemonia', 'Pnemonia', 'Normal', 'Pnemonia', 'Pnemonia', 'Pnemonia', 'Pnemonia', 'Pnemonia', 'Pnemonia', 'Normal', 'Pnemonia', 'Pnemonia', 'Normal', 'Pnemonia', 'Pnemonia', 'Pnemonia', 'Pnemonia', 'Normal', 'Pnemonia', 'Normal', 'Pnemonia', 'Pnemonia', 'Pnemonia', 'Pnemonia', 'Pnemonia', 'Pnemonia', 'Normal', 'Pnemonia', 'Pnemonia', 'Pnemonia', 'Pnemonia', 'Pnemonia', 'Pnemonia', 'Normal', 'Pnemonia', 'Pnemonia', 'Pnemonia', 'Pnemonia', 'Pnemonia', 'Pnemonia', 'Normal', 'Pnemonia', 'Pnemonia', 'Pnemonia', 'Pnemonia', 'Pnemonia', 'Pnemonia', 'Normal', 'Pnemonia', 'Pnemonia', 'Pnemonia', 'Pnemonia', 'Pnemonia', 'Pnemonia', 'Pnemonia', 'Normal', 'Pnemonia', 'Normal', 'Pnemonia', 'Pnemonia', 'Pnemonia', 'Pnemonia', 'Pnemonia', 'Pnemonia', 'Normal', 'Pnemonia', 'Pnemonia', 'Normal', 'Pnemonia', 'Pnemonia', 'Pnemonia', 'Normal', 'Pnemonia', 'Pnemonia', 'Pnemonia', 'Pnemonia', 'Pnemonia', 'Pnemonia', 'Normal', 'Pnemonia', 'Pnemonia', 'Normal', 'Pnemonia', 'Normal', 'Pnemonia', 'Pnemonia', 'Normal', 'Pnemonia', 'Pnemonia', 'Pnemonia', 'Pnemonia', 'Normal', 'Normal', 'Normal', 'Pnemonia', 'Pnemonia', 'Normal']\n",
            "[[ 50 103]\n",
            " [184 287]]\n"
          ]
        },
        {
          "output_type": "execute_result",
          "data": {
            "text/plain": [
              "<matplotlib.axes._subplots.AxesSubplot at 0x7fd4a22ba710>"
            ]
          },
          "metadata": {},
          "execution_count": 22
        },
        {
          "output_type": "display_data",
          "data": {
            "image/png": "[encoded data removed]",
            "text/plain": [
              "<Figure size 432x288 with 2 Axes>"
            ]
          },
          "metadata": {
            "needs_background": "light"
          }
        }
      ]
    },
    {
      "cell_type": "code",
      "source": [
        "model_2 = Sequential()\n",
        "Input_shape=(None, 256, 256, 3)\n",
        "model_2.add(Conv2D(32, kernel_size=(2,2), padding=\"same\", activation='relu', input_shape=Input_shape[1:]))\n",
        "model_2.add(MaxPooling2D())\n",
        "model_2.add(Conv2D(64, kernel_size=(2,2), padding=\"same\", activation='relu'))\n",
        "model_2.add(MaxPooling2D())\n",
        "model_2.add(Conv2D(32, kernel_size=(2,2), padding=\"same\", activation='relu'))\n",
        "model_2.add(MaxPooling2D())\n",
        "model_2.add(Conv2D(16, kernel_size=(2,2), padding=\"same\", activation='relu'))\n",
        "model_2.add(MaxPooling2D())\n",
        "model_2.add(Flatten())\n",
        "model_2.add(Dense(2, activation='softmax'))\n",
        "model_2.compile(optimizer='adam',\n",
        "              loss='categorical_crossentropy',\n",
        "              metrics=['accuracy'])\n",
        "model_2.summary()\n",
        "hist_2 = model_2.fit(train_batches, epochs = 10)\n",
        "\n",
        "pred_2 = model_2.predict(test_batches)\n",
        "predicted_class_indices_2=np.argmax(pred_2,axis=1)\n",
        "labels_2 = dict((v,k) for k,v in test_labels.items())\n",
        "predictions_2 = [labels_2[k] for k in predicted_class_indices_2]\n",
        "print(predicted_class_indices_2)\n",
        "print(labels_2)\n",
        "print(predictions_2)\n",
        "cf2 = confusion_matrix(predicted_class_indices_2,test_batches.classes)\n",
        "print(cf2)\n",
        "\n",
        "group_names = ['True Normal','False Normal','False Pneumonia','True Pneumonia']\n",
        "group_counts = ['{0:0.0f}'.format(value) for value in\n",
        "                cf2.flatten()]\n",
        "group_percentages = ['{0:.2%}'.format(value) for value in\n",
        "                     cf2.flatten()/np.sum(cf2)]\n",
        "labels = [f'{v1}\\n{v2}\\n{v3}' for v1, v2, v3 in\n",
        "          zip(group_names,group_counts,group_percentages)]\n",
        "labels = np.asarray(labels).reshape(2,2)\n",
        "sns.heatmap(cf2, annot=labels, fmt='', cmap='Blues')"
      ],
      "metadata": {
        "colab": {
          "base_uri": "https://localhost:8080/",
          "height": 1000
        },
        "id": "5viJU3Xc3icI",
        "outputId": "82f297cd-777c-4756-f00a-f1af48355d2e"
      },
      "execution_count": 23,
      "outputs": [
        {
          "output_type": "stream",
          "name": "stdout",
          "text": [
            "Model: \"sequential_2\"\n",
            "_________________________________________________________________\n",
            " Layer (type)                Output Shape              Param #   \n",
            "=================================================================\n",
            " conv2d_3 (Conv2D)           (None, 256, 256, 32)      416       \n",
            "                                                                 \n",
            " max_pooling2d_3 (MaxPooling  (None, 128, 128, 32)     0         \n",
            " 2D)                                                             \n",
            "                                                                 \n",
            " conv2d_4 (Conv2D)           (None, 128, 128, 64)      8256      \n",
            "                                                                 \n",
            " max_pooling2d_4 (MaxPooling  (None, 64, 64, 64)       0         \n",
            " 2D)                                                             \n",
            "                                                                 \n",
            " conv2d_5 (Conv2D)           (None, 64, 64, 32)        8224      \n",
            "                                                                 \n",
            " max_pooling2d_5 (MaxPooling  (None, 32, 32, 32)       0         \n",
            " 2D)                                                             \n",
            "                                                                 \n",
            " conv2d_6 (Conv2D)           (None, 32, 32, 16)        2064      \n",
            "                                                                 \n",
            " max_pooling2d_6 (MaxPooling  (None, 16, 16, 16)       0         \n",
            " 2D)                                                             \n",
            "                                                                 \n",
            " flatten_2 (Flatten)         (None, 4096)              0         \n",
            "                                                                 \n",
            " dense_2 (Dense)             (None, 2)                 8194      \n",
            "                                                                 \n",
            "=================================================================\n",
            "Total params: 27,154\n",
            "Trainable params: 27,154\n",
            "Non-trainable params: 0\n",
            "_________________________________________________________________\n",
            "Epoch 1/10\n",
            "149/149 [==============================] - 122s 807ms/step - loss: 1.7482 - accuracy: 0.7704\n",
            "Epoch 2/10\n",
            "149/149 [==============================] - 123s 823ms/step - loss: 0.2738 - accuracy: 0.8831\n",
            "Epoch 3/10\n",
            "149/149 [==============================] - 121s 810ms/step - loss: 0.2660 - accuracy: 0.8879\n",
            "Epoch 4/10\n",
            "149/149 [==============================] - 121s 809ms/step - loss: 0.2512 - accuracy: 0.8978\n",
            "Epoch 5/10\n",
            "149/149 [==============================] - 121s 814ms/step - loss: 0.2279 - accuracy: 0.9048\n",
            "Epoch 6/10\n",
            "149/149 [==============================] - 121s 813ms/step - loss: 0.2295 - accuracy: 0.9094\n",
            "Epoch 7/10\n",
            "149/149 [==============================] - 122s 816ms/step - loss: 0.2147 - accuracy: 0.9094\n",
            "Epoch 8/10\n",
            "149/149 [==============================] - 122s 816ms/step - loss: 0.1965 - accuracy: 0.9204\n",
            "Epoch 9/10\n",
            "149/149 [==============================] - 122s 815ms/step - loss: 0.2008 - accuracy: 0.9204\n",
            "Epoch 10/10\n",
            "149/149 [==============================] - 121s 812ms/step - loss: 0.1962 - accuracy: 0.9248\n",
            "[1 1 0 0 0 1 0 1 1 0 1 1 0 1 1 1 0 0 1 0 1 0 1 0 1 0 0 1 1 0 1 1 1 0 1 0 1\n",
            " 0 1 0 1 1 1 1 0 1 0 1 1 1 1 1 1 0 1 1 1 1 1 0 1 0 1 0 1 1 1 1 1 1 0 1 1 1\n",
            " 1 1 0 0 1 1 1 1 1 1 1 0 0 0 1 0 1 1 1 1 1 1 1 1 0 0 1 1 0 0 1 0 1 1 1 1 0\n",
            " 0 1 1 1 1 1 0 1 1 1 1 1 0 0 1 1 1 0 1 0 1 1 1 1 0 1 1 1 1 1 1 0 1 1 1 0 1\n",
            " 0 0 0 1 1 1 1 1 0 1 1 1 1 1 0 1 1 1 1 1 1 0 1 1 1 1 0 0 1 1 0 1 1 0 1 1 1\n",
            " 1 1 0 1 1 1 1 0 1 0 1 1 1 0 1 1 0 1 1 1 1 1 0 1 0 1 1 1 1 1 0 1 0 1 0 0 1\n",
            " 0 0 0 1 1 1 1 1 1 1 1 1 0 0 0 1 0 1 0 1 1 0 0 0 0 0 1 1 1 1 1 1 1 1 1 0 1\n",
            " 1 1 0 0 1 1 1 0 0 0 1 0 1 1 0 1 1 1 0 0 0 1 0 1 1 0 1 0 0 1 0 1 1 0 1 1 0\n",
            " 1 0 0 1 1 0 1 1 1 1 1 1 0 1 1 0 1 1 1 0 1 1 1 1 1 0 1 1 0 1 1 1 1 1 1 0 1\n",
            " 1 1 1 1 1 1 1 1 1 1 1 1 1 1 0 1 0 1 1 1 1 1 1 0 0 0 1 1 1 1 1 1 1 0 1 1 1\n",
            " 1 1 0 1 0 0 1 1 0 1 0 0 0 1 0 1 1 0 0 1 1 1 1 0 1 1 1 0 1 0 1 1 1 1 1 0 1\n",
            " 0 1 1 1 1 0 1 1 1 1 1 1 1 1 1 1 1 1 1 1 1 1 0 1 1 0 0 1 0 1 1 0 0 1 1 1 1\n",
            " 1 1 0 1 1 0 1 1 1 1 1 1 1 0 0 0 0 0 0 1 0 1 0 1 1 1 1 0 1 0 0 1 1 1 1 1 1\n",
            " 1 0 0 1 1 1 1 1 1 1 1 1 0 1 1 1 0 1 1 0 1 0 1 0 0 0 1 0 1 1 0 1 1 1 0 0 0\n",
            " 0 1 1 0 1 0 0 1 0 0 0 0 0 1 0 1 1 1 1 1 1 1 1 1 0 0 0 1 0 1 0 1 1 1 1 1 1\n",
            " 1 1 1 0 1 1 1 0 0 1 1 1 0 1 0 1 1 1 0 1 1 1 1 0 1 0 0 1 1 0 1 1 0 1 1 0 0\n",
            " 1 0 0 1 1 1 1 1 0 1 0 0 1 1 1 0 1 0 0 1 0 1 1 1 1 1 1 0 1 0 1 0]\n",
            "{0: 'Normal', 1: 'Pnemonia'}\n",
            "['Pnemonia', 'Pnemonia', 'Normal', 'Normal', 'Normal', 'Pnemonia', 'Normal', 'Pnemonia', 'Pnemonia', 'Normal', 'Pnemonia', 'Pnemonia', 'Normal', 'Pnemonia', 'Pnemonia', 'Pnemonia', 'Normal', 'Normal', 'Pnemonia', 'Normal', 'Pnemonia', 'Normal', 'Pnemonia', 'Normal', 'Pnemonia', 'Normal', 'Normal', 'Pnemonia', 'Pnemonia', 'Normal', 'Pnemonia', 'Pnemonia', 'Pnemonia', 'Normal', 'Pnemonia', 'Normal', 'Pnemonia', 'Normal', 'Pnemonia', 'Normal', 'Pnemonia', 'Pnemonia', 'Pnemonia', 'Pnemonia', 'Normal', 'Pnemonia', 'Normal', 'Pnemonia', 'Pnemonia', 'Pnemonia', 'Pnemonia', 'Pnemonia', 'Pnemonia', 'Normal', 'Pnemonia', 'Pnemonia', 'Pnemonia', 'Pnemonia', 'Pnemonia', 'Normal', 'Pnemonia', 'Normal', 'Pnemonia', 'Normal', 'Pnemonia', 'Pnemonia', 'Pnemonia', 'Pnemonia', 'Pnemonia', 'Pnemonia', 'Normal', 'Pnemonia', 'Pnemonia', 'Pnemonia', 'Pnemonia', 'Pnemonia', 'Normal', 'Normal', 'Pnemonia', 'Pnemonia', 'Pnemonia', 'Pnemonia', 'Pnemonia', 'Pnemonia', 'Pnemonia', 'Normal', 'Normal', 'Normal', 'Pnemonia', 'Normal', 'Pnemonia', 'Pnemonia', 'Pnemonia', 'Pnemonia', 'Pnemonia', 'Pnemonia', 'Pnemonia', 'Pnemonia', 'Normal', 'Normal', 'Pnemonia', 'Pnemonia', 'Normal', 'Normal', 'Pnemonia', 'Normal', 'Pnemonia', 'Pnemonia', 'Pnemonia', 'Pnemonia', 'Normal', 'Normal', 'Pnemonia', 'Pnemonia', 'Pnemonia', 'Pnemonia', 'Pnemonia', 'Normal', 'Pnemonia', 'Pnemonia', 'Pnemonia', 'Pnemonia', 'Pnemonia', 'Normal', 'Normal', 'Pnemonia', 'Pnemonia', 'Pnemonia', 'Normal', 'Pnemonia', 'Normal', 'Pnemonia', 'Pnemonia', 'Pnemonia', 'Pnemonia', 'Normal', 'Pnemonia', 'Pnemonia', 'Pnemonia', 'Pnemonia', 'Pnemonia', 'Pnemonia', 'Normal', 'Pnemonia', 'Pnemonia', 'Pnemonia', 'Normal', 'Pnemonia', 'Normal', 'Normal', 'Normal', 'Pnemonia', 'Pnemonia', 'Pnemonia', 'Pnemonia', 'Pnemonia', 'Normal', 'Pnemonia', 'Pnemonia', 'Pnemonia', 'Pnemonia', 'Pnemonia', 'Normal', 'Pnemonia', 'Pnemonia', 'Pnemonia', 'Pnemonia', 'Pnemonia', 'Pnemonia', 'Normal', 'Pnemonia', 'Pnemonia', 'Pnemonia', 'Pnemonia', 'Normal', 'Normal', 'Pnemonia', 'Pnemonia', 'Normal', 'Pnemonia', 'Pnemonia', 'Normal', 'Pnemonia', 'Pnemonia', 'Pnemonia', 'Pnemonia', 'Pnemonia', 'Normal', 'Pnemonia', 'Pnemonia', 'Pnemonia', 'Pnemonia', 'Normal', 'Pnemonia', 'Normal', 'Pnemonia', 'Pnemonia', 'Pnemonia', 'Normal', 'Pnemonia', 'Pnemonia', 'Normal', 'Pnemonia', 'Pnemonia', 'Pnemonia', 'Pnemonia', 'Pnemonia', 'Normal', 'Pnemonia', 'Normal', 'Pnemonia', 'Pnemonia', 'Pnemonia', 'Pnemonia', 'Pnemonia', 'Normal', 'Pnemonia', 'Normal', 'Pnemonia', 'Normal', 'Normal', 'Pnemonia', 'Normal', 'Normal', 'Normal', 'Pnemonia', 'Pnemonia', 'Pnemonia', 'Pnemonia', 'Pnemonia', 'Pnemonia', 'Pnemonia', 'Pnemonia', 'Pnemonia', 'Normal', 'Normal', 'Normal', 'Pnemonia', 'Normal', 'Pnemonia', 'Normal', 'Pnemonia', 'Pnemonia', 'Normal', 'Normal', 'Normal', 'Normal', 'Normal', 'Pnemonia', 'Pnemonia', 'Pnemonia', 'Pnemonia', 'Pnemonia', 'Pnemonia', 'Pnemonia', 'Pnemonia', 'Pnemonia', 'Normal', 'Pnemonia', 'Pnemonia', 'Pnemonia', 'Normal', 'Normal', 'Pnemonia', 'Pnemonia', 'Pnemonia', 'Normal', 'Normal', 'Normal', 'Pnemonia', 'Normal', 'Pnemonia', 'Pnemonia', 'Normal', 'Pnemonia', 'Pnemonia', 'Pnemonia', 'Normal', 'Normal', 'Normal', 'Pnemonia', 'Normal', 'Pnemonia', 'Pnemonia', 'Normal', 'Pnemonia', 'Normal', 'Normal', 'Pnemonia', 'Normal', 'Pnemonia', 'Pnemonia', 'Normal', 'Pnemonia', 'Pnemonia', 'Normal', 'Pnemonia', 'Normal', 'Normal', 'Pnemonia', 'Pnemonia', 'Normal', 'Pnemonia', 'Pnemonia', 'Pnemonia', 'Pnemonia', 'Pnemonia', 'Pnemonia', 'Normal', 'Pnemonia', 'Pnemonia', 'Normal', 'Pnemonia', 'Pnemonia', 'Pnemonia', 'Normal', 'Pnemonia', 'Pnemonia', 'Pnemonia', 'Pnemonia', 'Pnemonia', 'Normal', 'Pnemonia', 'Pnemonia', 'Normal', 'Pnemonia', 'Pnemonia', 'Pnemonia', 'Pnemonia', 'Pnemonia', 'Pnemonia', 'Normal', 'Pnemonia', 'Pnemonia', 'Pnemonia', 'Pnemonia', 'Pnemonia', 'Pnemonia', 'Pnemonia', 'Pnemonia', 'Pnemonia', 'Pnemonia', 'Pnemonia', 'Pnemonia', 'Pnemonia', 'Pnemonia', 'Pnemonia', 'Normal', 'Pnemonia', 'Normal', 'Pnemonia', 'Pnemonia', 'Pnemonia', 'Pnemonia', 'Pnemonia', 'Pnemonia', 'Normal', 'Normal', 'Normal', 'Pnemonia', 'Pnemonia', 'Pnemonia', 'Pnemonia', 'Pnemonia', 'Pnemonia', 'Pnemonia', 'Normal', 'Pnemonia', 'Pnemonia', 'Pnemonia', 'Pnemonia', 'Pnemonia', 'Normal', 'Pnemonia', 'Normal', 'Normal', 'Pnemonia', 'Pnemonia', 'Normal', 'Pnemonia', 'Normal', 'Normal', 'Normal', 'Pnemonia', 'Normal', 'Pnemonia', 'Pnemonia', 'Normal', 'Normal', 'Pnemonia', 'Pnemonia', 'Pnemonia', 'Pnemonia', 'Normal', 'Pnemonia', 'Pnemonia', 'Pnemonia', 'Normal', 'Pnemonia', 'Normal', 'Pnemonia', 'Pnemonia', 'Pnemonia', 'Pnemonia', 'Pnemonia', 'Normal', 'Pnemonia', 'Normal', 'Pnemonia', 'Pnemonia', 'Pnemonia', 'Pnemonia', 'Normal', 'Pnemonia', 'Pnemonia', 'Pnemonia', 'Pnemonia', 'Pnemonia', 'Pnemonia', 'Pnemonia', 'Pnemonia', 'Pnemonia', 'Pnemonia', 'Pnemonia', 'Pnemonia', 'Pnemonia', 'Pnemonia', 'Pnemonia', 'Pnemonia', 'Normal', 'Pnemonia', 'Pnemonia', 'Normal', 'Normal', 'Pnemonia', 'Normal', 'Pnemonia', 'Pnemonia', 'Normal', 'Normal', 'Pnemonia', 'Pnemonia', 'Pnemonia', 'Pnemonia', 'Pnemonia', 'Pnemonia', 'Normal', 'Pnemonia', 'Pnemonia', 'Normal', 'Pnemonia', 'Pnemonia', 'Pnemonia', 'Pnemonia', 'Pnemonia', 'Pnemonia', 'Pnemonia', 'Normal', 'Normal', 'Normal', 'Normal', 'Normal', 'Normal', 'Pnemonia', 'Normal', 'Pnemonia', 'Normal', 'Pnemonia', 'Pnemonia', 'Pnemonia', 'Pnemonia', 'Normal', 'Pnemonia', 'Normal', 'Normal', 'Pnemonia', 'Pnemonia', 'Pnemonia', 'Pnemonia', 'Pnemonia', 'Pnemonia', 'Pnemonia', 'Normal', 'Normal', 'Pnemonia', 'Pnemonia', 'Pnemonia', 'Pnemonia', 'Pnemonia', 'Pnemonia', 'Pnemonia', 'Pnemonia', 'Pnemonia', 'Normal', 'Pnemonia', 'Pnemonia', 'Pnemonia', 'Normal', 'Pnemonia', 'Pnemonia', 'Normal', 'Pnemonia', 'Normal', 'Pnemonia', 'Normal', 'Normal', 'Normal', 'Pnemonia', 'Normal', 'Pnemonia', 'Pnemonia', 'Normal', 'Pnemonia', 'Pnemonia', 'Pnemonia', 'Normal', 'Normal', 'Normal', 'Normal', 'Pnemonia', 'Pnemonia', 'Normal', 'Pnemonia', 'Normal', 'Normal', 'Pnemonia', 'Normal', 'Normal', 'Normal', 'Normal', 'Normal', 'Pnemonia', 'Normal', 'Pnemonia', 'Pnemonia', 'Pnemonia', 'Pnemonia', 'Pnemonia', 'Pnemonia', 'Pnemonia', 'Pnemonia', 'Pnemonia', 'Normal', 'Normal', 'Normal', 'Pnemonia', 'Normal', 'Pnemonia', 'Normal', 'Pnemonia', 'Pnemonia', 'Pnemonia', 'Pnemonia', 'Pnemonia', 'Pnemonia', 'Pnemonia', 'Pnemonia', 'Pnemonia', 'Normal', 'Pnemonia', 'Pnemonia', 'Pnemonia', 'Normal', 'Normal', 'Pnemonia', 'Pnemonia', 'Pnemonia', 'Normal', 'Pnemonia', 'Normal', 'Pnemonia', 'Pnemonia', 'Pnemonia', 'Normal', 'Pnemonia', 'Pnemonia', 'Pnemonia', 'Pnemonia', 'Normal', 'Pnemonia', 'Normal', 'Normal', 'Pnemonia', 'Pnemonia', 'Normal', 'Pnemonia', 'Pnemonia', 'Normal', 'Pnemonia', 'Pnemonia', 'Normal', 'Normal', 'Pnemonia', 'Normal', 'Normal', 'Pnemonia', 'Pnemonia', 'Pnemonia', 'Pnemonia', 'Pnemonia', 'Normal', 'Pnemonia', 'Normal', 'Normal', 'Pnemonia', 'Pnemonia', 'Pnemonia', 'Normal', 'Pnemonia', 'Normal', 'Normal', 'Pnemonia', 'Normal', 'Pnemonia', 'Pnemonia', 'Pnemonia', 'Pnemonia', 'Pnemonia', 'Pnemonia', 'Normal', 'Pnemonia', 'Normal', 'Pnemonia', 'Normal']\n",
            "[[ 70 132]\n",
            " [164 258]]\n"
          ]
        },
        {
          "output_type": "execute_result",
          "data": {
            "text/plain": [
              "<matplotlib.axes._subplots.AxesSubplot at 0x7fd4a20a3c50>"
            ]
          },
          "metadata": {},
          "execution_count": 23
        },
        {
          "output_type": "display_data",
          "data": {
            "image/png": "[encoded data removed]",
            "text/plain": [
              "<Figure size 432x288 with 2 Axes>"
            ]
          },
          "metadata": {
            "needs_background": "light"
          }
        }
      ]
    },
    {
      "cell_type": "code",
      "source": [
        "model_3 = Sequential()\n",
        "Input_shape=(None, 256, 256, 3)\n",
        "model_3.add(Conv2D(128, kernel_size=(2,2), padding=\"same\", activation='relu', input_shape=Input_shape[1:]))\n",
        "model_3.add(MaxPooling2D())\n",
        "model_3.add(Conv2D(64, kernel_size=(2,2), padding=\"same\", activation='relu'))\n",
        "model_3.add(MaxPooling2D())\n",
        "model_3.add(Conv2D(32, kernel_size=(2,2), padding=\"same\", activation='relu'))\n",
        "model_3.add(MaxPooling2D())\n",
        "model_3.add(Conv2D(16, kernel_size=(2,2), padding=\"same\", activation='relu'))\n",
        "model_3.add(MaxPooling2D())\n",
        "model_3.add(Flatten())\n",
        "model_3.add(Dense(2, activation='softmax'))\n",
        "model_3.compile(optimizer='adam',\n",
        "              loss='categorical_crossentropy',\n",
        "              metrics=['accuracy'])\n",
        "model_3.summary()\n",
        "hist_3 = model_3.fit(train_batches, epochs = 10)\n",
        "\n",
        "pred_3 = model_3.predict(test_batches)\n",
        "predicted_class_indices_3=np.argmax(pred_3,axis=1)\n",
        "labels_3 = dict((v,k) for k,v in test_labels.items())\n",
        "predictions_3 = [labels_3[k] for k in predicted_class_indices_3]\n",
        "print(predicted_class_indices_3)\n",
        "print(labels_3)\n",
        "print(predictions_3)\n",
        "cf3 = confusion_matrix(predicted_class_indices_3,test_batches.classes)\n",
        "print(cf3)\n",
        "\n",
        "group_names = ['True Normal','False Normal','False Pneumonia','True Pneumonia']\n",
        "group_counts = ['{0:0.0f}'.format(value) for value in\n",
        "                cf3.flatten()]\n",
        "group_percentages = ['{0:.2%}'.format(value) for value in\n",
        "                     cf3.flatten()/np.sum(cf3)]\n",
        "labels = [f'{v1}\\n{v2}\\n{v3}' for v1, v2, v3 in\n",
        "          zip(group_names,group_counts,group_percentages)]\n",
        "labels = np.asarray(labels).reshape(2,2)\n",
        "sns.heatmap(cf3, annot=labels, fmt='', cmap='Blues')"
      ],
      "metadata": {
        "colab": {
          "base_uri": "https://localhost:8080/",
          "height": 1000
        },
        "id": "E7foRzUB9YsO",
        "outputId": "a7498bab-5f24-4261-bf18-9a6c3c0010ec"
      },
      "execution_count": 24,
      "outputs": [
        {
          "output_type": "stream",
          "name": "stdout",
          "text": [
            "Model: \"sequential_3\"\n",
            "_________________________________________________________________\n",
            " Layer (type)                Output Shape              Param #   \n",
            "=================================================================\n",
            " conv2d_7 (Conv2D)           (None, 256, 256, 128)     1664      \n",
            "                                                                 \n",
            " max_pooling2d_7 (MaxPooling  (None, 128, 128, 128)    0         \n",
            " 2D)                                                             \n",
            "                                                                 \n",
            " conv2d_8 (Conv2D)           (None, 128, 128, 64)      32832     \n",
            "                                                                 \n",
            " max_pooling2d_8 (MaxPooling  (None, 64, 64, 64)       0         \n",
            " 2D)                                                             \n",
            "                                                                 \n",
            " conv2d_9 (Conv2D)           (None, 64, 64, 32)        8224      \n",
            "                                                                 \n",
            " max_pooling2d_9 (MaxPooling  (None, 32, 32, 32)       0         \n",
            " 2D)                                                             \n",
            "                                                                 \n",
            " conv2d_10 (Conv2D)          (None, 32, 32, 16)        2064      \n",
            "                                                                 \n",
            " max_pooling2d_10 (MaxPoolin  (None, 16, 16, 16)       0         \n",
            " g2D)                                                            \n",
            "                                                                 \n",
            " flatten_3 (Flatten)         (None, 4096)              0         \n",
            "                                                                 \n",
            " dense_3 (Dense)             (None, 2)                 8194      \n",
            "                                                                 \n",
            "=================================================================\n",
            "Total params: 52,978\n",
            "Trainable params: 52,978\n",
            "Non-trainable params: 0\n",
            "_________________________________________________________________\n",
            "Epoch 1/10\n",
            "149/149 [==============================] - 126s 838ms/step - loss: 1.0856 - accuracy: 0.8024\n",
            "Epoch 2/10\n",
            "149/149 [==============================] - 125s 837ms/step - loss: 0.2803 - accuracy: 0.8833\n",
            "Epoch 3/10\n",
            "149/149 [==============================] - 125s 837ms/step - loss: 0.2591 - accuracy: 0.8955\n",
            "Epoch 4/10\n",
            "149/149 [==============================] - 124s 835ms/step - loss: 0.2495 - accuracy: 0.8993\n",
            "Epoch 5/10\n",
            "149/149 [==============================] - 125s 838ms/step - loss: 0.2146 - accuracy: 0.9151\n",
            "Epoch 6/10\n",
            "149/149 [==============================] - 125s 837ms/step - loss: 0.2251 - accuracy: 0.9111\n",
            "Epoch 7/10\n",
            "149/149 [==============================] - 128s 856ms/step - loss: 0.2141 - accuracy: 0.9174\n",
            "Epoch 8/10\n",
            "149/149 [==============================] - 130s 871ms/step - loss: 0.1977 - accuracy: 0.9233\n",
            "Epoch 9/10\n",
            "149/149 [==============================] - 131s 876ms/step - loss: 0.1898 - accuracy: 0.9240\n",
            "Epoch 10/10\n",
            "149/149 [==============================] - 131s 880ms/step - loss: 0.1908 - accuracy: 0.9265\n",
            "[1 1 1 1 1 1 1 0 1 0 1 1 1 1 0 1 1 1 0 0 1 1 1 1 1 1 1 1 0 1 1 1 1 1 0 0 1\n",
            " 1 0 1 0 0 1 1 0 1 1 1 0 1 1 1 1 0 1 1 1 1 0 1 1 1 1 1 0 1 1 0 1 1 0 1 0 1\n",
            " 0 1 1 1 1 0 1 1 1 1 1 0 1 0 1 1 1 1 1 1 1 1 1 0 1 1 0 1 0 1 1 0 1 1 0 0 1\n",
            " 1 1 0 1 0 0 1 1 1 1 1 0 1 1 0 0 0 1 1 1 1 1 1 0 1 1 0 1 1 0 1 1 1 1 0 1 1\n",
            " 1 1 0 1 1 1 1 1 0 0 0 0 1 1 1 1 1 1 0 1 1 1 1 1 0 1 1 1 0 1 1 1 1 1 0 1 1\n",
            " 1 1 1 0 1 1 0 1 1 1 0 1 1 1 0 0 1 1 0 1 0 0 0 1 1 1 1 1 1 0 0 1 1 1 1 1 1\n",
            " 1 1 1 0 0 0 0 1 1 0 1 1 1 1 0 1 1 1 0 0 0 1 0 1 1 0 1 1 1 1 0 1 1 1 1 0 1\n",
            " 1 1 1 0 1 1 0 1 1 0 1 1 1 1 0 0 1 1 1 1 0 0 1 1 0 1 1 1 1 0 1 1 1 1 1 1 1\n",
            " 1 1 1 0 0 1 1 0 0 0 1 1 0 0 1 1 1 1 1 0 0 1 1 1 1 1 1 1 1 1 1 1 0 1 1 0 1\n",
            " 1 1 1 0 1 1 1 1 1 1 0 1 1 0 1 1 1 1 1 1 1 0 0 1 0 1 1 1 1 1 1 0 0 1 1 0 1\n",
            " 1 0 1 1 0 1 1 1 0 1 0 0 0 1 1 1 1 0 0 1 1 1 1 0 0 0 1 0 0 0 0 1 0 1 0 1 1\n",
            " 1 0 1 1 0 1 0 1 1 0 1 1 1 0 1 1 1 1 1 1 1 0 1 0 1 0 0 1 1 1 1 1 0 0 1 1 1\n",
            " 1 1 0 1 1 1 0 0 0 1 0 0 0 1 0 1 1 1 1 1 0 1 1 1 1 1 1 1 1 1 0 1 0 1 1 1 1\n",
            " 1 1 1 1 1 0 1 1 0 0 1 1 1 0 1 1 1 1 0 1 1 1 1 0 1 1 1 1 1 1 0 1 0 1 1 1 1\n",
            " 1 0 1 1 0 0 1 1 0 0 0 1 0 1 0 1 1 1 1 1 0 0 0 0 1 1 1 1 1 1 1 1 1 1 0 0 0\n",
            " 0 0 1 1 1 0 0 1 0 0 0 1 1 1 0 1 1 0 1 0 1 1 1 0 1 1 0 0 1 0 1 1 0 1 1 0 1\n",
            " 0 1 1 0 1 0 1 1 1 1 1 1 1 0 1 1 1 0 1 1 1 1 1 1 1 0 1 1 0 1 1 1]\n",
            "{0: 'Normal', 1: 'Pnemonia'}\n",
            "['Pnemonia', 'Pnemonia', 'Pnemonia', 'Pnemonia', 'Pnemonia', 'Pnemonia', 'Pnemonia', 'Normal', 'Pnemonia', 'Normal', 'Pnemonia', 'Pnemonia', 'Pnemonia', 'Pnemonia', 'Normal', 'Pnemonia', 'Pnemonia', 'Pnemonia', 'Normal', 'Normal', 'Pnemonia', 'Pnemonia', 'Pnemonia', 'Pnemonia', 'Pnemonia', 'Pnemonia', 'Pnemonia', 'Pnemonia', 'Normal', 'Pnemonia', 'Pnemonia', 'Pnemonia', 'Pnemonia', 'Pnemonia', 'Normal', 'Normal', 'Pnemonia', 'Pnemonia', 'Normal', 'Pnemonia', 'Normal', 'Normal', 'Pnemonia', 'Pnemonia', 'Normal', 'Pnemonia', 'Pnemonia', 'Pnemonia', 'Normal', 'Pnemonia', 'Pnemonia', 'Pnemonia', 'Pnemonia', 'Normal', 'Pnemonia', 'Pnemonia', 'Pnemonia', 'Pnemonia', 'Normal', 'Pnemonia', 'Pnemonia', 'Pnemonia', 'Pnemonia', 'Pnemonia', 'Normal', 'Pnemonia', 'Pnemonia', 'Normal', 'Pnemonia', 'Pnemonia', 'Normal', 'Pnemonia', 'Normal', 'Pnemonia', 'Normal', 'Pnemonia', 'Pnemonia', 'Pnemonia', 'Pnemonia', 'Normal', 'Pnemonia', 'Pnemonia', 'Pnemonia', 'Pnemonia', 'Pnemonia', 'Normal', 'Pnemonia', 'Normal', 'Pnemonia', 'Pnemonia', 'Pnemonia', 'Pnemonia', 'Pnemonia', 'Pnemonia', 'Pnemonia', 'Pnemonia', 'Pnemonia', 'Normal', 'Pnemonia', 'Pnemonia', 'Normal', 'Pnemonia', 'Normal', 'Pnemonia', 'Pnemonia', 'Normal', 'Pnemonia', 'Pnemonia', 'Normal', 'Normal', 'Pnemonia', 'Pnemonia', 'Pnemonia', 'Normal', 'Pnemonia', 'Normal', 'Normal', 'Pnemonia', 'Pnemonia', 'Pnemonia', 'Pnemonia', 'Pnemonia', 'Normal', 'Pnemonia', 'Pnemonia', 'Normal', 'Normal', 'Normal', 'Pnemonia', 'Pnemonia', 'Pnemonia', 'Pnemonia', 'Pnemonia', 'Pnemonia', 'Normal', 'Pnemonia', 'Pnemonia', 'Normal', 'Pnemonia', 'Pnemonia', 'Normal', 'Pnemonia', 'Pnemonia', 'Pnemonia', 'Pnemonia', 'Normal', 'Pnemonia', 'Pnemonia', 'Pnemonia', 'Pnemonia', 'Normal', 'Pnemonia', 'Pnemonia', 'Pnemonia', 'Pnemonia', 'Pnemonia', 'Normal', 'Normal', 'Normal', 'Normal', 'Pnemonia', 'Pnemonia', 'Pnemonia', 'Pnemonia', 'Pnemonia', 'Pnemonia', 'Normal', 'Pnemonia', 'Pnemonia', 'Pnemonia', 'Pnemonia', 'Pnemonia', 'Normal', 'Pnemonia', 'Pnemonia', 'Pnemonia', 'Normal', 'Pnemonia', 'Pnemonia', 'Pnemonia', 'Pnemonia', 'Pnemonia', 'Normal', 'Pnemonia', 'Pnemonia', 'Pnemonia', 'Pnemonia', 'Pnemonia', 'Normal', 'Pnemonia', 'Pnemonia', 'Normal', 'Pnemonia', 'Pnemonia', 'Pnemonia', 'Normal', 'Pnemonia', 'Pnemonia', 'Pnemonia', 'Normal', 'Normal', 'Pnemonia', 'Pnemonia', 'Normal', 'Pnemonia', 'Normal', 'Normal', 'Normal', 'Pnemonia', 'Pnemonia', 'Pnemonia', 'Pnemonia', 'Pnemonia', 'Pnemonia', 'Normal', 'Normal', 'Pnemonia', 'Pnemonia', 'Pnemonia', 'Pnemonia', 'Pnemonia', 'Pnemonia', 'Pnemonia', 'Pnemonia', 'Pnemonia', 'Normal', 'Normal', 'Normal', 'Normal', 'Pnemonia', 'Pnemonia', 'Normal', 'Pnemonia', 'Pnemonia', 'Pnemonia', 'Pnemonia', 'Normal', 'Pnemonia', 'Pnemonia', 'Pnemonia', 'Normal', 'Normal', 'Normal', 'Pnemonia', 'Normal', 'Pnemonia', 'Pnemonia', 'Normal', 'Pnemonia', 'Pnemonia', 'Pnemonia', 'Pnemonia', 'Normal', 'Pnemonia', 'Pnemonia', 'Pnemonia', 'Pnemonia', 'Normal', 'Pnemonia', 'Pnemonia', 'Pnemonia', 'Pnemonia', 'Normal', 'Pnemonia', 'Pnemonia', 'Normal', 'Pnemonia', 'Pnemonia', 'Normal', 'Pnemonia', 'Pnemonia', 'Pnemonia', 'Pnemonia', 'Normal', 'Normal', 'Pnemonia', 'Pnemonia', 'Pnemonia', 'Pnemonia', 'Normal', 'Normal', 'Pnemonia', 'Pnemonia', 'Normal', 'Pnemonia', 'Pnemonia', 'Pnemonia', 'Pnemonia', 'Normal', 'Pnemonia', 'Pnemonia', 'Pnemonia', 'Pnemonia', 'Pnemonia', 'Pnemonia', 'Pnemonia', 'Pnemonia', 'Pnemonia', 'Pnemonia', 'Normal', 'Normal', 'Pnemonia', 'Pnemonia', 'Normal', 'Normal', 'Normal', 'Pnemonia', 'Pnemonia', 'Normal', 'Normal', 'Pnemonia', 'Pnemonia', 'Pnemonia', 'Pnemonia', 'Pnemonia', 'Normal', 'Normal', 'Pnemonia', 'Pnemonia', 'Pnemonia', 'Pnemonia', 'Pnemonia', 'Pnemonia', 'Pnemonia', 'Pnemonia', 'Pnemonia', 'Pnemonia', 'Pnemonia', 'Normal', 'Pnemonia', 'Pnemonia', 'Normal', 'Pnemonia', 'Pnemonia', 'Pnemonia', 'Pnemonia', 'Normal', 'Pnemonia', 'Pnemonia', 'Pnemonia', 'Pnemonia', 'Pnemonia', 'Pnemonia', 'Normal', 'Pnemonia', 'Pnemonia', 'Normal', 'Pnemonia', 'Pnemonia', 'Pnemonia', 'Pnemonia', 'Pnemonia', 'Pnemonia', 'Pnemonia', 'Normal', 'Normal', 'Pnemonia', 'Normal', 'Pnemonia', 'Pnemonia', 'Pnemonia', 'Pnemonia', 'Pnemonia', 'Pnemonia', 'Normal', 'Normal', 'Pnemonia', 'Pnemonia', 'Normal', 'Pnemonia', 'Pnemonia', 'Normal', 'Pnemonia', 'Pnemonia', 'Normal', 'Pnemonia', 'Pnemonia', 'Pnemonia', 'Normal', 'Pnemonia', 'Normal', 'Normal', 'Normal', 'Pnemonia', 'Pnemonia', 'Pnemonia', 'Pnemonia', 'Normal', 'Normal', 'Pnemonia', 'Pnemonia', 'Pnemonia', 'Pnemonia', 'Normal', 'Normal', 'Normal', 'Pnemonia', 'Normal', 'Normal', 'Normal', 'Normal', 'Pnemonia', 'Normal', 'Pnemonia', 'Normal', 'Pnemonia', 'Pnemonia', 'Pnemonia', 'Normal', 'Pnemonia', 'Pnemonia', 'Normal', 'Pnemonia', 'Normal', 'Pnemonia', 'Pnemonia', 'Normal', 'Pnemonia', 'Pnemonia', 'Pnemonia', 'Normal', 'Pnemonia', 'Pnemonia', 'Pnemonia', 'Pnemonia', 'Pnemonia', 'Pnemonia', 'Pnemonia', 'Normal', 'Pnemonia', 'Normal', 'Pnemonia', 'Normal', 'Normal', 'Pnemonia', 'Pnemonia', 'Pnemonia', 'Pnemonia', 'Pnemonia', 'Normal', 'Normal', 'Pnemonia', 'Pnemonia', 'Pnemonia', 'Pnemonia', 'Pnemonia', 'Normal', 'Pnemonia', 'Pnemonia', 'Pnemonia', 'Normal', 'Normal', 'Normal', 'Pnemonia', 'Normal', 'Normal', 'Normal', 'Pnemonia', 'Normal', 'Pnemonia', 'Pnemonia', 'Pnemonia', 'Pnemonia', 'Pnemonia', 'Normal', 'Pnemonia', 'Pnemonia', 'Pnemonia', 'Pnemonia', 'Pnemonia', 'Pnemonia', 'Pnemonia', 'Pnemonia', 'Pnemonia', 'Normal', 'Pnemonia', 'Normal', 'Pnemonia', 'Pnemonia', 'Pnemonia', 'Pnemonia', 'Pnemonia', 'Pnemonia', 'Pnemonia', 'Pnemonia', 'Pnemonia', 'Normal', 'Pnemonia', 'Pnemonia', 'Normal', 'Normal', 'Pnemonia', 'Pnemonia', 'Pnemonia', 'Normal', 'Pnemonia', 'Pnemonia', 'Pnemonia', 'Pnemonia', 'Normal', 'Pnemonia', 'Pnemonia', 'Pnemonia', 'Pnemonia', 'Normal', 'Pnemonia', 'Pnemonia', 'Pnemonia', 'Pnemonia', 'Pnemonia', 'Pnemonia', 'Normal', 'Pnemonia', 'Normal', 'Pnemonia', 'Pnemonia', 'Pnemonia', 'Pnemonia', 'Pnemonia', 'Normal', 'Pnemonia', 'Pnemonia', 'Normal', 'Normal', 'Pnemonia', 'Pnemonia', 'Normal', 'Normal', 'Normal', 'Pnemonia', 'Normal', 'Pnemonia', 'Normal', 'Pnemonia', 'Pnemonia', 'Pnemonia', 'Pnemonia', 'Pnemonia', 'Normal', 'Normal', 'Normal', 'Normal', 'Pnemonia', 'Pnemonia', 'Pnemonia', 'Pnemonia', 'Pnemonia', 'Pnemonia', 'Pnemonia', 'Pnemonia', 'Pnemonia', 'Pnemonia', 'Normal', 'Normal', 'Normal', 'Normal', 'Normal', 'Pnemonia', 'Pnemonia', 'Pnemonia', 'Normal', 'Normal', 'Pnemonia', 'Normal', 'Normal', 'Normal', 'Pnemonia', 'Pnemonia', 'Pnemonia', 'Normal', 'Pnemonia', 'Pnemonia', 'Normal', 'Pnemonia', 'Normal', 'Pnemonia', 'Pnemonia', 'Pnemonia', 'Normal', 'Pnemonia', 'Pnemonia', 'Normal', 'Normal', 'Pnemonia', 'Normal', 'Pnemonia', 'Pnemonia', 'Normal', 'Pnemonia', 'Pnemonia', 'Normal', 'Pnemonia', 'Normal', 'Pnemonia', 'Pnemonia', 'Normal', 'Pnemonia', 'Normal', 'Pnemonia', 'Pnemonia', 'Pnemonia', 'Pnemonia', 'Pnemonia', 'Pnemonia', 'Pnemonia', 'Normal', 'Pnemonia', 'Pnemonia', 'Pnemonia', 'Normal', 'Pnemonia', 'Pnemonia', 'Pnemonia', 'Pnemonia', 'Pnemonia', 'Pnemonia', 'Pnemonia', 'Normal', 'Pnemonia', 'Pnemonia', 'Normal', 'Pnemonia', 'Pnemonia', 'Pnemonia']\n",
            "[[ 65 122]\n",
            " [169 268]]\n"
          ]
        },
        {
          "output_type": "execute_result",
          "data": {
            "text/plain": [
              "<matplotlib.axes._subplots.AxesSubplot at 0x7fd49e5f5890>"
            ]
          },
          "metadata": {},
          "execution_count": 24
        },
        {
          "output_type": "display_data",
          "data": {
            "image/png": "[encoded data removed]",
            "text/plain": [
              "<Figure size 432x288 with 2 Axes>"
            ]
          },
          "metadata": {
            "needs_background": "light"
          }
        }
      ]
    },
    {
      "cell_type": "code",
      "source": [
        "from tensorflow.keras.models import Sequential\n",
        "from tensorflow.keras.layers import Conv2D, MaxPooling2D, Flatten, Dense\n",
        "model_4 = Sequential()\n",
        "Input_shape=(None, 256, 256, 3)\n",
        "model_4.add(Conv2D(64, kernel_size=(2,2), padding=\"same\", activation='relu', input_shape=Input_shape[1:]))\n",
        "model_4.add(MaxPooling2D())\n",
        "model_4.add(Conv2D(32, kernel_size=(2,2), padding=\"same\", activation='relu'))\n",
        "model_4.add(MaxPooling2D())\n",
        "model_4.add(Conv2D(16, kernel_size=(2,2), padding=\"same\", activation='relu'))\n",
        "model_4.add(MaxPooling2D())\n",
        "model_4.add(Flatten())\n",
        "model_4.add(Dense(2, activation='softmax'))\n",
        "model_4.compile(optimizer='adam',\n",
        "              loss='categorical_crossentropy',\n",
        "              metrics=['accuracy'])\n",
        "model_4.summary()\n",
        "hist_4 = model_4.fit(train_batches, epochs = 20)\n",
        "\n",
        "from sklearn.metrics import confusion_matrix\n",
        "pred_4 = model_4.predict(test_batches)\n",
        "predicted_class_indices_4=np.argmax(pred_4,axis=1)\n",
        "test_labels = (test_batches.class_indices)\n",
        "labels_4 = dict((v,k) for k,v in test_labels.items())\n",
        "predictions_4 = [labels_4[k] for k in predicted_class_indices_4]\n",
        "print(predicted_class_indices_4)\n",
        "print(labels_4)\n",
        "print(predictions_4)\n",
        "cf4 = confusion_matrix(predicted_class_indices_4,test_batches.classes)\n",
        "print(cf4)\n",
        "\n",
        "group_names = ['True Normal','False Normal','False Pneumonia','True Pneumonia']\n",
        "group_counts = ['{0:0.0f}'.format(value) for value in\n",
        "                cf4.flatten()]\n",
        "group_percentages = ['{0:.2%}'.format(value) for value in\n",
        "                     cf4.flatten()/np.sum(cf4)]\n",
        "labels = [f'{v1}\\n{v2}\\n{v3}' for v1, v2, v3 in\n",
        "          zip(group_names,group_counts,group_percentages)]\n",
        "labels = np.asarray(labels).reshape(2,2)\n",
        "sns.heatmap(cf4, annot=labels, fmt='', cmap='Blues')"
      ],
      "metadata": {
        "colab": {
          "base_uri": "https://localhost:8080/",
          "height": 1000
        },
        "id": "dx5KPRduCm7D",
        "outputId": "03d4625c-b5f8-414f-e4e5-e52d172b63be"
      },
      "execution_count": 14,
      "outputs": [
        {
          "output_type": "stream",
          "name": "stdout",
          "text": [
            "Model: \"sequential\"\n",
            "_________________________________________________________________\n",
            " Layer (type)                Output Shape              Param #   \n",
            "=================================================================\n",
            " conv2d (Conv2D)             (None, 256, 256, 64)      832       \n",
            "                                                                 \n",
            " max_pooling2d (MaxPooling2D  (None, 128, 128, 64)     0         \n",
            " )                                                               \n",
            "                                                                 \n",
            " conv2d_1 (Conv2D)           (None, 128, 128, 32)      8224      \n",
            "                                                                 \n",
            " max_pooling2d_1 (MaxPooling  (None, 64, 64, 32)       0         \n",
            " 2D)                                                             \n",
            "                                                                 \n",
            " conv2d_2 (Conv2D)           (None, 64, 64, 16)        2064      \n",
            "                                                                 \n",
            " max_pooling2d_2 (MaxPooling  (None, 32, 32, 16)       0         \n",
            " 2D)                                                             \n",
            "                                                                 \n",
            " flatten (Flatten)           (None, 16384)             0         \n",
            "                                                                 \n",
            " dense (Dense)               (None, 2)                 32770     \n",
            "                                                                 \n",
            "=================================================================\n",
            "Total params: 43,890\n",
            "Trainable params: 43,890\n",
            "Non-trainable params: 0\n",
            "_________________________________________________________________\n",
            "Epoch 1/20\n",
            "149/149 [==============================] - 3280s 22s/step - loss: 2.3807 - accuracy: 0.7512\n",
            "Epoch 2/20\n",
            "149/149 [==============================] - 146s 979ms/step - loss: 0.3906 - accuracy: 0.8313\n",
            "Epoch 3/20\n",
            "149/149 [==============================] - 148s 994ms/step - loss: 0.3623 - accuracy: 0.8469\n",
            "Epoch 4/20\n",
            "149/149 [==============================] - 147s 986ms/step - loss: 0.3115 - accuracy: 0.8723\n",
            "Epoch 5/20\n",
            "149/149 [==============================] - 148s 991ms/step - loss: 0.3430 - accuracy: 0.8650\n",
            "Epoch 6/20\n",
            "149/149 [==============================] - 147s 984ms/step - loss: 0.3284 - accuracy: 0.8726\n",
            "Epoch 7/20\n",
            "149/149 [==============================] - 147s 988ms/step - loss: 0.3824 - accuracy: 0.8399\n",
            "Epoch 8/20\n",
            "149/149 [==============================] - 149s 996ms/step - loss: 0.3696 - accuracy: 0.8435\n",
            "Epoch 9/20\n",
            "149/149 [==============================] - 148s 992ms/step - loss: 0.3362 - accuracy: 0.8677\n",
            "Epoch 10/20\n",
            "149/149 [==============================] - 147s 988ms/step - loss: 0.3525 - accuracy: 0.8536\n",
            "Epoch 11/20\n",
            "149/149 [==============================] - 149s 999ms/step - loss: 0.3166 - accuracy: 0.8744\n",
            "Epoch 12/20\n",
            "149/149 [==============================] - 148s 990ms/step - loss: 0.2930 - accuracy: 0.8890\n",
            "Epoch 13/20\n",
            "149/149 [==============================] - 148s 991ms/step - loss: 0.2721 - accuracy: 0.8938\n",
            "Epoch 14/20\n",
            "149/149 [==============================] - 148s 991ms/step - loss: 0.2488 - accuracy: 0.9016\n",
            "Epoch 15/20\n",
            "149/149 [==============================] - 149s 1s/step - loss: 0.2490 - accuracy: 0.9031\n",
            "Epoch 16/20\n",
            "149/149 [==============================] - 151s 1s/step - loss: 0.2625 - accuracy: 0.9004\n",
            "Epoch 17/20\n",
            "149/149 [==============================] - 150s 1s/step - loss: 0.2518 - accuracy: 0.8989\n",
            "Epoch 18/20\n",
            "149/149 [==============================] - 147s 988ms/step - loss: 0.2300 - accuracy: 0.9117\n",
            "Epoch 19/20\n",
            "149/149 [==============================] - 148s 995ms/step - loss: 0.2407 - accuracy: 0.9039\n",
            "Epoch 20/20\n",
            "149/149 [==============================] - 150s 1s/step - loss: 0.2293 - accuracy: 0.9090\n"
          ]
        },
        {
          "output_type": "error",
          "ename": "NameError",
          "evalue": "ignored",
          "traceback": [
            "\u001b[0;31m---------------------------------------------------------------------------\u001b[0m",
            "\u001b[0;31mNameError\u001b[0m                                 Traceback (most recent call last)",
            "\u001b[0;32m<ipython-input-14-19d98672fecb>\u001b[0m in \u001b[0;36m<module>\u001b[0;34m()\u001b[0m\n\u001b[1;32m     19\u001b[0m \u001b[0mpred_4\u001b[0m \u001b[0;34m=\u001b[0m \u001b[0mmodel_4\u001b[0m\u001b[0;34m.\u001b[0m\u001b[0mpredict\u001b[0m\u001b[0;34m(\u001b[0m\u001b[0mtest_batches\u001b[0m\u001b[0;34m)\u001b[0m\u001b[0;34m\u001b[0m\u001b[0;34m\u001b[0m\u001b[0m\n\u001b[1;32m     20\u001b[0m \u001b[0mpredicted_class_indices_4\u001b[0m\u001b[0;34m=\u001b[0m\u001b[0mnp\u001b[0m\u001b[0;34m.\u001b[0m\u001b[0margmax\u001b[0m\u001b[0;34m(\u001b[0m\u001b[0mpred_4\u001b[0m\u001b[0;34m,\u001b[0m\u001b[0maxis\u001b[0m\u001b[0;34m=\u001b[0m\u001b[0;36m1\u001b[0m\u001b[0;34m)\u001b[0m\u001b[0;34m\u001b[0m\u001b[0;34m\u001b[0m\u001b[0m\n\u001b[0;32m---> 21\u001b[0;31m \u001b[0mlabels_4\u001b[0m \u001b[0;34m=\u001b[0m \u001b[0mdict\u001b[0m\u001b[0;34m(\u001b[0m\u001b[0;34m(\u001b[0m\u001b[0mv\u001b[0m\u001b[0;34m,\u001b[0m\u001b[0mk\u001b[0m\u001b[0;34m)\u001b[0m \u001b[0;32mfor\u001b[0m \u001b[0mk\u001b[0m\u001b[0;34m,\u001b[0m\u001b[0mv\u001b[0m \u001b[0;32min\u001b[0m \u001b[0mtest_labels\u001b[0m\u001b[0;34m.\u001b[0m\u001b[0mitems\u001b[0m\u001b[0;34m(\u001b[0m\u001b[0;34m)\u001b[0m\u001b[0;34m)\u001b[0m\u001b[0;34m\u001b[0m\u001b[0;34m\u001b[0m\u001b[0m\n\u001b[0m\u001b[1;32m     22\u001b[0m \u001b[0mpredictions_4\u001b[0m \u001b[0;34m=\u001b[0m \u001b[0;34m[\u001b[0m\u001b[0mlabels_4\u001b[0m\u001b[0;34m[\u001b[0m\u001b[0mk\u001b[0m\u001b[0;34m]\u001b[0m \u001b[0;32mfor\u001b[0m \u001b[0mk\u001b[0m \u001b[0;32min\u001b[0m \u001b[0mpredicted_class_indices_4\u001b[0m\u001b[0;34m]\u001b[0m\u001b[0;34m\u001b[0m\u001b[0;34m\u001b[0m\u001b[0m\n\u001b[1;32m     23\u001b[0m \u001b[0mprint\u001b[0m\u001b[0;34m(\u001b[0m\u001b[0mpredicted_class_indices_4\u001b[0m\u001b[0;34m)\u001b[0m\u001b[0;34m\u001b[0m\u001b[0;34m\u001b[0m\u001b[0m\n",
            "\u001b[0;31mNameError\u001b[0m: name 'test_labels' is not defined"
          ]
        }
      ]
    },
    {
      "cell_type": "code",
      "source": [
        "from sklearn.metrics import confusion_matrix\n",
        "import seaborn as sns\n",
        "pred_4 = model_4.predict(test_batches)\n",
        "predicted_class_indices_4=np.argmax(pred_4,axis=1)\n",
        "test_labels = (test_batches.class_indices)\n",
        "labels_4 = dict((v,k) for k,v in test_labels.items())\n",
        "predictions_4 = [labels_4[k] for k in predicted_class_indices_4]\n",
        "print(predicted_class_indices_4)\n",
        "print(labels_4)\n",
        "print(predictions_4)\n",
        "cf4 = confusion_matrix(predicted_class_indices_4,test_batches.classes)\n",
        "print(cf4)\n",
        "\n",
        "group_names = ['True Normal','False Normal','False Pneumonia','True Pneumonia']\n",
        "group_counts = ['{0:0.0f}'.format(value) for value in\n",
        "                cf4.flatten()]\n",
        "group_percentages = ['{0:.2%}'.format(value) for value in\n",
        "                     cf4.flatten()/np.sum(cf4)]\n",
        "labels = [f'{v1}\\n{v2}\\n{v3}' for v1, v2, v3 in\n",
        "          zip(group_names,group_counts,group_percentages)]\n",
        "labels = np.asarray(labels).reshape(2,2)\n",
        "sns.heatmap(cf4, annot=labels, fmt='', cmap='Blues')"
      ],
      "metadata": {
        "colab": {
          "base_uri": "https://localhost:8080/",
          "height": 659
        },
        "id": "cg6OYfugd3lD",
        "outputId": "36772381-29a1-420b-d605-019b7a4b27ab"
      },
      "execution_count": 17,
      "outputs": [
        {
          "output_type": "stream",
          "name": "stdout",
          "text": [
            "[1 0 0 1 1 1 1 1 0 1 1 0 0 0 1 0 1 1 0 1 1 1 1 1 1 1 0 0 1 0 1 0 1 1 1 0 1\n",
            " 1 1 1 1 0 0 0 0 1 1 1 1 0 1 1 1 1 1 0 1 0 0 0 0 1 0 0 1 0 1 1 1 1 0 1 1 1\n",
            " 1 0 0 1 1 0 0 1 1 0 1 1 1 0 1 1 0 1 1 0 1 1 0 1 1 1 1 1 1 1 0 1 0 1 0 1 1\n",
            " 0 1 1 1 1 1 0 1 1 1 0 1 1 1 1 0 0 1 1 1 0 1 1 0 0 1 1 0 0 1 1 0 1 0 1 0 1\n",
            " 0 1 0 0 1 0 1 1 1 1 1 0 1 1 1 0 0 0 1 1 1 1 1 1 1 1 0 1 1 1 0 0 1 1 1 1 0\n",
            " 0 1 1 0 0 0 0 0 0 1 0 1 1 0 0 1 1 0 1 0 0 0 1 1 1 1 0 1 1 1 1 1 0 1 0 1 1\n",
            " 1 0 0 1 1 1 1 0 0 1 1 1 0 1 1 1 1 1 0 1 1 0 1 1 1 1 0 1 1 0 1 0 1 1 0 1 1\n",
            " 0 0 0 1 1 1 0 1 1 1 1 1 1 1 0 1 1 0 0 1 0 0 1 1 0 1 1 1 1 1 1 1 1 0 1 0 0\n",
            " 1 0 1 1 1 0 1 0 0 1 0 1 1 1 0 1 1 1 1 1 0 0 0 1 0 0 1 1 1 0 0 0 1 0 0 0 1\n",
            " 1 1 1 0 1 0 1 0 1 1 1 1 1 0 1 1 1 0 1 1 1 0 0 1 1 1 1 1 1 1 0 1 1 0 1 0 0\n",
            " 1 1 1 0 1 0 1 1 1 1 0 1 0 1 1 1 0 0 1 1 0 1 0 1 1 1 0 0 0 1 1 1 0 1 0 1 0\n",
            " 1 1 0 1 1 0 1 1 1 1 1 1 0 1 1 1 0 0 0 1 1 1 0 1 0 0 0 0 1 1 0 0 0 1 1 0 1\n",
            " 0 0 0 0 1 1 1 1 0 1 0 1 1 1 0 1 1 1 0 0 1 1 1 1 1 1 1 1 1 0 0 1 0 0 1 1 1\n",
            " 1 1 0 1 0 1 1 1 1 1 0 1 0 1 0 1 0 0 1 1 1 1 1 0 1 1 0 0 1 1 1 1 1 1 1 1 0\n",
            " 1 0 1 1 0 0 1 1 0 0 1 1 1 1 1 0 1 1 1 1 1 1 0 0 1 1 1 0 1 1 1 0 1 0 0 1 0\n",
            " 0 1 1 1 0 1 1 0 0 1 0 1 0 1 1 1 0 1 1 1 1 0 0 1 1 0 1 1 1 1 0 0 1 1 1 0 0\n",
            " 1 0 1 0 1 1 1 1 0 0 1 1 1 0 1 0 1 1 1 0 1 0 0 0 1 0 1 1 0 0 1 1]\n",
            "{0: 'Normal', 1: 'Pnemonia'}\n",
            "['Pnemonia', 'Normal', 'Normal', 'Pnemonia', 'Pnemonia', 'Pnemonia', 'Pnemonia', 'Pnemonia', 'Normal', 'Pnemonia', 'Pnemonia', 'Normal', 'Normal', 'Normal', 'Pnemonia', 'Normal', 'Pnemonia', 'Pnemonia', 'Normal', 'Pnemonia', 'Pnemonia', 'Pnemonia', 'Pnemonia', 'Pnemonia', 'Pnemonia', 'Pnemonia', 'Normal', 'Normal', 'Pnemonia', 'Normal', 'Pnemonia', 'Normal', 'Pnemonia', 'Pnemonia', 'Pnemonia', 'Normal', 'Pnemonia', 'Pnemonia', 'Pnemonia', 'Pnemonia', 'Pnemonia', 'Normal', 'Normal', 'Normal', 'Normal', 'Pnemonia', 'Pnemonia', 'Pnemonia', 'Pnemonia', 'Normal', 'Pnemonia', 'Pnemonia', 'Pnemonia', 'Pnemonia', 'Pnemonia', 'Normal', 'Pnemonia', 'Normal', 'Normal', 'Normal', 'Normal', 'Pnemonia', 'Normal', 'Normal', 'Pnemonia', 'Normal', 'Pnemonia', 'Pnemonia', 'Pnemonia', 'Pnemonia', 'Normal', 'Pnemonia', 'Pnemonia', 'Pnemonia', 'Pnemonia', 'Normal', 'Normal', 'Pnemonia', 'Pnemonia', 'Normal', 'Normal', 'Pnemonia', 'Pnemonia', 'Normal', 'Pnemonia', 'Pnemonia', 'Pnemonia', 'Normal', 'Pnemonia', 'Pnemonia', 'Normal', 'Pnemonia', 'Pnemonia', 'Normal', 'Pnemonia', 'Pnemonia', 'Normal', 'Pnemonia', 'Pnemonia', 'Pnemonia', 'Pnemonia', 'Pnemonia', 'Pnemonia', 'Pnemonia', 'Normal', 'Pnemonia', 'Normal', 'Pnemonia', 'Normal', 'Pnemonia', 'Pnemonia', 'Normal', 'Pnemonia', 'Pnemonia', 'Pnemonia', 'Pnemonia', 'Pnemonia', 'Normal', 'Pnemonia', 'Pnemonia', 'Pnemonia', 'Normal', 'Pnemonia', 'Pnemonia', 'Pnemonia', 'Pnemonia', 'Normal', 'Normal', 'Pnemonia', 'Pnemonia', 'Pnemonia', 'Normal', 'Pnemonia', 'Pnemonia', 'Normal', 'Normal', 'Pnemonia', 'Pnemonia', 'Normal', 'Normal', 'Pnemonia', 'Pnemonia', 'Normal', 'Pnemonia', 'Normal', 'Pnemonia', 'Normal', 'Pnemonia', 'Normal', 'Pnemonia', 'Normal', 'Normal', 'Pnemonia', 'Normal', 'Pnemonia', 'Pnemonia', 'Pnemonia', 'Pnemonia', 'Pnemonia', 'Normal', 'Pnemonia', 'Pnemonia', 'Pnemonia', 'Normal', 'Normal', 'Normal', 'Pnemonia', 'Pnemonia', 'Pnemonia', 'Pnemonia', 'Pnemonia', 'Pnemonia', 'Pnemonia', 'Pnemonia', 'Normal', 'Pnemonia', 'Pnemonia', 'Pnemonia', 'Normal', 'Normal', 'Pnemonia', 'Pnemonia', 'Pnemonia', 'Pnemonia', 'Normal', 'Normal', 'Pnemonia', 'Pnemonia', 'Normal', 'Normal', 'Normal', 'Normal', 'Normal', 'Normal', 'Pnemonia', 'Normal', 'Pnemonia', 'Pnemonia', 'Normal', 'Normal', 'Pnemonia', 'Pnemonia', 'Normal', 'Pnemonia', 'Normal', 'Normal', 'Normal', 'Pnemonia', 'Pnemonia', 'Pnemonia', 'Pnemonia', 'Normal', 'Pnemonia', 'Pnemonia', 'Pnemonia', 'Pnemonia', 'Pnemonia', 'Normal', 'Pnemonia', 'Normal', 'Pnemonia', 'Pnemonia', 'Pnemonia', 'Normal', 'Normal', 'Pnemonia', 'Pnemonia', 'Pnemonia', 'Pnemonia', 'Normal', 'Normal', 'Pnemonia', 'Pnemonia', 'Pnemonia', 'Normal', 'Pnemonia', 'Pnemonia', 'Pnemonia', 'Pnemonia', 'Pnemonia', 'Normal', 'Pnemonia', 'Pnemonia', 'Normal', 'Pnemonia', 'Pnemonia', 'Pnemonia', 'Pnemonia', 'Normal', 'Pnemonia', 'Pnemonia', 'Normal', 'Pnemonia', 'Normal', 'Pnemonia', 'Pnemonia', 'Normal', 'Pnemonia', 'Pnemonia', 'Normal', 'Normal', 'Normal', 'Pnemonia', 'Pnemonia', 'Pnemonia', 'Normal', 'Pnemonia', 'Pnemonia', 'Pnemonia', 'Pnemonia', 'Pnemonia', 'Pnemonia', 'Pnemonia', 'Normal', 'Pnemonia', 'Pnemonia', 'Normal', 'Normal', 'Pnemonia', 'Normal', 'Normal', 'Pnemonia', 'Pnemonia', 'Normal', 'Pnemonia', 'Pnemonia', 'Pnemonia', 'Pnemonia', 'Pnemonia', 'Pnemonia', 'Pnemonia', 'Pnemonia', 'Normal', 'Pnemonia', 'Normal', 'Normal', 'Pnemonia', 'Normal', 'Pnemonia', 'Pnemonia', 'Pnemonia', 'Normal', 'Pnemonia', 'Normal', 'Normal', 'Pnemonia', 'Normal', 'Pnemonia', 'Pnemonia', 'Pnemonia', 'Normal', 'Pnemonia', 'Pnemonia', 'Pnemonia', 'Pnemonia', 'Pnemonia', 'Normal', 'Normal', 'Normal', 'Pnemonia', 'Normal', 'Normal', 'Pnemonia', 'Pnemonia', 'Pnemonia', 'Normal', 'Normal', 'Normal', 'Pnemonia', 'Normal', 'Normal', 'Normal', 'Pnemonia', 'Pnemonia', 'Pnemonia', 'Pnemonia', 'Normal', 'Pnemonia', 'Normal', 'Pnemonia', 'Normal', 'Pnemonia', 'Pnemonia', 'Pnemonia', 'Pnemonia', 'Pnemonia', 'Normal', 'Pnemonia', 'Pnemonia', 'Pnemonia', 'Normal', 'Pnemonia', 'Pnemonia', 'Pnemonia', 'Normal', 'Normal', 'Pnemonia', 'Pnemonia', 'Pnemonia', 'Pnemonia', 'Pnemonia', 'Pnemonia', 'Pnemonia', 'Normal', 'Pnemonia', 'Pnemonia', 'Normal', 'Pnemonia', 'Normal', 'Normal', 'Pnemonia', 'Pnemonia', 'Pnemonia', 'Normal', 'Pnemonia', 'Normal', 'Pnemonia', 'Pnemonia', 'Pnemonia', 'Pnemonia', 'Normal', 'Pnemonia', 'Normal', 'Pnemonia', 'Pnemonia', 'Pnemonia', 'Normal', 'Normal', 'Pnemonia', 'Pnemonia', 'Normal', 'Pnemonia', 'Normal', 'Pnemonia', 'Pnemonia', 'Pnemonia', 'Normal', 'Normal', 'Normal', 'Pnemonia', 'Pnemonia', 'Pnemonia', 'Normal', 'Pnemonia', 'Normal', 'Pnemonia', 'Normal', 'Pnemonia', 'Pnemonia', 'Normal', 'Pnemonia', 'Pnemonia', 'Normal', 'Pnemonia', 'Pnemonia', 'Pnemonia', 'Pnemonia', 'Pnemonia', 'Pnemonia', 'Normal', 'Pnemonia', 'Pnemonia', 'Pnemonia', 'Normal', 'Normal', 'Normal', 'Pnemonia', 'Pnemonia', 'Pnemonia', 'Normal', 'Pnemonia', 'Normal', 'Normal', 'Normal', 'Normal', 'Pnemonia', 'Pnemonia', 'Normal', 'Normal', 'Normal', 'Pnemonia', 'Pnemonia', 'Normal', 'Pnemonia', 'Normal', 'Normal', 'Normal', 'Normal', 'Pnemonia', 'Pnemonia', 'Pnemonia', 'Pnemonia', 'Normal', 'Pnemonia', 'Normal', 'Pnemonia', 'Pnemonia', 'Pnemonia', 'Normal', 'Pnemonia', 'Pnemonia', 'Pnemonia', 'Normal', 'Normal', 'Pnemonia', 'Pnemonia', 'Pnemonia', 'Pnemonia', 'Pnemonia', 'Pnemonia', 'Pnemonia', 'Pnemonia', 'Pnemonia', 'Normal', 'Normal', 'Pnemonia', 'Normal', 'Normal', 'Pnemonia', 'Pnemonia', 'Pnemonia', 'Pnemonia', 'Pnemonia', 'Normal', 'Pnemonia', 'Normal', 'Pnemonia', 'Pnemonia', 'Pnemonia', 'Pnemonia', 'Pnemonia', 'Normal', 'Pnemonia', 'Normal', 'Pnemonia', 'Normal', 'Pnemonia', 'Normal', 'Normal', 'Pnemonia', 'Pnemonia', 'Pnemonia', 'Pnemonia', 'Pnemonia', 'Normal', 'Pnemonia', 'Pnemonia', 'Normal', 'Normal', 'Pnemonia', 'Pnemonia', 'Pnemonia', 'Pnemonia', 'Pnemonia', 'Pnemonia', 'Pnemonia', 'Pnemonia', 'Normal', 'Pnemonia', 'Normal', 'Pnemonia', 'Pnemonia', 'Normal', 'Normal', 'Pnemonia', 'Pnemonia', 'Normal', 'Normal', 'Pnemonia', 'Pnemonia', 'Pnemonia', 'Pnemonia', 'Pnemonia', 'Normal', 'Pnemonia', 'Pnemonia', 'Pnemonia', 'Pnemonia', 'Pnemonia', 'Pnemonia', 'Normal', 'Normal', 'Pnemonia', 'Pnemonia', 'Pnemonia', 'Normal', 'Pnemonia', 'Pnemonia', 'Pnemonia', 'Normal', 'Pnemonia', 'Normal', 'Normal', 'Pnemonia', 'Normal', 'Normal', 'Pnemonia', 'Pnemonia', 'Pnemonia', 'Normal', 'Pnemonia', 'Pnemonia', 'Normal', 'Normal', 'Pnemonia', 'Normal', 'Pnemonia', 'Normal', 'Pnemonia', 'Pnemonia', 'Pnemonia', 'Normal', 'Pnemonia', 'Pnemonia', 'Pnemonia', 'Pnemonia', 'Normal', 'Normal', 'Pnemonia', 'Pnemonia', 'Normal', 'Pnemonia', 'Pnemonia', 'Pnemonia', 'Pnemonia', 'Normal', 'Normal', 'Pnemonia', 'Pnemonia', 'Pnemonia', 'Normal', 'Normal', 'Pnemonia', 'Normal', 'Pnemonia', 'Normal', 'Pnemonia', 'Pnemonia', 'Pnemonia', 'Pnemonia', 'Normal', 'Normal', 'Pnemonia', 'Pnemonia', 'Pnemonia', 'Normal', 'Pnemonia', 'Normal', 'Pnemonia', 'Pnemonia', 'Pnemonia', 'Normal', 'Pnemonia', 'Normal', 'Normal', 'Normal', 'Pnemonia', 'Normal', 'Pnemonia', 'Pnemonia', 'Normal', 'Normal', 'Pnemonia', 'Pnemonia']\n",
            "[[ 85 141]\n",
            " [149 249]]\n"
          ]
        },
        {
          "output_type": "execute_result",
          "data": {
            "text/plain": [
              "<matplotlib.axes._subplots.AxesSubplot at 0x7fe38207c9d0>"
            ]
          },
          "metadata": {},
          "execution_count": 17
        },
        {
          "output_type": "display_data",
          "data": {
            "image/png": "[encoded data removed]",
            "text/plain": [
              "<Figure size 432x288 with 2 Axes>"
            ]
          },
          "metadata": {
            "needs_background": "light"
          }
        }
      ]
    },
    {
      "cell_type": "code",
      "source": [
        "hist_4_1 = model_4.fit(train_batches, epochs = 20)\n",
        "pred_4 = model_4.predict(test_batches)\n",
        "predicted_class_indices_4=np.argmax(pred_4,axis=1)\n",
        "labels_4 = dict((v,k) for k,v in test_labels.items())\n",
        "predictions_4 = [labels_4[k] for k in predicted_class_indices_4]\n",
        "print(predicted_class_indices_4)\n",
        "print(labels_4)\n",
        "print(predictions_4)\n",
        "cf4 = confusion_matrix(predicted_class_indices_4,test_batches.classes)\n",
        "print(cf4)\n",
        "\n",
        "group_names = ['True Normal','False Normal','False Pneumonia','True Pneumonia']\n",
        "group_counts = ['{0:0.0f}'.format(value) for value in\n",
        "                cf4.flatten()]\n",
        "group_percentages = ['{0:.2%}'.format(value) for value in\n",
        "                     cf4.flatten()/np.sum(cf4)]\n",
        "labels = [f'{v1}\\n{v2}\\n{v3}' for v1, v2, v3 in\n",
        "          zip(group_names,group_counts,group_percentages)]\n",
        "labels = np.asarray(labels).reshape(2,2)\n",
        "sns.heatmap(cf4, annot=labels, fmt='', cmap='Blues')"
      ],
      "metadata": {
        "colab": {
          "base_uri": "https://localhost:8080/",
          "height": 1000
        },
        "id": "RdIrYghpLe3r",
        "outputId": "0f0d6b99-c70c-4233-d007-0d6ae7fa8a6c"
      },
      "execution_count": 18,
      "outputs": [
        {
          "output_type": "stream",
          "name": "stdout",
          "text": [
            "Epoch 1/20\n",
            "149/149 [==============================] - 148s 993ms/step - loss: 0.2328 - accuracy: 0.9107\n",
            "Epoch 2/20\n",
            "149/149 [==============================] - 149s 997ms/step - loss: 0.2342 - accuracy: 0.9071\n",
            "Epoch 3/20\n",
            "149/149 [==============================] - 147s 989ms/step - loss: 0.2171 - accuracy: 0.9153\n",
            "Epoch 4/20\n",
            "149/149 [==============================] - 149s 1s/step - loss: 0.2183 - accuracy: 0.9189\n",
            "Epoch 5/20\n",
            "149/149 [==============================] - 150s 1s/step - loss: 0.2235 - accuracy: 0.9136\n",
            "Epoch 6/20\n",
            "149/149 [==============================] - 149s 1s/step - loss: 0.2246 - accuracy: 0.9075\n",
            "Epoch 7/20\n",
            "149/149 [==============================] - 149s 996ms/step - loss: 0.1981 - accuracy: 0.9240\n",
            "Epoch 8/20\n",
            "149/149 [==============================] - 149s 1000ms/step - loss: 0.2254 - accuracy: 0.9138\n",
            "Epoch 9/20\n",
            "149/149 [==============================] - 148s 993ms/step - loss: 0.2044 - accuracy: 0.9191\n",
            "Epoch 10/20\n",
            "149/149 [==============================] - 149s 1s/step - loss: 0.1969 - accuracy: 0.9221\n",
            "Epoch 11/20\n",
            "149/149 [==============================] - 149s 998ms/step - loss: 0.1888 - accuracy: 0.9307\n",
            "Epoch 12/20\n",
            "149/149 [==============================] - 149s 1000ms/step - loss: 0.1958 - accuracy: 0.9229\n",
            "Epoch 13/20\n",
            "149/149 [==============================] - 149s 1s/step - loss: 0.1946 - accuracy: 0.9221\n",
            "Epoch 14/20\n",
            "149/149 [==============================] - 150s 1s/step - loss: 0.1883 - accuracy: 0.9252\n",
            "Epoch 15/20\n",
            "149/149 [==============================] - 149s 1s/step - loss: 0.1876 - accuracy: 0.9199\n",
            "Epoch 16/20\n",
            "149/149 [==============================] - 148s 995ms/step - loss: 0.1746 - accuracy: 0.9288\n",
            "Epoch 17/20\n",
            "149/149 [==============================] - 149s 998ms/step - loss: 0.1746 - accuracy: 0.9299\n",
            "Epoch 18/20\n",
            "149/149 [==============================] - 150s 1s/step - loss: 0.1718 - accuracy: 0.9305\n",
            "Epoch 19/20\n",
            "149/149 [==============================] - 150s 1s/step - loss: 0.1786 - accuracy: 0.9296\n",
            "Epoch 20/20\n",
            "149/149 [==============================] - 151s 1s/step - loss: 0.1715 - accuracy: 0.9290\n",
            "[1 1 1 0 1 1 1 1 0 1 1 1 1 1 0 0 0 0 1 1 1 0 1 1 1 0 0 0 1 0 1 1 1 1 1 1 1\n",
            " 1 0 1 1 1 0 1 1 1 0 0 1 1 1 1 0 1 1 0 1 0 1 1 1 1 1 1 0 1 1 0 1 0 0 0 0 1\n",
            " 1 0 1 0 1 0 1 1 1 1 1 1 0 0 1 1 1 0 0 1 1 1 1 1 1 0 1 1 1 0 1 0 1 1 0 0 1\n",
            " 1 1 1 1 1 1 0 1 0 1 1 0 1 1 1 0 1 0 0 1 0 1 1 1 0 0 1 1 1 1 1 1 1 1 0 1 1\n",
            " 1 1 1 1 1 0 1 0 1 1 1 1 1 0 1 0 0 1 0 1 1 1 1 1 0 1 1 0 1 0 1 0 1 1 1 1 0\n",
            " 1 0 1 1 1 0 1 1 1 1 1 1 1 1 1 1 1 1 0 0 1 1 1 0 1 0 1 0 1 1 1 1 1 1 1 0 0\n",
            " 1 1 1 0 1 1 0 1 0 0 1 0 1 0 1 0 1 1 1 1 0 1 1 1 1 0 1 0 1 1 0 0 1 0 0 1 0\n",
            " 1 1 1 0 1 1 0 0 1 1 1 0 1 0 0 1 0 1 0 1 1 1 0 1 0 1 1 1 0 0 0 1 1 1 1 1 0\n",
            " 0 1 0 0 0 1 0 1 0 1 1 0 0 1 0 0 1 0 1 1 1 0 1 1 0 1 1 1 1 1 1 1 0 1 1 0 1\n",
            " 1 1 1 1 1 1 1 0 1 1 1 1 0 1 1 1 1 0 1 1 1 1 1 0 0 1 1 1 0 0 0 0 1 1 1 0 0\n",
            " 1 1 1 1 1 0 1 1 1 1 1 1 1 1 1 1 1 1 0 0 0 1 0 1 1 0 1 1 0 1 0 1 1 1 0 1 1\n",
            " 1 1 1 0 0 0 0 1 1 1 1 1 0 1 1 0 1 0 1 1 1 1 0 1 1 0 1 1 0 0 1 1 1 1 0 1 1\n",
            " 1 1 1 1 0 1 1 0 1 1 0 1 1 0 0 1 1 1 0 0 1 1 1 0 0 1 0 0 1 1 1 1 1 0 0 1 1\n",
            " 1 1 0 1 1 1 1 0 1 0 1 1 0 0 1 0 1 1 1 1 1 0 1 1 0 1 0 1 0 1 0 1 1 1 1 1 0\n",
            " 1 1 1 0 1 1 0 1 1 1 0 0 1 0 1 0 0 1 1 0 0 1 1 0 1 1 1 0 1 1 0 1 0 1 1 1 1\n",
            " 0 1 0 0 0 1 1 0 0 1 1 0 0 1 1 1 1 1 1 0 1 1 0 1 0 1 1 0 1 0 1 1 0 1 0 1 1\n",
            " 0 1 1 1 0 1 0 0 1 0 0 1 1 1 1 0 1 1 1 1 1 1 1 1 1 1 1 1 1 1 1 1]\n",
            "{0: 'Normal', 1: 'Pnemonia'}\n",
            "['Pnemonia', 'Pnemonia', 'Pnemonia', 'Normal', 'Pnemonia', 'Pnemonia', 'Pnemonia', 'Pnemonia', 'Normal', 'Pnemonia', 'Pnemonia', 'Pnemonia', 'Pnemonia', 'Pnemonia', 'Normal', 'Normal', 'Normal', 'Normal', 'Pnemonia', 'Pnemonia', 'Pnemonia', 'Normal', 'Pnemonia', 'Pnemonia', 'Pnemonia', 'Normal', 'Normal', 'Normal', 'Pnemonia', 'Normal', 'Pnemonia', 'Pnemonia', 'Pnemonia', 'Pnemonia', 'Pnemonia', 'Pnemonia', 'Pnemonia', 'Pnemonia', 'Normal', 'Pnemonia', 'Pnemonia', 'Pnemonia', 'Normal', 'Pnemonia', 'Pnemonia', 'Pnemonia', 'Normal', 'Normal', 'Pnemonia', 'Pnemonia', 'Pnemonia', 'Pnemonia', 'Normal', 'Pnemonia', 'Pnemonia', 'Normal', 'Pnemonia', 'Normal', 'Pnemonia', 'Pnemonia', 'Pnemonia', 'Pnemonia', 'Pnemonia', 'Pnemonia', 'Normal', 'Pnemonia', 'Pnemonia', 'Normal', 'Pnemonia', 'Normal', 'Normal', 'Normal', 'Normal', 'Pnemonia', 'Pnemonia', 'Normal', 'Pnemonia', 'Normal', 'Pnemonia', 'Normal', 'Pnemonia', 'Pnemonia', 'Pnemonia', 'Pnemonia', 'Pnemonia', 'Pnemonia', 'Normal', 'Normal', 'Pnemonia', 'Pnemonia', 'Pnemonia', 'Normal', 'Normal', 'Pnemonia', 'Pnemonia', 'Pnemonia', 'Pnemonia', 'Pnemonia', 'Pnemonia', 'Normal', 'Pnemonia', 'Pnemonia', 'Pnemonia', 'Normal', 'Pnemonia', 'Normal', 'Pnemonia', 'Pnemonia', 'Normal', 'Normal', 'Pnemonia', 'Pnemonia', 'Pnemonia', 'Pnemonia', 'Pnemonia', 'Pnemonia', 'Pnemonia', 'Normal', 'Pnemonia', 'Normal', 'Pnemonia', 'Pnemonia', 'Normal', 'Pnemonia', 'Pnemonia', 'Pnemonia', 'Normal', 'Pnemonia', 'Normal', 'Normal', 'Pnemonia', 'Normal', 'Pnemonia', 'Pnemonia', 'Pnemonia', 'Normal', 'Normal', 'Pnemonia', 'Pnemonia', 'Pnemonia', 'Pnemonia', 'Pnemonia', 'Pnemonia', 'Pnemonia', 'Pnemonia', 'Normal', 'Pnemonia', 'Pnemonia', 'Pnemonia', 'Pnemonia', 'Pnemonia', 'Pnemonia', 'Pnemonia', 'Normal', 'Pnemonia', 'Normal', 'Pnemonia', 'Pnemonia', 'Pnemonia', 'Pnemonia', 'Pnemonia', 'Normal', 'Pnemonia', 'Normal', 'Normal', 'Pnemonia', 'Normal', 'Pnemonia', 'Pnemonia', 'Pnemonia', 'Pnemonia', 'Pnemonia', 'Normal', 'Pnemonia', 'Pnemonia', 'Normal', 'Pnemonia', 'Normal', 'Pnemonia', 'Normal', 'Pnemonia', 'Pnemonia', 'Pnemonia', 'Pnemonia', 'Normal', 'Pnemonia', 'Normal', 'Pnemonia', 'Pnemonia', 'Pnemonia', 'Normal', 'Pnemonia', 'Pnemonia', 'Pnemonia', 'Pnemonia', 'Pnemonia', 'Pnemonia', 'Pnemonia', 'Pnemonia', 'Pnemonia', 'Pnemonia', 'Pnemonia', 'Pnemonia', 'Normal', 'Normal', 'Pnemonia', 'Pnemonia', 'Pnemonia', 'Normal', 'Pnemonia', 'Normal', 'Pnemonia', 'Normal', 'Pnemonia', 'Pnemonia', 'Pnemonia', 'Pnemonia', 'Pnemonia', 'Pnemonia', 'Pnemonia', 'Normal', 'Normal', 'Pnemonia', 'Pnemonia', 'Pnemonia', 'Normal', 'Pnemonia', 'Pnemonia', 'Normal', 'Pnemonia', 'Normal', 'Normal', 'Pnemonia', 'Normal', 'Pnemonia', 'Normal', 'Pnemonia', 'Normal', 'Pnemonia', 'Pnemonia', 'Pnemonia', 'Pnemonia', 'Normal', 'Pnemonia', 'Pnemonia', 'Pnemonia', 'Pnemonia', 'Normal', 'Pnemonia', 'Normal', 'Pnemonia', 'Pnemonia', 'Normal', 'Normal', 'Pnemonia', 'Normal', 'Normal', 'Pnemonia', 'Normal', 'Pnemonia', 'Pnemonia', 'Pnemonia', 'Normal', 'Pnemonia', 'Pnemonia', 'Normal', 'Normal', 'Pnemonia', 'Pnemonia', 'Pnemonia', 'Normal', 'Pnemonia', 'Normal', 'Normal', 'Pnemonia', 'Normal', 'Pnemonia', 'Normal', 'Pnemonia', 'Pnemonia', 'Pnemonia', 'Normal', 'Pnemonia', 'Normal', 'Pnemonia', 'Pnemonia', 'Pnemonia', 'Normal', 'Normal', 'Normal', 'Pnemonia', 'Pnemonia', 'Pnemonia', 'Pnemonia', 'Pnemonia', 'Normal', 'Normal', 'Pnemonia', 'Normal', 'Normal', 'Normal', 'Pnemonia', 'Normal', 'Pnemonia', 'Normal', 'Pnemonia', 'Pnemonia', 'Normal', 'Normal', 'Pnemonia', 'Normal', 'Normal', 'Pnemonia', 'Normal', 'Pnemonia', 'Pnemonia', 'Pnemonia', 'Normal', 'Pnemonia', 'Pnemonia', 'Normal', 'Pnemonia', 'Pnemonia', 'Pnemonia', 'Pnemonia', 'Pnemonia', 'Pnemonia', 'Pnemonia', 'Normal', 'Pnemonia', 'Pnemonia', 'Normal', 'Pnemonia', 'Pnemonia', 'Pnemonia', 'Pnemonia', 'Pnemonia', 'Pnemonia', 'Pnemonia', 'Pnemonia', 'Normal', 'Pnemonia', 'Pnemonia', 'Pnemonia', 'Pnemonia', 'Normal', 'Pnemonia', 'Pnemonia', 'Pnemonia', 'Pnemonia', 'Normal', 'Pnemonia', 'Pnemonia', 'Pnemonia', 'Pnemonia', 'Pnemonia', 'Normal', 'Normal', 'Pnemonia', 'Pnemonia', 'Pnemonia', 'Normal', 'Normal', 'Normal', 'Normal', 'Pnemonia', 'Pnemonia', 'Pnemonia', 'Normal', 'Normal', 'Pnemonia', 'Pnemonia', 'Pnemonia', 'Pnemonia', 'Pnemonia', 'Normal', 'Pnemonia', 'Pnemonia', 'Pnemonia', 'Pnemonia', 'Pnemonia', 'Pnemonia', 'Pnemonia', 'Pnemonia', 'Pnemonia', 'Pnemonia', 'Pnemonia', 'Pnemonia', 'Normal', 'Normal', 'Normal', 'Pnemonia', 'Normal', 'Pnemonia', 'Pnemonia', 'Normal', 'Pnemonia', 'Pnemonia', 'Normal', 'Pnemonia', 'Normal', 'Pnemonia', 'Pnemonia', 'Pnemonia', 'Normal', 'Pnemonia', 'Pnemonia', 'Pnemonia', 'Pnemonia', 'Pnemonia', 'Normal', 'Normal', 'Normal', 'Normal', 'Pnemonia', 'Pnemonia', 'Pnemonia', 'Pnemonia', 'Pnemonia', 'Normal', 'Pnemonia', 'Pnemonia', 'Normal', 'Pnemonia', 'Normal', 'Pnemonia', 'Pnemonia', 'Pnemonia', 'Pnemonia', 'Normal', 'Pnemonia', 'Pnemonia', 'Normal', 'Pnemonia', 'Pnemonia', 'Normal', 'Normal', 'Pnemonia', 'Pnemonia', 'Pnemonia', 'Pnemonia', 'Normal', 'Pnemonia', 'Pnemonia', 'Pnemonia', 'Pnemonia', 'Pnemonia', 'Pnemonia', 'Normal', 'Pnemonia', 'Pnemonia', 'Normal', 'Pnemonia', 'Pnemonia', 'Normal', 'Pnemonia', 'Pnemonia', 'Normal', 'Normal', 'Pnemonia', 'Pnemonia', 'Pnemonia', 'Normal', 'Normal', 'Pnemonia', 'Pnemonia', 'Pnemonia', 'Normal', 'Normal', 'Pnemonia', 'Normal', 'Normal', 'Pnemonia', 'Pnemonia', 'Pnemonia', 'Pnemonia', 'Pnemonia', 'Normal', 'Normal', 'Pnemonia', 'Pnemonia', 'Pnemonia', 'Pnemonia', 'Normal', 'Pnemonia', 'Pnemonia', 'Pnemonia', 'Pnemonia', 'Normal', 'Pnemonia', 'Normal', 'Pnemonia', 'Pnemonia', 'Normal', 'Normal', 'Pnemonia', 'Normal', 'Pnemonia', 'Pnemonia', 'Pnemonia', 'Pnemonia', 'Pnemonia', 'Normal', 'Pnemonia', 'Pnemonia', 'Normal', 'Pnemonia', 'Normal', 'Pnemonia', 'Normal', 'Pnemonia', 'Normal', 'Pnemonia', 'Pnemonia', 'Pnemonia', 'Pnemonia', 'Pnemonia', 'Normal', 'Pnemonia', 'Pnemonia', 'Pnemonia', 'Normal', 'Pnemonia', 'Pnemonia', 'Normal', 'Pnemonia', 'Pnemonia', 'Pnemonia', 'Normal', 'Normal', 'Pnemonia', 'Normal', 'Pnemonia', 'Normal', 'Normal', 'Pnemonia', 'Pnemonia', 'Normal', 'Normal', 'Pnemonia', 'Pnemonia', 'Normal', 'Pnemonia', 'Pnemonia', 'Pnemonia', 'Normal', 'Pnemonia', 'Pnemonia', 'Normal', 'Pnemonia', 'Normal', 'Pnemonia', 'Pnemonia', 'Pnemonia', 'Pnemonia', 'Normal', 'Pnemonia', 'Normal', 'Normal', 'Normal', 'Pnemonia', 'Pnemonia', 'Normal', 'Normal', 'Pnemonia', 'Pnemonia', 'Normal', 'Normal', 'Pnemonia', 'Pnemonia', 'Pnemonia', 'Pnemonia', 'Pnemonia', 'Pnemonia', 'Normal', 'Pnemonia', 'Pnemonia', 'Normal', 'Pnemonia', 'Normal', 'Pnemonia', 'Pnemonia', 'Normal', 'Pnemonia', 'Normal', 'Pnemonia', 'Pnemonia', 'Normal', 'Pnemonia', 'Normal', 'Pnemonia', 'Pnemonia', 'Normal', 'Pnemonia', 'Pnemonia', 'Pnemonia', 'Normal', 'Pnemonia', 'Normal', 'Normal', 'Pnemonia', 'Normal', 'Normal', 'Pnemonia', 'Pnemonia', 'Pnemonia', 'Pnemonia', 'Normal', 'Pnemonia', 'Pnemonia', 'Pnemonia', 'Pnemonia', 'Pnemonia', 'Pnemonia', 'Pnemonia', 'Pnemonia', 'Pnemonia', 'Pnemonia', 'Pnemonia', 'Pnemonia', 'Pnemonia', 'Pnemonia', 'Pnemonia', 'Pnemonia']\n",
            "[[ 71 131]\n",
            " [163 259]]\n"
          ]
        },
        {
          "output_type": "execute_result",
          "data": {
            "text/plain": [
              "<matplotlib.axes._subplots.AxesSubplot at 0x7fe30452ee10>"
            ]
          },
          "metadata": {},
          "execution_count": 18
        },
        {
          "output_type": "display_data",
          "data": {
            "image/png": "[encoded data removed]",
            "text/plain": [
              "<Figure size 432x288 with 2 Axes>"
            ]
          },
          "metadata": {
            "needs_background": "light"
          }
        }
      ]
    },
    {
      "cell_type": "code",
      "source": [
        "pred_4 = model_4.predict(test_batches)\n",
        "predicted_class_indices_4=np.argmax(pred_4,axis=1)\n",
        "test_labels = (test_batches.class_indices)\n",
        "labels_4 = dict((v,k) for k,v in test_labels.items())\n",
        "predictions_4 = [labels_4[k] for k in predicted_class_indices_4]\n",
        "print(predicted_class_indices_4)\n",
        "print(labels_4)\n",
        "print(predictions_4)\n",
        "cf4 = confusion_matrix(predicted_class_indices_4,test_batches.classes)\n",
        "print(cf4)\n",
        "\n",
        "group_names = ['True Normal','False Normal','False Pneumonia','True Pneumonia']\n",
        "group_counts = ['{0:0.0f}'.format(value) for value in\n",
        "                cf4.flatten()]\n",
        "group_percentages = ['{0:.2%}'.format(value) for value in\n",
        "                     cf4.flatten()/np.sum(cf4)]\n",
        "labels = [f'{v1}\\n{v2}\\n{v3}' for v1, v2, v3 in\n",
        "          zip(group_names,group_counts,group_percentages)]\n",
        "labels = np.asarray(labels).reshape(2,2)\n",
        "sns.heatmap(cf4, annot=labels, fmt='', cmap='Blues')"
      ],
      "metadata": {
        "colab": {
          "base_uri": "https://localhost:8080/",
          "height": 659
        },
        "id": "L_UiQyU27Pny",
        "outputId": "fe6ee097-9442-4ab8-d583-ae7ad03326f6"
      },
      "execution_count": 19,
      "outputs": [
        {
          "output_type": "stream",
          "name": "stdout",
          "text": [
            "[0 1 1 1 1 0 1 0 0 1 1 0 1 1 1 1 1 1 1 1 1 0 1 1 1 0 1 0 1 0 1 1 1 1 1 0 1\n",
            " 1 1 1 1 1 1 0 0 1 1 0 1 1 0 1 1 1 0 1 1 1 1 1 0 0 1 1 1 1 0 0 1 1 1 1 1 1\n",
            " 0 1 1 0 1 1 1 0 0 1 1 1 1 0 1 1 1 1 1 1 1 0 0 0 1 1 1 0 1 1 1 0 1 0 1 1 1\n",
            " 1 0 1 1 1 0 1 1 0 1 1 1 1 1 1 0 1 1 1 1 1 0 0 1 1 1 0 0 0 0 1 0 1 1 1 1 1\n",
            " 0 1 1 0 1 0 0 1 1 1 1 1 1 1 1 1 0 1 1 1 0 1 1 1 1 1 1 0 0 0 1 1 0 0 1 0 0\n",
            " 0 0 0 1 1 1 1 0 0 1 1 0 0 1 1 0 1 1 0 1 1 1 1 0 1 1 1 1 0 0 1 1 0 1 0 1 1\n",
            " 1 1 1 0 1 0 1 1 1 0 0 0 1 0 0 0 1 1 1 1 1 1 1 1 0 1 0 1 1 0 0 1 1 0 1 0 0\n",
            " 1 1 0 0 1 1 1 0 0 0 1 1 1 1 1 1 0 1 1 1 0 1 1 1 0 1 1 1 1 1 1 0 1 0 0 0 1\n",
            " 1 1 1 1 0 1 1 0 0 1 1 1 0 1 0 1 0 0 1 0 0 1 1 1 1 1 0 1 0 0 1 1 0 0 0 0 1\n",
            " 1 1 1 0 1 0 1 1 1 1 0 0 1 1 1 1 1 1 1 0 1 1 1 1 0 1 1 0 1 1 0 1 0 1 0 1 0\n",
            " 1 1 1 1 1 1 1 0 1 1 0 1 1 1 1 1 0 1 0 1 1 1 0 1 1 1 1 1 0 1 0 0 1 1 1 1 1\n",
            " 1 1 1 1 0 0 1 1 1 1 1 0 0 1 0 1 1 0 1 1 0 1 0 1 1 1 0 0 0 1 1 1 1 1 0 1 1\n",
            " 1 1 1 1 1 0 1 1 0 1 1 1 1 1 1 0 1 0 1 1 1 1 0 0 0 1 0 0 1 1 0 0 1 1 0 1 1\n",
            " 0 1 1 0 0 1 1 0 1 1 1 1 1 0 1 0 1 1 1 1 1 1 1 1 1 1 1 0 1 1 0 1 0 1 1 0 0\n",
            " 1 1 1 1 0 1 1 0 0 1 1 1 0 1 1 0 1 0 1 0 0 1 1 1 1 0 1 1 1 1 0 1 0 1 1 1 0\n",
            " 1 1 1 0 1 1 0 0 0 1 1 1 1 1 0 0 1 1 0 1 0 1 1 1 0 1 1 1 1 1 1 1 1 1 1 0 1\n",
            " 1 1 1 1 0 1 1 0 1 1 1 0 1 0 0 1 1 0 0 0 1 0 1 1 1 0 0 0 0 1 0 0]\n",
            "{0: 'Normal', 1: 'Pnemonia'}\n",
            "['Normal', 'Pnemonia', 'Pnemonia', 'Pnemonia', 'Pnemonia', 'Normal', 'Pnemonia', 'Normal', 'Normal', 'Pnemonia', 'Pnemonia', 'Normal', 'Pnemonia', 'Pnemonia', 'Pnemonia', 'Pnemonia', 'Pnemonia', 'Pnemonia', 'Pnemonia', 'Pnemonia', 'Pnemonia', 'Normal', 'Pnemonia', 'Pnemonia', 'Pnemonia', 'Normal', 'Pnemonia', 'Normal', 'Pnemonia', 'Normal', 'Pnemonia', 'Pnemonia', 'Pnemonia', 'Pnemonia', 'Pnemonia', 'Normal', 'Pnemonia', 'Pnemonia', 'Pnemonia', 'Pnemonia', 'Pnemonia', 'Pnemonia', 'Pnemonia', 'Normal', 'Normal', 'Pnemonia', 'Pnemonia', 'Normal', 'Pnemonia', 'Pnemonia', 'Normal', 'Pnemonia', 'Pnemonia', 'Pnemonia', 'Normal', 'Pnemonia', 'Pnemonia', 'Pnemonia', 'Pnemonia', 'Pnemonia', 'Normal', 'Normal', 'Pnemonia', 'Pnemonia', 'Pnemonia', 'Pnemonia', 'Normal', 'Normal', 'Pnemonia', 'Pnemonia', 'Pnemonia', 'Pnemonia', 'Pnemonia', 'Pnemonia', 'Normal', 'Pnemonia', 'Pnemonia', 'Normal', 'Pnemonia', 'Pnemonia', 'Pnemonia', 'Normal', 'Normal', 'Pnemonia', 'Pnemonia', 'Pnemonia', 'Pnemonia', 'Normal', 'Pnemonia', 'Pnemonia', 'Pnemonia', 'Pnemonia', 'Pnemonia', 'Pnemonia', 'Pnemonia', 'Normal', 'Normal', 'Normal', 'Pnemonia', 'Pnemonia', 'Pnemonia', 'Normal', 'Pnemonia', 'Pnemonia', 'Pnemonia', 'Normal', 'Pnemonia', 'Normal', 'Pnemonia', 'Pnemonia', 'Pnemonia', 'Pnemonia', 'Normal', 'Pnemonia', 'Pnemonia', 'Pnemonia', 'Normal', 'Pnemonia', 'Pnemonia', 'Normal', 'Pnemonia', 'Pnemonia', 'Pnemonia', 'Pnemonia', 'Pnemonia', 'Pnemonia', 'Normal', 'Pnemonia', 'Pnemonia', 'Pnemonia', 'Pnemonia', 'Pnemonia', 'Normal', 'Normal', 'Pnemonia', 'Pnemonia', 'Pnemonia', 'Normal', 'Normal', 'Normal', 'Normal', 'Pnemonia', 'Normal', 'Pnemonia', 'Pnemonia', 'Pnemonia', 'Pnemonia', 'Pnemonia', 'Normal', 'Pnemonia', 'Pnemonia', 'Normal', 'Pnemonia', 'Normal', 'Normal', 'Pnemonia', 'Pnemonia', 'Pnemonia', 'Pnemonia', 'Pnemonia', 'Pnemonia', 'Pnemonia', 'Pnemonia', 'Pnemonia', 'Normal', 'Pnemonia', 'Pnemonia', 'Pnemonia', 'Normal', 'Pnemonia', 'Pnemonia', 'Pnemonia', 'Pnemonia', 'Pnemonia', 'Pnemonia', 'Normal', 'Normal', 'Normal', 'Pnemonia', 'Pnemonia', 'Normal', 'Normal', 'Pnemonia', 'Normal', 'Normal', 'Normal', 'Normal', 'Normal', 'Pnemonia', 'Pnemonia', 'Pnemonia', 'Pnemonia', 'Normal', 'Normal', 'Pnemonia', 'Pnemonia', 'Normal', 'Normal', 'Pnemonia', 'Pnemonia', 'Normal', 'Pnemonia', 'Pnemonia', 'Normal', 'Pnemonia', 'Pnemonia', 'Pnemonia', 'Pnemonia', 'Normal', 'Pnemonia', 'Pnemonia', 'Pnemonia', 'Pnemonia', 'Normal', 'Normal', 'Pnemonia', 'Pnemonia', 'Normal', 'Pnemonia', 'Normal', 'Pnemonia', 'Pnemonia', 'Pnemonia', 'Pnemonia', 'Pnemonia', 'Normal', 'Pnemonia', 'Normal', 'Pnemonia', 'Pnemonia', 'Pnemonia', 'Normal', 'Normal', 'Normal', 'Pnemonia', 'Normal', 'Normal', 'Normal', 'Pnemonia', 'Pnemonia', 'Pnemonia', 'Pnemonia', 'Pnemonia', 'Pnemonia', 'Pnemonia', 'Pnemonia', 'Normal', 'Pnemonia', 'Normal', 'Pnemonia', 'Pnemonia', 'Normal', 'Normal', 'Pnemonia', 'Pnemonia', 'Normal', 'Pnemonia', 'Normal', 'Normal', 'Pnemonia', 'Pnemonia', 'Normal', 'Normal', 'Pnemonia', 'Pnemonia', 'Pnemonia', 'Normal', 'Normal', 'Normal', 'Pnemonia', 'Pnemonia', 'Pnemonia', 'Pnemonia', 'Pnemonia', 'Pnemonia', 'Normal', 'Pnemonia', 'Pnemonia', 'Pnemonia', 'Normal', 'Pnemonia', 'Pnemonia', 'Pnemonia', 'Normal', 'Pnemonia', 'Pnemonia', 'Pnemonia', 'Pnemonia', 'Pnemonia', 'Pnemonia', 'Normal', 'Pnemonia', 'Normal', 'Normal', 'Normal', 'Pnemonia', 'Pnemonia', 'Pnemonia', 'Pnemonia', 'Pnemonia', 'Normal', 'Pnemonia', 'Pnemonia', 'Normal', 'Normal', 'Pnemonia', 'Pnemonia', 'Pnemonia', 'Normal', 'Pnemonia', 'Normal', 'Pnemonia', 'Normal', 'Normal', 'Pnemonia', 'Normal', 'Normal', 'Pnemonia', 'Pnemonia', 'Pnemonia', 'Pnemonia', 'Pnemonia', 'Normal', 'Pnemonia', 'Normal', 'Normal', 'Pnemonia', 'Pnemonia', 'Normal', 'Normal', 'Normal', 'Normal', 'Pnemonia', 'Pnemonia', 'Pnemonia', 'Pnemonia', 'Normal', 'Pnemonia', 'Normal', 'Pnemonia', 'Pnemonia', 'Pnemonia', 'Pnemonia', 'Normal', 'Normal', 'Pnemonia', 'Pnemonia', 'Pnemonia', 'Pnemonia', 'Pnemonia', 'Pnemonia', 'Pnemonia', 'Normal', 'Pnemonia', 'Pnemonia', 'Pnemonia', 'Pnemonia', 'Normal', 'Pnemonia', 'Pnemonia', 'Normal', 'Pnemonia', 'Pnemonia', 'Normal', 'Pnemonia', 'Normal', 'Pnemonia', 'Normal', 'Pnemonia', 'Normal', 'Pnemonia', 'Pnemonia', 'Pnemonia', 'Pnemonia', 'Pnemonia', 'Pnemonia', 'Pnemonia', 'Normal', 'Pnemonia', 'Pnemonia', 'Normal', 'Pnemonia', 'Pnemonia', 'Pnemonia', 'Pnemonia', 'Pnemonia', 'Normal', 'Pnemonia', 'Normal', 'Pnemonia', 'Pnemonia', 'Pnemonia', 'Normal', 'Pnemonia', 'Pnemonia', 'Pnemonia', 'Pnemonia', 'Pnemonia', 'Normal', 'Pnemonia', 'Normal', 'Normal', 'Pnemonia', 'Pnemonia', 'Pnemonia', 'Pnemonia', 'Pnemonia', 'Pnemonia', 'Pnemonia', 'Pnemonia', 'Pnemonia', 'Normal', 'Normal', 'Pnemonia', 'Pnemonia', 'Pnemonia', 'Pnemonia', 'Pnemonia', 'Normal', 'Normal', 'Pnemonia', 'Normal', 'Pnemonia', 'Pnemonia', 'Normal', 'Pnemonia', 'Pnemonia', 'Normal', 'Pnemonia', 'Normal', 'Pnemonia', 'Pnemonia', 'Pnemonia', 'Normal', 'Normal', 'Normal', 'Pnemonia', 'Pnemonia', 'Pnemonia', 'Pnemonia', 'Pnemonia', 'Normal', 'Pnemonia', 'Pnemonia', 'Pnemonia', 'Pnemonia', 'Pnemonia', 'Pnemonia', 'Pnemonia', 'Normal', 'Pnemonia', 'Pnemonia', 'Normal', 'Pnemonia', 'Pnemonia', 'Pnemonia', 'Pnemonia', 'Pnemonia', 'Pnemonia', 'Normal', 'Pnemonia', 'Normal', 'Pnemonia', 'Pnemonia', 'Pnemonia', 'Pnemonia', 'Normal', 'Normal', 'Normal', 'Pnemonia', 'Normal', 'Normal', 'Pnemonia', 'Pnemonia', 'Normal', 'Normal', 'Pnemonia', 'Pnemonia', 'Normal', 'Pnemonia', 'Pnemonia', 'Normal', 'Pnemonia', 'Pnemonia', 'Normal', 'Normal', 'Pnemonia', 'Pnemonia', 'Normal', 'Pnemonia', 'Pnemonia', 'Pnemonia', 'Pnemonia', 'Pnemonia', 'Normal', 'Pnemonia', 'Normal', 'Pnemonia', 'Pnemonia', 'Pnemonia', 'Pnemonia', 'Pnemonia', 'Pnemonia', 'Pnemonia', 'Pnemonia', 'Pnemonia', 'Pnemonia', 'Pnemonia', 'Normal', 'Pnemonia', 'Pnemonia', 'Normal', 'Pnemonia', 'Normal', 'Pnemonia', 'Pnemonia', 'Normal', 'Normal', 'Pnemonia', 'Pnemonia', 'Pnemonia', 'Pnemonia', 'Normal', 'Pnemonia', 'Pnemonia', 'Normal', 'Normal', 'Pnemonia', 'Pnemonia', 'Pnemonia', 'Normal', 'Pnemonia', 'Pnemonia', 'Normal', 'Pnemonia', 'Normal', 'Pnemonia', 'Normal', 'Normal', 'Pnemonia', 'Pnemonia', 'Pnemonia', 'Pnemonia', 'Normal', 'Pnemonia', 'Pnemonia', 'Pnemonia', 'Pnemonia', 'Normal', 'Pnemonia', 'Normal', 'Pnemonia', 'Pnemonia', 'Pnemonia', 'Normal', 'Pnemonia', 'Pnemonia', 'Pnemonia', 'Normal', 'Pnemonia', 'Pnemonia', 'Normal', 'Normal', 'Normal', 'Pnemonia', 'Pnemonia', 'Pnemonia', 'Pnemonia', 'Pnemonia', 'Normal', 'Normal', 'Pnemonia', 'Pnemonia', 'Normal', 'Pnemonia', 'Normal', 'Pnemonia', 'Pnemonia', 'Pnemonia', 'Normal', 'Pnemonia', 'Pnemonia', 'Pnemonia', 'Pnemonia', 'Pnemonia', 'Pnemonia', 'Pnemonia', 'Pnemonia', 'Pnemonia', 'Pnemonia', 'Normal', 'Pnemonia', 'Pnemonia', 'Pnemonia', 'Pnemonia', 'Pnemonia', 'Normal', 'Pnemonia', 'Pnemonia', 'Normal', 'Pnemonia', 'Pnemonia', 'Pnemonia', 'Normal', 'Pnemonia', 'Normal', 'Normal', 'Pnemonia', 'Pnemonia', 'Normal', 'Normal', 'Normal', 'Pnemonia', 'Normal', 'Pnemonia', 'Pnemonia', 'Pnemonia', 'Normal', 'Normal', 'Normal', 'Normal', 'Pnemonia', 'Normal', 'Normal']\n",
            "[[ 73 129]\n",
            " [161 261]]\n"
          ]
        },
        {
          "output_type": "execute_result",
          "data": {
            "text/plain": [
              "<matplotlib.axes._subplots.AxesSubplot at 0x7fe38207f990>"
            ]
          },
          "metadata": {},
          "execution_count": 19
        },
        {
          "output_type": "display_data",
          "data": {
            "image/png": "[encoded data removed]",
            "text/plain": [
              "<Figure size 432x288 with 2 Axes>"
            ]
          },
          "metadata": {
            "needs_background": "light"
          }
        }
      ]
    },
    {
      "cell_type": "code",
      "source": [
        "model_5 = Sequential()\n",
        "Input_shape=(None, 256, 256, 3)\n",
        "model_5.add(Conv2D(32, kernel_size=(2,2), padding=\"same\", activation='relu', input_shape=Input_shape[1:]))\n",
        "model_5.add(MaxPooling2D())\n",
        "model_5.add(Conv2D(64, kernel_size=(2,2), padding=\"same\", activation='relu'))\n",
        "model_5.add(MaxPooling2D())\n",
        "model_5.add(Conv2D(32, kernel_size=(2,2), padding=\"same\", activation='relu'))\n",
        "model_5.add(MaxPooling2D())\n",
        "model_5.add(Conv2D(64, kernel_size=(2,2), padding=\"same\", activation='relu'))\n",
        "model_5.add(MaxPooling2D())\n",
        "model_5.add(Conv2D(32, kernel_size=(2,2), padding=\"same\", activation='relu'))\n",
        "model_5.add(MaxPooling2D())\n",
        "model_5.add(Conv2D(16, kernel_size=(2,2), padding=\"same\", activation='relu'))\n",
        "model_5.add(MaxPooling2D())\n",
        "model_5.add(Flatten())\n",
        "model_5.add(Dense(2, activation='softmax'))\n",
        "model_5.compile(optimizer='adam',\n",
        "              loss='categorical_crossentropy',\n",
        "              metrics=['accuracy'])\n",
        "model_5.summary()\n",
        "hist_5 = model_5.fit(train_batches, epochs = 10)\n",
        "\n",
        "pred_5 = model_5.predict(test_batches)\n",
        "predicted_class_indices_5=np.argmax(pred_5,axis=1)\n",
        "labels_5 = dict((v,k) for k,v in test_labels.items())\n",
        "predictions_5 = [labels_5[k] for k in predicted_class_indices_5]\n",
        "print(predicted_class_indices_5)\n",
        "print(labels_5)\n",
        "print(predictions_5)\n",
        "cf5 = confusion_matrix(predicted_class_indices_5,test_batches.classes)\n",
        "print(cf5)\n",
        "\n",
        "group_names = ['True Normal','False Normal','False Pneumonia','True Pneumonia']\n",
        "group_counts = ['{0:0.0f}'.format(value) for value in\n",
        "                cf5.flatten()]\n",
        "group_percentages = ['{0:.2%}'.format(value) for value in\n",
        "                     cf5.flatten()/np.sum(cf5)]\n",
        "labels = [f'{v1}\\n{v2}\\n{v3}' for v1, v2, v3 in\n",
        "          zip(group_names,group_counts,group_percentages)]\n",
        "labels = np.asarray(labels).reshape(2,2)\n",
        "sns.heatmap(cf5, annot=labels, fmt='', cmap='Blues')"
      ],
      "metadata": {
        "colab": {
          "base_uri": "https://localhost:8080/",
          "height": 1000
        },
        "id": "R0o-JIKDMJYn",
        "outputId": "e8380aac-4285-4be8-e5c0-b03f181b4a61"
      },
      "execution_count": 27,
      "outputs": [
        {
          "output_type": "stream",
          "name": "stdout",
          "text": [
            "Model: \"sequential_5\"\n",
            "_________________________________________________________________\n",
            " Layer (type)                Output Shape              Param #   \n",
            "=================================================================\n",
            " conv2d_14 (Conv2D)          (None, 256, 256, 32)      416       \n",
            "                                                                 \n",
            " max_pooling2d_14 (MaxPoolin  (None, 128, 128, 32)     0         \n",
            " g2D)                                                            \n",
            "                                                                 \n",
            " conv2d_15 (Conv2D)          (None, 128, 128, 64)      8256      \n",
            "                                                                 \n",
            " max_pooling2d_15 (MaxPoolin  (None, 64, 64, 64)       0         \n",
            " g2D)                                                            \n",
            "                                                                 \n",
            " conv2d_16 (Conv2D)          (None, 64, 64, 32)        8224      \n",
            "                                                                 \n",
            " max_pooling2d_16 (MaxPoolin  (None, 32, 32, 32)       0         \n",
            " g2D)                                                            \n",
            "                                                                 \n",
            " conv2d_17 (Conv2D)          (None, 32, 32, 64)        8256      \n",
            "                                                                 \n",
            " max_pooling2d_17 (MaxPoolin  (None, 16, 16, 64)       0         \n",
            " g2D)                                                            \n",
            "                                                                 \n",
            " conv2d_18 (Conv2D)          (None, 16, 16, 32)        8224      \n",
            "                                                                 \n",
            " max_pooling2d_18 (MaxPoolin  (None, 8, 8, 32)         0         \n",
            " g2D)                                                            \n",
            "                                                                 \n",
            " conv2d_19 (Conv2D)          (None, 8, 8, 16)          2064      \n",
            "                                                                 \n",
            " max_pooling2d_19 (MaxPoolin  (None, 4, 4, 16)         0         \n",
            " g2D)                                                            \n",
            "                                                                 \n",
            " flatten_5 (Flatten)         (None, 256)               0         \n",
            "                                                                 \n",
            " dense_5 (Dense)             (None, 2)                 514       \n",
            "                                                                 \n",
            "=================================================================\n",
            "Total params: 35,954\n",
            "Trainable params: 35,954\n",
            "Non-trainable params: 0\n",
            "_________________________________________________________________\n",
            "Epoch 1/10\n",
            "149/149 [==============================] - 122s 818ms/step - loss: 0.5057 - accuracy: 0.7845\n",
            "Epoch 2/10\n",
            "149/149 [==============================] - 122s 815ms/step - loss: 0.3055 - accuracy: 0.8749\n",
            "Epoch 3/10\n",
            "149/149 [==============================] - 121s 814ms/step - loss: 0.2680 - accuracy: 0.8860\n",
            "Epoch 4/10\n",
            "149/149 [==============================] - 122s 819ms/step - loss: 0.2422 - accuracy: 0.9008\n",
            "Epoch 5/10\n",
            "149/149 [==============================] - 122s 816ms/step - loss: 0.2016 - accuracy: 0.9202\n",
            "Epoch 6/10\n",
            "149/149 [==============================] - 121s 814ms/step - loss: 0.2122 - accuracy: 0.9164\n",
            "Epoch 7/10\n",
            "149/149 [==============================] - 122s 817ms/step - loss: 0.1942 - accuracy: 0.9290\n",
            "Epoch 8/10\n",
            "149/149 [==============================] - 122s 819ms/step - loss: 0.1981 - accuracy: 0.9235\n",
            "Epoch 9/10\n",
            "149/149 [==============================] - 122s 818ms/step - loss: 0.1982 - accuracy: 0.9250\n",
            "Epoch 10/10\n",
            "149/149 [==============================] - 122s 820ms/step - loss: 0.1897 - accuracy: 0.9275\n",
            "[0 0 0 1 0 1 0 0 1 0 0 1 1 1 1 0 1 1 1 1 0 1 1 0 1 0 1 1 1 1 1 0 0 1 1 1 1\n",
            " 1 1 0 0 0 1 1 0 0 1 0 1 1 1 1 1 1 1 0 0 0 1 1 0 1 1 1 1 1 1 1 1 1 1 1 0 0\n",
            " 1 1 0 1 0 1 1 1 0 1 0 1 0 1 0 0 1 0 0 0 1 1 1 1 1 0 1 1 0 1 1 1 1 0 1 1 0\n",
            " 1 0 1 1 0 1 1 1 1 0 1 1 1 1 1 0 0 1 1 1 1 0 1 1 1 1 1 1 1 1 0 1 1 1 1 0 1\n",
            " 1 1 1 1 1 1 1 1 1 1 1 1 1 0 1 1 1 1 0 1 1 1 0 1 0 1 1 1 0 1 1 1 1 1 1 1 1\n",
            " 1 1 1 1 0 0 0 0 1 1 1 1 0 1 0 1 1 1 1 1 0 1 1 1 1 1 1 1 0 1 0 0 1 1 1 0 1\n",
            " 1 0 1 0 0 1 1 0 1 1 1 1 1 1 1 1 0 0 1 1 1 1 1 0 1 1 1 1 1 1 1 1 1 0 0 1 1\n",
            " 1 1 1 1 1 0 1 0 1 1 0 0 1 1 1 0 0 0 1 1 1 0 1 1 0 1 0 1 1 0 0 1 1 0 1 1 1\n",
            " 1 0 1 1 1 1 1 1 0 1 0 1 0 1 1 1 1 0 0 1 0 0 0 1 0 0 0 0 1 1 1 1 1 1 1 0 1\n",
            " 1 1 1 0 1 0 0 1 0 1 1 1 0 1 1 0 0 1 1 1 1 1 0 1 0 1 1 1 1 0 0 1 1 1 0 1 0\n",
            " 0 1 1 1 1 1 0 0 1 1 1 1 1 0 1 1 1 0 1 1 1 0 1 1 1 1 1 0 1 0 1 0 1 1 1 1 1\n",
            " 0 0 1 1 1 1 1 0 1 1 0 0 1 0 0 0 1 0 1 1 1 0 1 0 1 1 1 1 1 1 1 1 1 1 1 1 0\n",
            " 1 1 1 1 0 0 1 0 1 1 0 0 1 1 1 1 0 1 1 1 0 0 1 1 1 0 1 1 1 1 0 1 1 1 0 1 1\n",
            " 0 0 1 1 1 1 1 1 1 0 1 1 1 1 1 0 1 1 1 0 0 0 1 0 1 1 0 0 1 1 1 0 1 1 0 1 1\n",
            " 0 1 0 0 0 1 0 1 1 1 1 1 0 1 1 0 1 1 0 1 1 0 1 0 1 1 1 0 1 1 1 0 1 1 0 0 1\n",
            " 1 1 0 1 1 1 0 1 1 1 0 1 1 1 1 1 1 1 1 1 0 0 1 1 0 1 1 1 1 1 1 1 1 0 1 1 1\n",
            " 1 1 1 1 1 1 1 1 1 1 1 0 0 1 1 1 1 0 1 1 1 1 1 0 0 0 0 1 0 1 1 0]\n",
            "{0: 'Normal', 1: 'Pnemonia'}\n",
            "['Normal', 'Normal', 'Normal', 'Pnemonia', 'Normal', 'Pnemonia', 'Normal', 'Normal', 'Pnemonia', 'Normal', 'Normal', 'Pnemonia', 'Pnemonia', 'Pnemonia', 'Pnemonia', 'Normal', 'Pnemonia', 'Pnemonia', 'Pnemonia', 'Pnemonia', 'Normal', 'Pnemonia', 'Pnemonia', 'Normal', 'Pnemonia', 'Normal', 'Pnemonia', 'Pnemonia', 'Pnemonia', 'Pnemonia', 'Pnemonia', 'Normal', 'Normal', 'Pnemonia', 'Pnemonia', 'Pnemonia', 'Pnemonia', 'Pnemonia', 'Pnemonia', 'Normal', 'Normal', 'Normal', 'Pnemonia', 'Pnemonia', 'Normal', 'Normal', 'Pnemonia', 'Normal', 'Pnemonia', 'Pnemonia', 'Pnemonia', 'Pnemonia', 'Pnemonia', 'Pnemonia', 'Pnemonia', 'Normal', 'Normal', 'Normal', 'Pnemonia', 'Pnemonia', 'Normal', 'Pnemonia', 'Pnemonia', 'Pnemonia', 'Pnemonia', 'Pnemonia', 'Pnemonia', 'Pnemonia', 'Pnemonia', 'Pnemonia', 'Pnemonia', 'Pnemonia', 'Normal', 'Normal', 'Pnemonia', 'Pnemonia', 'Normal', 'Pnemonia', 'Normal', 'Pnemonia', 'Pnemonia', 'Pnemonia', 'Normal', 'Pnemonia', 'Normal', 'Pnemonia', 'Normal', 'Pnemonia', 'Normal', 'Normal', 'Pnemonia', 'Normal', 'Normal', 'Normal', 'Pnemonia', 'Pnemonia', 'Pnemonia', 'Pnemonia', 'Pnemonia', 'Normal', 'Pnemonia', 'Pnemonia', 'Normal', 'Pnemonia', 'Pnemonia', 'Pnemonia', 'Pnemonia', 'Normal', 'Pnemonia', 'Pnemonia', 'Normal', 'Pnemonia', 'Normal', 'Pnemonia', 'Pnemonia', 'Normal', 'Pnemonia', 'Pnemonia', 'Pnemonia', 'Pnemonia', 'Normal', 'Pnemonia', 'Pnemonia', 'Pnemonia', 'Pnemonia', 'Pnemonia', 'Normal', 'Normal', 'Pnemonia', 'Pnemonia', 'Pnemonia', 'Pnemonia', 'Normal', 'Pnemonia', 'Pnemonia', 'Pnemonia', 'Pnemonia', 'Pnemonia', 'Pnemonia', 'Pnemonia', 'Pnemonia', 'Normal', 'Pnemonia', 'Pnemonia', 'Pnemonia', 'Pnemonia', 'Normal', 'Pnemonia', 'Pnemonia', 'Pnemonia', 'Pnemonia', 'Pnemonia', 'Pnemonia', 'Pnemonia', 'Pnemonia', 'Pnemonia', 'Pnemonia', 'Pnemonia', 'Pnemonia', 'Pnemonia', 'Pnemonia', 'Normal', 'Pnemonia', 'Pnemonia', 'Pnemonia', 'Pnemonia', 'Normal', 'Pnemonia', 'Pnemonia', 'Pnemonia', 'Normal', 'Pnemonia', 'Normal', 'Pnemonia', 'Pnemonia', 'Pnemonia', 'Normal', 'Pnemonia', 'Pnemonia', 'Pnemonia', 'Pnemonia', 'Pnemonia', 'Pnemonia', 'Pnemonia', 'Pnemonia', 'Pnemonia', 'Pnemonia', 'Pnemonia', 'Pnemonia', 'Normal', 'Normal', 'Normal', 'Normal', 'Pnemonia', 'Pnemonia', 'Pnemonia', 'Pnemonia', 'Normal', 'Pnemonia', 'Normal', 'Pnemonia', 'Pnemonia', 'Pnemonia', 'Pnemonia', 'Pnemonia', 'Normal', 'Pnemonia', 'Pnemonia', 'Pnemonia', 'Pnemonia', 'Pnemonia', 'Pnemonia', 'Pnemonia', 'Normal', 'Pnemonia', 'Normal', 'Normal', 'Pnemonia', 'Pnemonia', 'Pnemonia', 'Normal', 'Pnemonia', 'Pnemonia', 'Normal', 'Pnemonia', 'Normal', 'Normal', 'Pnemonia', 'Pnemonia', 'Normal', 'Pnemonia', 'Pnemonia', 'Pnemonia', 'Pnemonia', 'Pnemonia', 'Pnemonia', 'Pnemonia', 'Pnemonia', 'Normal', 'Normal', 'Pnemonia', 'Pnemonia', 'Pnemonia', 'Pnemonia', 'Pnemonia', 'Normal', 'Pnemonia', 'Pnemonia', 'Pnemonia', 'Pnemonia', 'Pnemonia', 'Pnemonia', 'Pnemonia', 'Pnemonia', 'Pnemonia', 'Normal', 'Normal', 'Pnemonia', 'Pnemonia', 'Pnemonia', 'Pnemonia', 'Pnemonia', 'Pnemonia', 'Pnemonia', 'Normal', 'Pnemonia', 'Normal', 'Pnemonia', 'Pnemonia', 'Normal', 'Normal', 'Pnemonia', 'Pnemonia', 'Pnemonia', 'Normal', 'Normal', 'Normal', 'Pnemonia', 'Pnemonia', 'Pnemonia', 'Normal', 'Pnemonia', 'Pnemonia', 'Normal', 'Pnemonia', 'Normal', 'Pnemonia', 'Pnemonia', 'Normal', 'Normal', 'Pnemonia', 'Pnemonia', 'Normal', 'Pnemonia', 'Pnemonia', 'Pnemonia', 'Pnemonia', 'Normal', 'Pnemonia', 'Pnemonia', 'Pnemonia', 'Pnemonia', 'Pnemonia', 'Pnemonia', 'Normal', 'Pnemonia', 'Normal', 'Pnemonia', 'Normal', 'Pnemonia', 'Pnemonia', 'Pnemonia', 'Pnemonia', 'Normal', 'Normal', 'Pnemonia', 'Normal', 'Normal', 'Normal', 'Pnemonia', 'Normal', 'Normal', 'Normal', 'Normal', 'Pnemonia', 'Pnemonia', 'Pnemonia', 'Pnemonia', 'Pnemonia', 'Pnemonia', 'Pnemonia', 'Normal', 'Pnemonia', 'Pnemonia', 'Pnemonia', 'Pnemonia', 'Normal', 'Pnemonia', 'Normal', 'Normal', 'Pnemonia', 'Normal', 'Pnemonia', 'Pnemonia', 'Pnemonia', 'Normal', 'Pnemonia', 'Pnemonia', 'Normal', 'Normal', 'Pnemonia', 'Pnemonia', 'Pnemonia', 'Pnemonia', 'Pnemonia', 'Normal', 'Pnemonia', 'Normal', 'Pnemonia', 'Pnemonia', 'Pnemonia', 'Pnemonia', 'Normal', 'Normal', 'Pnemonia', 'Pnemonia', 'Pnemonia', 'Normal', 'Pnemonia', 'Normal', 'Normal', 'Pnemonia', 'Pnemonia', 'Pnemonia', 'Pnemonia', 'Pnemonia', 'Normal', 'Normal', 'Pnemonia', 'Pnemonia', 'Pnemonia', 'Pnemonia', 'Pnemonia', 'Normal', 'Pnemonia', 'Pnemonia', 'Pnemonia', 'Normal', 'Pnemonia', 'Pnemonia', 'Pnemonia', 'Normal', 'Pnemonia', 'Pnemonia', 'Pnemonia', 'Pnemonia', 'Pnemonia', 'Normal', 'Pnemonia', 'Normal', 'Pnemonia', 'Normal', 'Pnemonia', 'Pnemonia', 'Pnemonia', 'Pnemonia', 'Pnemonia', 'Normal', 'Normal', 'Pnemonia', 'Pnemonia', 'Pnemonia', 'Pnemonia', 'Pnemonia', 'Normal', 'Pnemonia', 'Pnemonia', 'Normal', 'Normal', 'Pnemonia', 'Normal', 'Normal', 'Normal', 'Pnemonia', 'Normal', 'Pnemonia', 'Pnemonia', 'Pnemonia', 'Normal', 'Pnemonia', 'Normal', 'Pnemonia', 'Pnemonia', 'Pnemonia', 'Pnemonia', 'Pnemonia', 'Pnemonia', 'Pnemonia', 'Pnemonia', 'Pnemonia', 'Pnemonia', 'Pnemonia', 'Pnemonia', 'Normal', 'Pnemonia', 'Pnemonia', 'Pnemonia', 'Pnemonia', 'Normal', 'Normal', 'Pnemonia', 'Normal', 'Pnemonia', 'Pnemonia', 'Normal', 'Normal', 'Pnemonia', 'Pnemonia', 'Pnemonia', 'Pnemonia', 'Normal', 'Pnemonia', 'Pnemonia', 'Pnemonia', 'Normal', 'Normal', 'Pnemonia', 'Pnemonia', 'Pnemonia', 'Normal', 'Pnemonia', 'Pnemonia', 'Pnemonia', 'Pnemonia', 'Normal', 'Pnemonia', 'Pnemonia', 'Pnemonia', 'Normal', 'Pnemonia', 'Pnemonia', 'Normal', 'Normal', 'Pnemonia', 'Pnemonia', 'Pnemonia', 'Pnemonia', 'Pnemonia', 'Pnemonia', 'Pnemonia', 'Normal', 'Pnemonia', 'Pnemonia', 'Pnemonia', 'Pnemonia', 'Pnemonia', 'Normal', 'Pnemonia', 'Pnemonia', 'Pnemonia', 'Normal', 'Normal', 'Normal', 'Pnemonia', 'Normal', 'Pnemonia', 'Pnemonia', 'Normal', 'Normal', 'Pnemonia', 'Pnemonia', 'Pnemonia', 'Normal', 'Pnemonia', 'Pnemonia', 'Normal', 'Pnemonia', 'Pnemonia', 'Normal', 'Pnemonia', 'Normal', 'Normal', 'Normal', 'Pnemonia', 'Normal', 'Pnemonia', 'Pnemonia', 'Pnemonia', 'Pnemonia', 'Pnemonia', 'Normal', 'Pnemonia', 'Pnemonia', 'Normal', 'Pnemonia', 'Pnemonia', 'Normal', 'Pnemonia', 'Pnemonia', 'Normal', 'Pnemonia', 'Normal', 'Pnemonia', 'Pnemonia', 'Pnemonia', 'Normal', 'Pnemonia', 'Pnemonia', 'Pnemonia', 'Normal', 'Pnemonia', 'Pnemonia', 'Normal', 'Normal', 'Pnemonia', 'Pnemonia', 'Pnemonia', 'Normal', 'Pnemonia', 'Pnemonia', 'Pnemonia', 'Normal', 'Pnemonia', 'Pnemonia', 'Pnemonia', 'Normal', 'Pnemonia', 'Pnemonia', 'Pnemonia', 'Pnemonia', 'Pnemonia', 'Pnemonia', 'Pnemonia', 'Pnemonia', 'Pnemonia', 'Normal', 'Normal', 'Pnemonia', 'Pnemonia', 'Normal', 'Pnemonia', 'Pnemonia', 'Pnemonia', 'Pnemonia', 'Pnemonia', 'Pnemonia', 'Pnemonia', 'Pnemonia', 'Normal', 'Pnemonia', 'Pnemonia', 'Pnemonia', 'Pnemonia', 'Pnemonia', 'Pnemonia', 'Pnemonia', 'Pnemonia', 'Pnemonia', 'Pnemonia', 'Pnemonia', 'Pnemonia', 'Pnemonia', 'Pnemonia', 'Normal', 'Normal', 'Pnemonia', 'Pnemonia', 'Pnemonia', 'Pnemonia', 'Normal', 'Pnemonia', 'Pnemonia', 'Pnemonia', 'Pnemonia', 'Pnemonia', 'Normal', 'Normal', 'Normal', 'Normal', 'Pnemonia', 'Normal', 'Pnemonia', 'Pnemonia', 'Normal']\n",
            "[[ 68 119]\n",
            " [166 271]]\n"
          ]
        },
        {
          "output_type": "execute_result",
          "data": {
            "text/plain": [
              "<matplotlib.axes._subplots.AxesSubplot at 0x7fd49e0ba7d0>"
            ]
          },
          "metadata": {},
          "execution_count": 27
        },
        {
          "output_type": "display_data",
          "data": {
            "image/png": "[encoded data removed]",
            "text/plain": [
              "<Figure size 432x288 with 2 Axes>"
            ]
          },
          "metadata": {
            "needs_background": "light"
          }
        }
      ]
    },
    {
      "cell_type": "code",
      "source": [
        "# Transfer Learning\n",
        "data_augmentation = tf.keras.Sequential([\n",
        "  tf.keras.layers.RandomFlip('horizontal'),\n",
        "  tf.keras.layers.RandomRotation(0.2),\n",
        "])\n",
        "\n",
        "preprocess_input = tf.keras.applications.mobilenet_v2.preprocess_input\n",
        "\n",
        "\n",
        "base_model = tf.keras.applications.MobileNetV2(input_shape=Input_shape[1:],\n",
        "                                               include_top=False,\n",
        "                                               weights='imagenet')\n",
        "image_batch, label_batch = next(iter(train_batches)) \n",
        "\n",
        "feature_batch = base_model(image_batch)\n",
        "base_model.trainable = False\n",
        "base_model.summary()\n",
        "global_average_layer = tf.keras.layers.GlobalAveragePooling2D()\n",
        "feature_batch_average = global_average_layer(feature_batch)\n",
        "prediction_layer = tf.keras.layers.Dense(2)\n",
        "prediction_batch = prediction_layer(feature_batch_average)\n",
        "inputs = tf.keras.Input(shape=(256, 256, 3))\n",
        "x = data_augmentation(inputs)\n",
        "x = preprocess_input(x)\n",
        "x = base_model(x, training=False)\n",
        "x = global_average_layer(x)\n",
        "x = tf.keras.layers.Dropout(0.2)(x)\n",
        "outputs = prediction_layer(x)\n",
        "model = tf.keras.Model(inputs, outputs)\n",
        "base_learning_rate = 0.0001\n",
        "model.compile(optimizer=tf.keras.optimizers.Adam(learning_rate=base_learning_rate),\n",
        "              loss=tf.keras.losses.BinaryCrossentropy(from_logits=True),\n",
        "              metrics=['accuracy'])\n",
        "model.summary()\n",
        "loss0, accuracy0 = model.evaluate(valid_batches)\n",
        "initial_epochs = 10\n",
        "history = model.fit(train_batches,\n",
        "                    epochs=initial_epochs,\n",
        "                    validation_data=valid_batches)\n"
      ],
      "metadata": {
        "colab": {
          "base_uri": "https://localhost:8080/"
        },
        "id": "zFtp2Fs8GA70",
        "outputId": "74ec6994-3d1e-49f4-8581-3ae9de4ef950"
      },
      "execution_count": 28,
      "outputs": [
        {
          "output_type": "stream",
          "name": "stdout",
          "text": [
            "WARNING:tensorflow:`input_shape` is undefined or non-square, or `rows` is not in [96, 128, 160, 192, 224]. Weights for input shape (224, 224) will be loaded as the default.\n",
            "Downloading data from https://storage.googleapis.com/tensorflow/keras-applications/mobilenet_v2/mobilenet_v2_weights_tf_dim_ordering_tf_kernels_1.0_224_no_top.h5\n",
            "9412608/9406464 [==============================] - 0s 0us/step\n",
            "9420800/9406464 [==============================] - 0s 0us/step\n",
            "Model: \"mobilenetv2_1.00_224\"\n",
            "__________________________________________________________________________________________________\n",
            " Layer (type)                   Output Shape         Param #     Connected to                     \n",
            "==================================================================================================\n",
            " input_1 (InputLayer)           [(None, 256, 256, 3  0           []                               \n",
            "                                )]                                                                \n",
            "                                                                                                  \n",
            " Conv1 (Conv2D)                 (None, 128, 128, 32  864         ['input_1[0][0]']                \n",
            "                                )                                                                 \n",
            "                                                                                                  \n",
            " bn_Conv1 (BatchNormalization)  (None, 128, 128, 32  128         ['Conv1[0][0]']                  \n",
            "                                )                                                                 \n",
            "                                                                                                  \n",
            " Conv1_relu (ReLU)              (None, 128, 128, 32  0           ['bn_Conv1[0][0]']               \n",
            "                                )                                                                 \n",
            "                                                                                                  \n",
            " expanded_conv_depthwise (Depth  (None, 128, 128, 32  288        ['Conv1_relu[0][0]']             \n",
            " wiseConv2D)                    )                                                                 \n",
            "                                                                                                  \n",
            " expanded_conv_depthwise_BN (Ba  (None, 128, 128, 32  128        ['expanded_conv_depthwise[0][0]']\n",
            " tchNormalization)              )                                                                 \n",
            "                                                                                                  \n",
            " expanded_conv_depthwise_relu (  (None, 128, 128, 32  0          ['expanded_conv_depthwise_BN[0][0\n",
            " ReLU)                          )                                ]']                              \n",
            "                                                                                                  \n",
            " expanded_conv_project (Conv2D)  (None, 128, 128, 16  512        ['expanded_conv_depthwise_relu[0]\n",
            "                                )                                [0]']                            \n",
            "                                                                                                  \n",
            " expanded_conv_project_BN (Batc  (None, 128, 128, 16  64         ['expanded_conv_project[0][0]']  \n",
            " hNormalization)                )                                                                 \n",
            "                                                                                                  \n",
            " block_1_expand (Conv2D)        (None, 128, 128, 96  1536        ['expanded_conv_project_BN[0][0]'\n",
            "                                )                                ]                                \n",
            "                                                                                                  \n",
            " block_1_expand_BN (BatchNormal  (None, 128, 128, 96  384        ['block_1_expand[0][0]']         \n",
            " ization)                       )                                                                 \n",
            "                                                                                                  \n",
            " block_1_expand_relu (ReLU)     (None, 128, 128, 96  0           ['block_1_expand_BN[0][0]']      \n",
            "                                )                                                                 \n",
            "                                                                                                  \n",
            " block_1_pad (ZeroPadding2D)    (None, 129, 129, 96  0           ['block_1_expand_relu[0][0]']    \n",
            "                                )                                                                 \n",
            "                                                                                                  \n",
            " block_1_depthwise (DepthwiseCo  (None, 64, 64, 96)  864         ['block_1_pad[0][0]']            \n",
            " nv2D)                                                                                            \n",
            "                                                                                                  \n",
            " block_1_depthwise_BN (BatchNor  (None, 64, 64, 96)  384         ['block_1_depthwise[0][0]']      \n",
            " malization)                                                                                      \n",
            "                                                                                                  \n",
            " block_1_depthwise_relu (ReLU)  (None, 64, 64, 96)   0           ['block_1_depthwise_BN[0][0]']   \n",
            "                                                                                                  \n",
            " block_1_project (Conv2D)       (None, 64, 64, 24)   2304        ['block_1_depthwise_relu[0][0]'] \n",
            "                                                                                                  \n",
            " block_1_project_BN (BatchNorma  (None, 64, 64, 24)  96          ['block_1_project[0][0]']        \n",
            " lization)                                                                                        \n",
            "                                                                                                  \n",
            " block_2_expand (Conv2D)        (None, 64, 64, 144)  3456        ['block_1_project_BN[0][0]']     \n",
            "                                                                                                  \n",
            " block_2_expand_BN (BatchNormal  (None, 64, 64, 144)  576        ['block_2_expand[0][0]']         \n",
            " ization)                                                                                         \n",
            "                                                                                                  \n",
            " block_2_expand_relu (ReLU)     (None, 64, 64, 144)  0           ['block_2_expand_BN[0][0]']      \n",
            "                                                                                                  \n",
            " block_2_depthwise (DepthwiseCo  (None, 64, 64, 144)  1296       ['block_2_expand_relu[0][0]']    \n",
            " nv2D)                                                                                            \n",
            "                                                                                                  \n",
            " block_2_depthwise_BN (BatchNor  (None, 64, 64, 144)  576        ['block_2_depthwise[0][0]']      \n",
            " malization)                                                                                      \n",
            "                                                                                                  \n",
            " block_2_depthwise_relu (ReLU)  (None, 64, 64, 144)  0           ['block_2_depthwise_BN[0][0]']   \n",
            "                                                                                                  \n",
            " block_2_project (Conv2D)       (None, 64, 64, 24)   3456        ['block_2_depthwise_relu[0][0]'] \n",
            "                                                                                                  \n",
            " block_2_project_BN (BatchNorma  (None, 64, 64, 24)  96          ['block_2_project[0][0]']        \n",
            " lization)                                                                                        \n",
            "                                                                                                  \n",
            " block_2_add (Add)              (None, 64, 64, 24)   0           ['block_1_project_BN[0][0]',     \n",
            "                                                                  'block_2_project_BN[0][0]']     \n",
            "                                                                                                  \n",
            " block_3_expand (Conv2D)        (None, 64, 64, 144)  3456        ['block_2_add[0][0]']            \n",
            "                                                                                                  \n",
            " block_3_expand_BN (BatchNormal  (None, 64, 64, 144)  576        ['block_3_expand[0][0]']         \n",
            " ization)                                                                                         \n",
            "                                                                                                  \n",
            " block_3_expand_relu (ReLU)     (None, 64, 64, 144)  0           ['block_3_expand_BN[0][0]']      \n",
            "                                                                                                  \n",
            " block_3_pad (ZeroPadding2D)    (None, 65, 65, 144)  0           ['block_3_expand_relu[0][0]']    \n",
            "                                                                                                  \n",
            " block_3_depthwise (DepthwiseCo  (None, 32, 32, 144)  1296       ['block_3_pad[0][0]']            \n",
            " nv2D)                                                                                            \n",
            "                                                                                                  \n",
            " block_3_depthwise_BN (BatchNor  (None, 32, 32, 144)  576        ['block_3_depthwise[0][0]']      \n",
            " malization)                                                                                      \n",
            "                                                                                                  \n",
            " block_3_depthwise_relu (ReLU)  (None, 32, 32, 144)  0           ['block_3_depthwise_BN[0][0]']   \n",
            "                                                                                                  \n",
            " block_3_project (Conv2D)       (None, 32, 32, 32)   4608        ['block_3_depthwise_relu[0][0]'] \n",
            "                                                                                                  \n",
            " block_3_project_BN (BatchNorma  (None, 32, 32, 32)  128         ['block_3_project[0][0]']        \n",
            " lization)                                                                                        \n",
            "                                                                                                  \n",
            " block_4_expand (Conv2D)        (None, 32, 32, 192)  6144        ['block_3_project_BN[0][0]']     \n",
            "                                                                                                  \n",
            " block_4_expand_BN (BatchNormal  (None, 32, 32, 192)  768        ['block_4_expand[0][0]']         \n",
            " ization)                                                                                         \n",
            "                                                                                                  \n",
            " block_4_expand_relu (ReLU)     (None, 32, 32, 192)  0           ['block_4_expand_BN[0][0]']      \n",
            "                                                                                                  \n",
            " block_4_depthwise (DepthwiseCo  (None, 32, 32, 192)  1728       ['block_4_expand_relu[0][0]']    \n",
            " nv2D)                                                                                            \n",
            "                                                                                                  \n",
            " block_4_depthwise_BN (BatchNor  (None, 32, 32, 192)  768        ['block_4_depthwise[0][0]']      \n",
            " malization)                                                                                      \n",
            "                                                                                                  \n",
            " block_4_depthwise_relu (ReLU)  (None, 32, 32, 192)  0           ['block_4_depthwise_BN[0][0]']   \n",
            "                                                                                                  \n",
            " block_4_project (Conv2D)       (None, 32, 32, 32)   6144        ['block_4_depthwise_relu[0][0]'] \n",
            "                                                                                                  \n",
            " block_4_project_BN (BatchNorma  (None, 32, 32, 32)  128         ['block_4_project[0][0]']        \n",
            " lization)                                                                                        \n",
            "                                                                                                  \n",
            " block_4_add (Add)              (None, 32, 32, 32)   0           ['block_3_project_BN[0][0]',     \n",
            "                                                                  'block_4_project_BN[0][0]']     \n",
            "                                                                                                  \n",
            " block_5_expand (Conv2D)        (None, 32, 32, 192)  6144        ['block_4_add[0][0]']            \n",
            "                                                                                                  \n",
            " block_5_expand_BN (BatchNormal  (None, 32, 32, 192)  768        ['block_5_expand[0][0]']         \n",
            " ization)                                                                                         \n",
            "                                                                                                  \n",
            " block_5_expand_relu (ReLU)     (None, 32, 32, 192)  0           ['block_5_expand_BN[0][0]']      \n",
            "                                                                                                  \n",
            " block_5_depthwise (DepthwiseCo  (None, 32, 32, 192)  1728       ['block_5_expand_relu[0][0]']    \n",
            " nv2D)                                                                                            \n",
            "                                                                                                  \n",
            " block_5_depthwise_BN (BatchNor  (None, 32, 32, 192)  768        ['block_5_depthwise[0][0]']      \n",
            " malization)                                                                                      \n",
            "                                                                                                  \n",
            " block_5_depthwise_relu (ReLU)  (None, 32, 32, 192)  0           ['block_5_depthwise_BN[0][0]']   \n",
            "                                                                                                  \n",
            " block_5_project (Conv2D)       (None, 32, 32, 32)   6144        ['block_5_depthwise_relu[0][0]'] \n",
            "                                                                                                  \n",
            " block_5_project_BN (BatchNorma  (None, 32, 32, 32)  128         ['block_5_project[0][0]']        \n",
            " lization)                                                                                        \n",
            "                                                                                                  \n",
            " block_5_add (Add)              (None, 32, 32, 32)   0           ['block_4_add[0][0]',            \n",
            "                                                                  'block_5_project_BN[0][0]']     \n",
            "                                                                                                  \n",
            " block_6_expand (Conv2D)        (None, 32, 32, 192)  6144        ['block_5_add[0][0]']            \n",
            "                                                                                                  \n",
            " block_6_expand_BN (BatchNormal  (None, 32, 32, 192)  768        ['block_6_expand[0][0]']         \n",
            " ization)                                                                                         \n",
            "                                                                                                  \n",
            " block_6_expand_relu (ReLU)     (None, 32, 32, 192)  0           ['block_6_expand_BN[0][0]']      \n",
            "                                                                                                  \n",
            " block_6_pad (ZeroPadding2D)    (None, 33, 33, 192)  0           ['block_6_expand_relu[0][0]']    \n",
            "                                                                                                  \n",
            " block_6_depthwise (DepthwiseCo  (None, 16, 16, 192)  1728       ['block_6_pad[0][0]']            \n",
            " nv2D)                                                                                            \n",
            "                                                                                                  \n",
            " block_6_depthwise_BN (BatchNor  (None, 16, 16, 192)  768        ['block_6_depthwise[0][0]']      \n",
            " malization)                                                                                      \n",
            "                                                                                                  \n",
            " block_6_depthwise_relu (ReLU)  (None, 16, 16, 192)  0           ['block_6_depthwise_BN[0][0]']   \n",
            "                                                                                                  \n",
            " block_6_project (Conv2D)       (None, 16, 16, 64)   12288       ['block_6_depthwise_relu[0][0]'] \n",
            "                                                                                                  \n",
            " block_6_project_BN (BatchNorma  (None, 16, 16, 64)  256         ['block_6_project[0][0]']        \n",
            " lization)                                                                                        \n",
            "                                                                                                  \n",
            " block_7_expand (Conv2D)        (None, 16, 16, 384)  24576       ['block_6_project_BN[0][0]']     \n",
            "                                                                                                  \n",
            " block_7_expand_BN (BatchNormal  (None, 16, 16, 384)  1536       ['block_7_expand[0][0]']         \n",
            " ization)                                                                                         \n",
            "                                                                                                  \n",
            " block_7_expand_relu (ReLU)     (None, 16, 16, 384)  0           ['block_7_expand_BN[0][0]']      \n",
            "                                                                                                  \n",
            " block_7_depthwise (DepthwiseCo  (None, 16, 16, 384)  3456       ['block_7_expand_relu[0][0]']    \n",
            " nv2D)                                                                                            \n",
            "                                                                                                  \n",
            " block_7_depthwise_BN (BatchNor  (None, 16, 16, 384)  1536       ['block_7_depthwise[0][0]']      \n",
            " malization)                                                                                      \n",
            "                                                                                                  \n",
            " block_7_depthwise_relu (ReLU)  (None, 16, 16, 384)  0           ['block_7_depthwise_BN[0][0]']   \n",
            "                                                                                                  \n",
            " block_7_project (Conv2D)       (None, 16, 16, 64)   24576       ['block_7_depthwise_relu[0][0]'] \n",
            "                                                                                                  \n",
            " block_7_project_BN (BatchNorma  (None, 16, 16, 64)  256         ['block_7_project[0][0]']        \n",
            " lization)                                                                                        \n",
            "                                                                                                  \n",
            " block_7_add (Add)              (None, 16, 16, 64)   0           ['block_6_project_BN[0][0]',     \n",
            "                                                                  'block_7_project_BN[0][0]']     \n",
            "                                                                                                  \n",
            " block_8_expand (Conv2D)        (None, 16, 16, 384)  24576       ['block_7_add[0][0]']            \n",
            "                                                                                                  \n",
            " block_8_expand_BN (BatchNormal  (None, 16, 16, 384)  1536       ['block_8_expand[0][0]']         \n",
            " ization)                                                                                         \n",
            "                                                                                                  \n",
            " block_8_expand_relu (ReLU)     (None, 16, 16, 384)  0           ['block_8_expand_BN[0][0]']      \n",
            "                                                                                                  \n",
            " block_8_depthwise (DepthwiseCo  (None, 16, 16, 384)  3456       ['block_8_expand_relu[0][0]']    \n",
            " nv2D)                                                                                            \n",
            "                                                                                                  \n",
            " block_8_depthwise_BN (BatchNor  (None, 16, 16, 384)  1536       ['block_8_depthwise[0][0]']      \n",
            " malization)                                                                                      \n",
            "                                                                                                  \n",
            " block_8_depthwise_relu (ReLU)  (None, 16, 16, 384)  0           ['block_8_depthwise_BN[0][0]']   \n",
            "                                                                                                  \n",
            " block_8_project (Conv2D)       (None, 16, 16, 64)   24576       ['block_8_depthwise_relu[0][0]'] \n",
            "                                                                                                  \n",
            " block_8_project_BN (BatchNorma  (None, 16, 16, 64)  256         ['block_8_project[0][0]']        \n",
            " lization)                                                                                        \n",
            "                                                                                                  \n",
            " block_8_add (Add)              (None, 16, 16, 64)   0           ['block_7_add[0][0]',            \n",
            "                                                                  'block_8_project_BN[0][0]']     \n",
            "                                                                                                  \n",
            " block_9_expand (Conv2D)        (None, 16, 16, 384)  24576       ['block_8_add[0][0]']            \n",
            "                                                                                                  \n",
            " block_9_expand_BN (BatchNormal  (None, 16, 16, 384)  1536       ['block_9_expand[0][0]']         \n",
            " ization)                                                                                         \n",
            "                                                                                                  \n",
            " block_9_expand_relu (ReLU)     (None, 16, 16, 384)  0           ['block_9_expand_BN[0][0]']      \n",
            "                                                                                                  \n",
            " block_9_depthwise (DepthwiseCo  (None, 16, 16, 384)  3456       ['block_9_expand_relu[0][0]']    \n",
            " nv2D)                                                                                            \n",
            "                                                                                                  \n",
            " block_9_depthwise_BN (BatchNor  (None, 16, 16, 384)  1536       ['block_9_depthwise[0][0]']      \n",
            " malization)                                                                                      \n",
            "                                                                                                  \n",
            " block_9_depthwise_relu (ReLU)  (None, 16, 16, 384)  0           ['block_9_depthwise_BN[0][0]']   \n",
            "                                                                                                  \n",
            " block_9_project (Conv2D)       (None, 16, 16, 64)   24576       ['block_9_depthwise_relu[0][0]'] \n",
            "                                                                                                  \n",
            " block_9_project_BN (BatchNorma  (None, 16, 16, 64)  256         ['block_9_project[0][0]']        \n",
            " lization)                                                                                        \n",
            "                                                                                                  \n",
            " block_9_add (Add)              (None, 16, 16, 64)   0           ['block_8_add[0][0]',            \n",
            "                                                                  'block_9_project_BN[0][0]']     \n",
            "                                                                                                  \n",
            " block_10_expand (Conv2D)       (None, 16, 16, 384)  24576       ['block_9_add[0][0]']            \n",
            "                                                                                                  \n",
            " block_10_expand_BN (BatchNorma  (None, 16, 16, 384)  1536       ['block_10_expand[0][0]']        \n",
            " lization)                                                                                        \n",
            "                                                                                                  \n",
            " block_10_expand_relu (ReLU)    (None, 16, 16, 384)  0           ['block_10_expand_BN[0][0]']     \n",
            "                                                                                                  \n",
            " block_10_depthwise (DepthwiseC  (None, 16, 16, 384)  3456       ['block_10_expand_relu[0][0]']   \n",
            " onv2D)                                                                                           \n",
            "                                                                                                  \n",
            " block_10_depthwise_BN (BatchNo  (None, 16, 16, 384)  1536       ['block_10_depthwise[0][0]']     \n",
            " rmalization)                                                                                     \n",
            "                                                                                                  \n",
            " block_10_depthwise_relu (ReLU)  (None, 16, 16, 384)  0          ['block_10_depthwise_BN[0][0]']  \n",
            "                                                                                                  \n",
            " block_10_project (Conv2D)      (None, 16, 16, 96)   36864       ['block_10_depthwise_relu[0][0]']\n",
            "                                                                                                  \n",
            " block_10_project_BN (BatchNorm  (None, 16, 16, 96)  384         ['block_10_project[0][0]']       \n",
            " alization)                                                                                       \n",
            "                                                                                                  \n",
            " block_11_expand (Conv2D)       (None, 16, 16, 576)  55296       ['block_10_project_BN[0][0]']    \n",
            "                                                                                                  \n",
            " block_11_expand_BN (BatchNorma  (None, 16, 16, 576)  2304       ['block_11_expand[0][0]']        \n",
            " lization)                                                                                        \n",
            "                                                                                                  \n",
            " block_11_expand_relu (ReLU)    (None, 16, 16, 576)  0           ['block_11_expand_BN[0][0]']     \n",
            "                                                                                                  \n",
            " block_11_depthwise (DepthwiseC  (None, 16, 16, 576)  5184       ['block_11_expand_relu[0][0]']   \n",
            " onv2D)                                                                                           \n",
            "                                                                                                  \n",
            " block_11_depthwise_BN (BatchNo  (None, 16, 16, 576)  2304       ['block_11_depthwise[0][0]']     \n",
            " rmalization)                                                                                     \n",
            "                                                                                                  \n",
            " block_11_depthwise_relu (ReLU)  (None, 16, 16, 576)  0          ['block_11_depthwise_BN[0][0]']  \n",
            "                                                                                                  \n",
            " block_11_project (Conv2D)      (None, 16, 16, 96)   55296       ['block_11_depthwise_relu[0][0]']\n",
            "                                                                                                  \n",
            " block_11_project_BN (BatchNorm  (None, 16, 16, 96)  384         ['block_11_project[0][0]']       \n",
            " alization)                                                                                       \n",
            "                                                                                                  \n",
            " block_11_add (Add)             (None, 16, 16, 96)   0           ['block_10_project_BN[0][0]',    \n",
            "                                                                  'block_11_project_BN[0][0]']    \n",
            "                                                                                                  \n",
            " block_12_expand (Conv2D)       (None, 16, 16, 576)  55296       ['block_11_add[0][0]']           \n",
            "                                                                                                  \n",
            " block_12_expand_BN (BatchNorma  (None, 16, 16, 576)  2304       ['block_12_expand[0][0]']        \n",
            " lization)                                                                                        \n",
            "                                                                                                  \n",
            " block_12_expand_relu (ReLU)    (None, 16, 16, 576)  0           ['block_12_expand_BN[0][0]']     \n",
            "                                                                                                  \n",
            " block_12_depthwise (DepthwiseC  (None, 16, 16, 576)  5184       ['block_12_expand_relu[0][0]']   \n",
            " onv2D)                                                                                           \n",
            "                                                                                                  \n",
            " block_12_depthwise_BN (BatchNo  (None, 16, 16, 576)  2304       ['block_12_depthwise[0][0]']     \n",
            " rmalization)                                                                                     \n",
            "                                                                                                  \n",
            " block_12_depthwise_relu (ReLU)  (None, 16, 16, 576)  0          ['block_12_depthwise_BN[0][0]']  \n",
            "                                                                                                  \n",
            " block_12_project (Conv2D)      (None, 16, 16, 96)   55296       ['block_12_depthwise_relu[0][0]']\n",
            "                                                                                                  \n",
            " block_12_project_BN (BatchNorm  (None, 16, 16, 96)  384         ['block_12_project[0][0]']       \n",
            " alization)                                                                                       \n",
            "                                                                                                  \n",
            " block_12_add (Add)             (None, 16, 16, 96)   0           ['block_11_add[0][0]',           \n",
            "                                                                  'block_12_project_BN[0][0]']    \n",
            "                                                                                                  \n",
            " block_13_expand (Conv2D)       (None, 16, 16, 576)  55296       ['block_12_add[0][0]']           \n",
            "                                                                                                  \n",
            " block_13_expand_BN (BatchNorma  (None, 16, 16, 576)  2304       ['block_13_expand[0][0]']        \n",
            " lization)                                                                                        \n",
            "                                                                                                  \n",
            " block_13_expand_relu (ReLU)    (None, 16, 16, 576)  0           ['block_13_expand_BN[0][0]']     \n",
            "                                                                                                  \n",
            " block_13_pad (ZeroPadding2D)   (None, 17, 17, 576)  0           ['block_13_expand_relu[0][0]']   \n",
            "                                                                                                  \n",
            " block_13_depthwise (DepthwiseC  (None, 8, 8, 576)   5184        ['block_13_pad[0][0]']           \n",
            " onv2D)                                                                                           \n",
            "                                                                                                  \n",
            " block_13_depthwise_BN (BatchNo  (None, 8, 8, 576)   2304        ['block_13_depthwise[0][0]']     \n",
            " rmalization)                                                                                     \n",
            "                                                                                                  \n",
            " block_13_depthwise_relu (ReLU)  (None, 8, 8, 576)   0           ['block_13_depthwise_BN[0][0]']  \n",
            "                                                                                                  \n",
            " block_13_project (Conv2D)      (None, 8, 8, 160)    92160       ['block_13_depthwise_relu[0][0]']\n",
            "                                                                                                  \n",
            " block_13_project_BN (BatchNorm  (None, 8, 8, 160)   640         ['block_13_project[0][0]']       \n",
            " alization)                                                                                       \n",
            "                                                                                                  \n",
            " block_14_expand (Conv2D)       (None, 8, 8, 960)    153600      ['block_13_project_BN[0][0]']    \n",
            "                                                                                                  \n",
            " block_14_expand_BN (BatchNorma  (None, 8, 8, 960)   3840        ['block_14_expand[0][0]']        \n",
            " lization)                                                                                        \n",
            "                                                                                                  \n",
            " block_14_expand_relu (ReLU)    (None, 8, 8, 960)    0           ['block_14_expand_BN[0][0]']     \n",
            "                                                                                                  \n",
            " block_14_depthwise (DepthwiseC  (None, 8, 8, 960)   8640        ['block_14_expand_relu[0][0]']   \n",
            " onv2D)                                                                                           \n",
            "                                                                                                  \n",
            " block_14_depthwise_BN (BatchNo  (None, 8, 8, 960)   3840        ['block_14_depthwise[0][0]']     \n",
            " rmalization)                                                                                     \n",
            "                                                                                                  \n",
            " block_14_depthwise_relu (ReLU)  (None, 8, 8, 960)   0           ['block_14_depthwise_BN[0][0]']  \n",
            "                                                                                                  \n",
            " block_14_project (Conv2D)      (None, 8, 8, 160)    153600      ['block_14_depthwise_relu[0][0]']\n",
            "                                                                                                  \n",
            " block_14_project_BN (BatchNorm  (None, 8, 8, 160)   640         ['block_14_project[0][0]']       \n",
            " alization)                                                                                       \n",
            "                                                                                                  \n",
            " block_14_add (Add)             (None, 8, 8, 160)    0           ['block_13_project_BN[0][0]',    \n",
            "                                                                  'block_14_project_BN[0][0]']    \n",
            "                                                                                                  \n",
            " block_15_expand (Conv2D)       (None, 8, 8, 960)    153600      ['block_14_add[0][0]']           \n",
            "                                                                                                  \n",
            " block_15_expand_BN (BatchNorma  (None, 8, 8, 960)   3840        ['block_15_expand[0][0]']        \n",
            " lization)                                                                                        \n",
            "                                                                                                  \n",
            " block_15_expand_relu (ReLU)    (None, 8, 8, 960)    0           ['block_15_expand_BN[0][0]']     \n",
            "                                                                                                  \n",
            " block_15_depthwise (DepthwiseC  (None, 8, 8, 960)   8640        ['block_15_expand_relu[0][0]']   \n",
            " onv2D)                                                                                           \n",
            "                                                                                                  \n",
            " block_15_depthwise_BN (BatchNo  (None, 8, 8, 960)   3840        ['block_15_depthwise[0][0]']     \n",
            " rmalization)                                                                                     \n",
            "                                                                                                  \n",
            " block_15_depthwise_relu (ReLU)  (None, 8, 8, 960)   0           ['block_15_depthwise_BN[0][0]']  \n",
            "                                                                                                  \n",
            " block_15_project (Conv2D)      (None, 8, 8, 160)    153600      ['block_15_depthwise_relu[0][0]']\n",
            "                                                                                                  \n",
            " block_15_project_BN (BatchNorm  (None, 8, 8, 160)   640         ['block_15_project[0][0]']       \n",
            " alization)                                                                                       \n",
            "                                                                                                  \n",
            " block_15_add (Add)             (None, 8, 8, 160)    0           ['block_14_add[0][0]',           \n",
            "                                                                  'block_15_project_BN[0][0]']    \n",
            "                                                                                                  \n",
            " block_16_expand (Conv2D)       (None, 8, 8, 960)    153600      ['block_15_add[0][0]']           \n",
            "                                                                                                  \n",
            " block_16_expand_BN (BatchNorma  (None, 8, 8, 960)   3840        ['block_16_expand[0][0]']        \n",
            " lization)                                                                                        \n",
            "                                                                                                  \n",
            " block_16_expand_relu (ReLU)    (None, 8, 8, 960)    0           ['block_16_expand_BN[0][0]']     \n",
            "                                                                                                  \n",
            " block_16_depthwise (DepthwiseC  (None, 8, 8, 960)   8640        ['block_16_expand_relu[0][0]']   \n",
            " onv2D)                                                                                           \n",
            "                                                                                                  \n",
            " block_16_depthwise_BN (BatchNo  (None, 8, 8, 960)   3840        ['block_16_depthwise[0][0]']     \n",
            " rmalization)                                                                                     \n",
            "                                                                                                  \n",
            " block_16_depthwise_relu (ReLU)  (None, 8, 8, 960)   0           ['block_16_depthwise_BN[0][0]']  \n",
            "                                                                                                  \n",
            " block_16_project (Conv2D)      (None, 8, 8, 320)    307200      ['block_16_depthwise_relu[0][0]']\n",
            "                                                                                                  \n",
            " block_16_project_BN (BatchNorm  (None, 8, 8, 320)   1280        ['block_16_project[0][0]']       \n",
            " alization)                                                                                       \n",
            "                                                                                                  \n",
            " Conv_1 (Conv2D)                (None, 8, 8, 1280)   409600      ['block_16_project_BN[0][0]']    \n",
            "                                                                                                  \n",
            " Conv_1_bn (BatchNormalization)  (None, 8, 8, 1280)  5120        ['Conv_1[0][0]']                 \n",
            "                                                                                                  \n",
            " out_relu (ReLU)                (None, 8, 8, 1280)   0           ['Conv_1_bn[0][0]']              \n",
            "                                                                                                  \n",
            "==================================================================================================\n",
            "Total params: 2,257,984\n",
            "Trainable params: 0\n",
            "Non-trainable params: 2,257,984\n",
            "__________________________________________________________________________________________________\n",
            "Model: \"model\"\n",
            "_________________________________________________________________\n",
            " Layer (type)                Output Shape              Param #   \n",
            "=================================================================\n",
            " input_2 (InputLayer)        [(None, 256, 256, 3)]     0         \n",
            "                                                                 \n",
            " sequential_6 (Sequential)   (None, 256, 256, 3)       0         \n",
            "                                                                 \n",
            " tf.math.truediv (TFOpLambda  (None, 256, 256, 3)      0         \n",
            " )                                                               \n",
            "                                                                 \n",
            " tf.math.subtract (TFOpLambd  (None, 256, 256, 3)      0         \n",
            " a)                                                              \n",
            "                                                                 \n",
            " mobilenetv2_1.00_224 (Funct  (None, 8, 8, 1280)       2257984   \n",
            " ional)                                                          \n",
            "                                                                 \n",
            " global_average_pooling2d (G  (None, 1280)             0         \n",
            " lobalAveragePooling2D)                                          \n",
            "                                                                 \n",
            " dropout (Dropout)           (None, 1280)              0         \n",
            "                                                                 \n",
            " dense_6 (Dense)             (None, 2)                 2562      \n",
            "                                                                 \n",
            "=================================================================\n",
            "Total params: 2,260,546\n",
            "Trainable params: 2,562\n",
            "Non-trainable params: 2,257,984\n",
            "_________________________________________________________________\n",
            "17/17 [==============================] - 16s 807ms/step - loss: 0.6412 - accuracy: 0.6553\n",
            "Epoch 1/10\n",
            "149/149 [==============================] - 140s 922ms/step - loss: 0.5456 - accuracy: 0.7462 - val_loss: 0.5001 - val_accuracy: 0.7311\n",
            "Epoch 2/10\n",
            "149/149 [==============================] - 136s 917ms/step - loss: 0.4621 - accuracy: 0.7748 - val_loss: 0.4433 - val_accuracy: 0.7538\n",
            "Epoch 3/10\n",
            "149/149 [==============================] - 136s 914ms/step - loss: 0.4030 - accuracy: 0.8140 - val_loss: 0.3881 - val_accuracy: 0.8068\n",
            "Epoch 4/10\n",
            "149/149 [==============================] - 136s 914ms/step - loss: 0.3639 - accuracy: 0.8460 - val_loss: 0.3642 - val_accuracy: 0.8314\n",
            "Epoch 5/10\n",
            "149/149 [==============================] - 136s 914ms/step - loss: 0.3391 - accuracy: 0.8622 - val_loss: 0.3406 - val_accuracy: 0.8542\n",
            "Epoch 6/10\n",
            "149/149 [==============================] - 136s 916ms/step - loss: 0.3142 - accuracy: 0.8784 - val_loss: 0.3117 - val_accuracy: 0.8674\n",
            "Epoch 7/10\n",
            "149/149 [==============================] - 136s 912ms/step - loss: 0.2917 - accuracy: 0.8921 - val_loss: 0.3095 - val_accuracy: 0.8636\n",
            "Epoch 8/10\n",
            "149/149 [==============================] - 135s 909ms/step - loss: 0.2746 - accuracy: 0.9006 - val_loss: 0.2902 - val_accuracy: 0.8883\n",
            "Epoch 9/10\n",
            "149/149 [==============================] - 136s 910ms/step - loss: 0.2685 - accuracy: 0.9001 - val_loss: 0.2609 - val_accuracy: 0.9015\n",
            "Epoch 10/10\n",
            "149/149 [==============================] - 136s 913ms/step - loss: 0.2565 - accuracy: 0.9130 - val_loss: 0.2698 - val_accuracy: 0.8939\n"
          ]
        }
      ]
    },
    {
      "cell_type": "code",
      "source": [
        "acc = history.history['accuracy']\n",
        "val_acc = history.history['val_accuracy']\n",
        "\n",
        "loss = history.history['loss']\n",
        "val_loss = history.history['val_loss']\n",
        "\n",
        "plt.figure(figsize=(8, 8))\n",
        "plt.subplot(2, 1, 1)\n",
        "plt.plot(acc, label='Training Accuracy')\n",
        "plt.plot(val_acc, label='Validation Accuracy')\n",
        "plt.legend(loc='lower right')\n",
        "plt.ylabel('Accuracy')\n",
        "plt.ylim([min(plt.ylim()),1])\n",
        "plt.title('Training and Validation Accuracy')\n",
        "\n",
        "plt.subplot(2, 1, 2)\n",
        "plt.plot(loss, label='Training Loss')\n",
        "plt.plot(val_loss, label='Validation Loss')\n",
        "plt.legend(loc='upper right')\n",
        "plt.ylabel('Cross Entropy')\n",
        "plt.ylim([0,1.0])\n",
        "plt.title('Training and Validation Loss')\n",
        "plt.xlabel('epoch')\n",
        "plt.show()"
      ],
      "metadata": {
        "colab": {
          "base_uri": "https://localhost:8080/",
          "height": 513
        },
        "id": "hQwuemf4DF1j",
        "outputId": "52bb542c-c217-4733-bc99-5bdcd918754e"
      },
      "execution_count": 29,
      "outputs": [
        {
          "output_type": "display_data",
          "data": {
            "image/png": "[encoded data removed]",
            "text/plain": [
              "<Figure size 576x576 with 2 Axes>"
            ]
          },
          "metadata": {
            "needs_background": "light"
          }
        }
      ]
    },
    {
      "cell_type": "code",
      "source": [
        "pred_tl = model.predict(test_batches)\n",
        "predicted_class_indices_tl=np.argmax(pred_tl,axis=1)\n",
        "labels_tl = dict((v,k) for k,v in test_labels.items())\n",
        "predictions_tl = [labels_tl[k] for k in predicted_class_indices_tl]\n",
        "print(predicted_class_indices_tl)\n",
        "print(labels_tl)\n",
        "print(predictions_tl)\n",
        "cftl = confusion_matrix(predicted_class_indices_tl,test_batches.classes)\n",
        "print(cftl)\n",
        "\n",
        "group_names = ['True Normal','False Normal','False Pneumonia','True Pneumonia']\n",
        "group_counts = ['{0:0.0f}'.format(value) for value in\n",
        "                cftl.flatten()]\n",
        "group_percentages = ['{0:.2%}'.format(value) for value in\n",
        "                     cftl.flatten()/np.sum(cftl)]\n",
        "labels = [f'{v1}\\n{v2}\\n{v3}' for v1, v2, v3 in\n",
        "          zip(group_names,group_counts,group_percentages)]\n",
        "labels = np.asarray(labels).reshape(2,2)\n",
        "sns.heatmap(cftl, annot=labels, fmt='', cmap='Blues')"
      ],
      "metadata": {
        "colab": {
          "base_uri": "https://localhost:8080/",
          "height": 659
        },
        "id": "lewyDRPpDLMs",
        "outputId": "33ec5566-e7a4-4a33-cf95-30e6430d2143"
      },
      "execution_count": 30,
      "outputs": [
        {
          "output_type": "stream",
          "name": "stdout",
          "text": [
            "[1 0 1 1 1 1 1 1 1 1 1 1 1 1 1 1 1 1 1 1 1 1 1 1 1 1 1 0 1 1 1 1 1 1 1 1 0\n",
            " 1 0 1 1 1 1 1 1 1 0 1 1 1 1 1 1 1 0 1 1 1 1 1 1 1 1 1 1 1 1 1 1 1 1 1 1 1\n",
            " 1 1 1 1 1 1 1 1 1 1 1 1 1 1 1 1 1 1 1 1 1 1 0 1 1 1 1 1 1 1 1 1 1 1 1 1 1\n",
            " 1 1 1 1 1 1 1 1 1 1 1 0 1 1 1 1 1 1 1 1 1 1 1 1 1 1 1 1 1 1 1 1 1 1 1 1 1\n",
            " 1 1 1 1 1 1 1 1 1 1 1 1 1 1 1 1 1 1 1 1 1 1 1 1 1 1 1 1 1 1 1 1 1 1 1 1 1\n",
            " 1 1 1 1 1 1 1 1 1 1 1 1 0 1 1 1 1 1 1 1 1 1 1 1 1 1 1 1 1 1 1 1 1 1 1 1 1\n",
            " 1 0 1 1 1 1 1 1 1 1 1 1 1 1 1 0 1 1 0 1 1 1 1 1 1 1 1 1 1 1 1 1 1 1 1 1 1\n",
            " 1 1 1 1 1 1 1 1 0 1 1 1 1 1 1 1 1 1 1 1 1 1 1 1 1 1 1 1 1 1 1 1 1 1 1 1 1\n",
            " 1 1 1 1 1 1 0 0 1 1 1 1 1 1 1 1 1 1 1 1 1 1 1 1 1 1 1 1 1 1 1 1 1 0 1 1 1\n",
            " 1 1 1 1 1 1 1 0 1 1 1 1 1 1 1 1 1 1 1 1 1 1 1 1 1 1 1 1 1 1 1 1 1 1 1 1 1\n",
            " 0 1 1 1 1 0 1 1 1 1 1 1 1 1 1 1 1 1 1 1 1 1 1 1 1 1 1 1 1 1 1 1 1 1 1 1 1\n",
            " 1 1 1 1 1 1 1 1 1 1 1 1 1 1 1 1 1 1 1 1 1 1 1 1 0 1 1 1 1 1 1 1 1 1 1 1 1\n",
            " 1 1 1 1 1 1 1 1 1 1 1 1 0 1 1 1 1 1 1 1 1 1 1 1 1 1 1 1 0 1 1 1 1 1 1 1 1\n",
            " 1 1 1 1 1 1 1 0 1 1 1 1 1 1 1 1 1 1 1 1 0 1 1 1 1 1 1 1 1 1 1 1 0 1 1 1 1\n",
            " 1 1 1 1 1 1 0 1 1 1 1 1 0 1 1 1 1 1 1 1 1 1 1 1 1 1 0 0 1 1 1 1 1 1 1 1 1\n",
            " 1 1 1 1 1 0 0 1 1 1 1 1 1 1 1 0 1 1 0 1 1 1 1 1 1 1 0 1 1 1 1 1 1 1 1 1 1\n",
            " 1 1 0 1 1 1 1 1 1 1 1 1 1 1 1 1 1 1 0 1 1 1 1 1 1 1 1 1 1 1 1 1]\n",
            "{0: 'Normal', 1: 'Pnemonia'}\n",
            "['Pnemonia', 'Normal', 'Pnemonia', 'Pnemonia', 'Pnemonia', 'Pnemonia', 'Pnemonia', 'Pnemonia', 'Pnemonia', 'Pnemonia', 'Pnemonia', 'Pnemonia', 'Pnemonia', 'Pnemonia', 'Pnemonia', 'Pnemonia', 'Pnemonia', 'Pnemonia', 'Pnemonia', 'Pnemonia', 'Pnemonia', 'Pnemonia', 'Pnemonia', 'Pnemonia', 'Pnemonia', 'Pnemonia', 'Pnemonia', 'Normal', 'Pnemonia', 'Pnemonia', 'Pnemonia', 'Pnemonia', 'Pnemonia', 'Pnemonia', 'Pnemonia', 'Pnemonia', 'Normal', 'Pnemonia', 'Normal', 'Pnemonia', 'Pnemonia', 'Pnemonia', 'Pnemonia', 'Pnemonia', 'Pnemonia', 'Pnemonia', 'Normal', 'Pnemonia', 'Pnemonia', 'Pnemonia', 'Pnemonia', 'Pnemonia', 'Pnemonia', 'Pnemonia', 'Normal', 'Pnemonia', 'Pnemonia', 'Pnemonia', 'Pnemonia', 'Pnemonia', 'Pnemonia', 'Pnemonia', 'Pnemonia', 'Pnemonia', 'Pnemonia', 'Pnemonia', 'Pnemonia', 'Pnemonia', 'Pnemonia', 'Pnemonia', 'Pnemonia', 'Pnemonia', 'Pnemonia', 'Pnemonia', 'Pnemonia', 'Pnemonia', 'Pnemonia', 'Pnemonia', 'Pnemonia', 'Pnemonia', 'Pnemonia', 'Pnemonia', 'Pnemonia', 'Pnemonia', 'Pnemonia', 'Pnemonia', 'Pnemonia', 'Pnemonia', 'Pnemonia', 'Pnemonia', 'Pnemonia', 'Pnemonia', 'Pnemonia', 'Pnemonia', 'Pnemonia', 'Pnemonia', 'Normal', 'Pnemonia', 'Pnemonia', 'Pnemonia', 'Pnemonia', 'Pnemonia', 'Pnemonia', 'Pnemonia', 'Pnemonia', 'Pnemonia', 'Pnemonia', 'Pnemonia', 'Pnemonia', 'Pnemonia', 'Pnemonia', 'Pnemonia', 'Pnemonia', 'Pnemonia', 'Pnemonia', 'Pnemonia', 'Pnemonia', 'Pnemonia', 'Pnemonia', 'Pnemonia', 'Pnemonia', 'Pnemonia', 'Normal', 'Pnemonia', 'Pnemonia', 'Pnemonia', 'Pnemonia', 'Pnemonia', 'Pnemonia', 'Pnemonia', 'Pnemonia', 'Pnemonia', 'Pnemonia', 'Pnemonia', 'Pnemonia', 'Pnemonia', 'Pnemonia', 'Pnemonia', 'Pnemonia', 'Pnemonia', 'Pnemonia', 'Pnemonia', 'Pnemonia', 'Pnemonia', 'Pnemonia', 'Pnemonia', 'Pnemonia', 'Pnemonia', 'Pnemonia', 'Pnemonia', 'Pnemonia', 'Pnemonia', 'Pnemonia', 'Pnemonia', 'Pnemonia', 'Pnemonia', 'Pnemonia', 'Pnemonia', 'Pnemonia', 'Pnemonia', 'Pnemonia', 'Pnemonia', 'Pnemonia', 'Pnemonia', 'Pnemonia', 'Pnemonia', 'Pnemonia', 'Pnemonia', 'Pnemonia', 'Pnemonia', 'Pnemonia', 'Pnemonia', 'Pnemonia', 'Pnemonia', 'Pnemonia', 'Pnemonia', 'Pnemonia', 'Pnemonia', 'Pnemonia', 'Pnemonia', 'Pnemonia', 'Pnemonia', 'Pnemonia', 'Pnemonia', 'Pnemonia', 'Pnemonia', 'Pnemonia', 'Pnemonia', 'Pnemonia', 'Pnemonia', 'Pnemonia', 'Pnemonia', 'Pnemonia', 'Pnemonia', 'Pnemonia', 'Pnemonia', 'Pnemonia', 'Normal', 'Pnemonia', 'Pnemonia', 'Pnemonia', 'Pnemonia', 'Pnemonia', 'Pnemonia', 'Pnemonia', 'Pnemonia', 'Pnemonia', 'Pnemonia', 'Pnemonia', 'Pnemonia', 'Pnemonia', 'Pnemonia', 'Pnemonia', 'Pnemonia', 'Pnemonia', 'Pnemonia', 'Pnemonia', 'Pnemonia', 'Pnemonia', 'Pnemonia', 'Pnemonia', 'Pnemonia', 'Pnemonia', 'Normal', 'Pnemonia', 'Pnemonia', 'Pnemonia', 'Pnemonia', 'Pnemonia', 'Pnemonia', 'Pnemonia', 'Pnemonia', 'Pnemonia', 'Pnemonia', 'Pnemonia', 'Pnemonia', 'Pnemonia', 'Normal', 'Pnemonia', 'Pnemonia', 'Normal', 'Pnemonia', 'Pnemonia', 'Pnemonia', 'Pnemonia', 'Pnemonia', 'Pnemonia', 'Pnemonia', 'Pnemonia', 'Pnemonia', 'Pnemonia', 'Pnemonia', 'Pnemonia', 'Pnemonia', 'Pnemonia', 'Pnemonia', 'Pnemonia', 'Pnemonia', 'Pnemonia', 'Pnemonia', 'Pnemonia', 'Pnemonia', 'Pnemonia', 'Pnemonia', 'Pnemonia', 'Pnemonia', 'Pnemonia', 'Normal', 'Pnemonia', 'Pnemonia', 'Pnemonia', 'Pnemonia', 'Pnemonia', 'Pnemonia', 'Pnemonia', 'Pnemonia', 'Pnemonia', 'Pnemonia', 'Pnemonia', 'Pnemonia', 'Pnemonia', 'Pnemonia', 'Pnemonia', 'Pnemonia', 'Pnemonia', 'Pnemonia', 'Pnemonia', 'Pnemonia', 'Pnemonia', 'Pnemonia', 'Pnemonia', 'Pnemonia', 'Pnemonia', 'Pnemonia', 'Pnemonia', 'Pnemonia', 'Pnemonia', 'Pnemonia', 'Pnemonia', 'Pnemonia', 'Pnemonia', 'Pnemonia', 'Normal', 'Normal', 'Pnemonia', 'Pnemonia', 'Pnemonia', 'Pnemonia', 'Pnemonia', 'Pnemonia', 'Pnemonia', 'Pnemonia', 'Pnemonia', 'Pnemonia', 'Pnemonia', 'Pnemonia', 'Pnemonia', 'Pnemonia', 'Pnemonia', 'Pnemonia', 'Pnemonia', 'Pnemonia', 'Pnemonia', 'Pnemonia', 'Pnemonia', 'Pnemonia', 'Pnemonia', 'Pnemonia', 'Pnemonia', 'Normal', 'Pnemonia', 'Pnemonia', 'Pnemonia', 'Pnemonia', 'Pnemonia', 'Pnemonia', 'Pnemonia', 'Pnemonia', 'Pnemonia', 'Pnemonia', 'Normal', 'Pnemonia', 'Pnemonia', 'Pnemonia', 'Pnemonia', 'Pnemonia', 'Pnemonia', 'Pnemonia', 'Pnemonia', 'Pnemonia', 'Pnemonia', 'Pnemonia', 'Pnemonia', 'Pnemonia', 'Pnemonia', 'Pnemonia', 'Pnemonia', 'Pnemonia', 'Pnemonia', 'Pnemonia', 'Pnemonia', 'Pnemonia', 'Pnemonia', 'Pnemonia', 'Pnemonia', 'Pnemonia', 'Pnemonia', 'Pnemonia', 'Pnemonia', 'Pnemonia', 'Normal', 'Pnemonia', 'Pnemonia', 'Pnemonia', 'Pnemonia', 'Normal', 'Pnemonia', 'Pnemonia', 'Pnemonia', 'Pnemonia', 'Pnemonia', 'Pnemonia', 'Pnemonia', 'Pnemonia', 'Pnemonia', 'Pnemonia', 'Pnemonia', 'Pnemonia', 'Pnemonia', 'Pnemonia', 'Pnemonia', 'Pnemonia', 'Pnemonia', 'Pnemonia', 'Pnemonia', 'Pnemonia', 'Pnemonia', 'Pnemonia', 'Pnemonia', 'Pnemonia', 'Pnemonia', 'Pnemonia', 'Pnemonia', 'Pnemonia', 'Pnemonia', 'Pnemonia', 'Pnemonia', 'Pnemonia', 'Pnemonia', 'Pnemonia', 'Pnemonia', 'Pnemonia', 'Pnemonia', 'Pnemonia', 'Pnemonia', 'Pnemonia', 'Pnemonia', 'Pnemonia', 'Pnemonia', 'Pnemonia', 'Pnemonia', 'Pnemonia', 'Pnemonia', 'Pnemonia', 'Pnemonia', 'Pnemonia', 'Pnemonia', 'Pnemonia', 'Pnemonia', 'Pnemonia', 'Pnemonia', 'Normal', 'Pnemonia', 'Pnemonia', 'Pnemonia', 'Pnemonia', 'Pnemonia', 'Pnemonia', 'Pnemonia', 'Pnemonia', 'Pnemonia', 'Pnemonia', 'Pnemonia', 'Pnemonia', 'Pnemonia', 'Pnemonia', 'Pnemonia', 'Pnemonia', 'Pnemonia', 'Pnemonia', 'Pnemonia', 'Pnemonia', 'Pnemonia', 'Pnemonia', 'Pnemonia', 'Pnemonia', 'Normal', 'Pnemonia', 'Pnemonia', 'Pnemonia', 'Pnemonia', 'Pnemonia', 'Pnemonia', 'Pnemonia', 'Pnemonia', 'Pnemonia', 'Pnemonia', 'Pnemonia', 'Pnemonia', 'Pnemonia', 'Pnemonia', 'Pnemonia', 'Normal', 'Pnemonia', 'Pnemonia', 'Pnemonia', 'Pnemonia', 'Pnemonia', 'Pnemonia', 'Pnemonia', 'Pnemonia', 'Pnemonia', 'Pnemonia', 'Pnemonia', 'Pnemonia', 'Pnemonia', 'Pnemonia', 'Pnemonia', 'Normal', 'Pnemonia', 'Pnemonia', 'Pnemonia', 'Pnemonia', 'Pnemonia', 'Pnemonia', 'Pnemonia', 'Pnemonia', 'Pnemonia', 'Pnemonia', 'Pnemonia', 'Pnemonia', 'Normal', 'Pnemonia', 'Pnemonia', 'Pnemonia', 'Pnemonia', 'Pnemonia', 'Pnemonia', 'Pnemonia', 'Pnemonia', 'Pnemonia', 'Pnemonia', 'Pnemonia', 'Normal', 'Pnemonia', 'Pnemonia', 'Pnemonia', 'Pnemonia', 'Pnemonia', 'Pnemonia', 'Pnemonia', 'Pnemonia', 'Pnemonia', 'Pnemonia', 'Normal', 'Pnemonia', 'Pnemonia', 'Pnemonia', 'Pnemonia', 'Pnemonia', 'Normal', 'Pnemonia', 'Pnemonia', 'Pnemonia', 'Pnemonia', 'Pnemonia', 'Pnemonia', 'Pnemonia', 'Pnemonia', 'Pnemonia', 'Pnemonia', 'Pnemonia', 'Pnemonia', 'Pnemonia', 'Normal', 'Normal', 'Pnemonia', 'Pnemonia', 'Pnemonia', 'Pnemonia', 'Pnemonia', 'Pnemonia', 'Pnemonia', 'Pnemonia', 'Pnemonia', 'Pnemonia', 'Pnemonia', 'Pnemonia', 'Pnemonia', 'Pnemonia', 'Normal', 'Normal', 'Pnemonia', 'Pnemonia', 'Pnemonia', 'Pnemonia', 'Pnemonia', 'Pnemonia', 'Pnemonia', 'Pnemonia', 'Normal', 'Pnemonia', 'Pnemonia', 'Normal', 'Pnemonia', 'Pnemonia', 'Pnemonia', 'Pnemonia', 'Pnemonia', 'Pnemonia', 'Pnemonia', 'Normal', 'Pnemonia', 'Pnemonia', 'Pnemonia', 'Pnemonia', 'Pnemonia', 'Pnemonia', 'Pnemonia', 'Pnemonia', 'Pnemonia', 'Pnemonia', 'Pnemonia', 'Pnemonia', 'Normal', 'Pnemonia', 'Pnemonia', 'Pnemonia', 'Pnemonia', 'Pnemonia', 'Pnemonia', 'Pnemonia', 'Pnemonia', 'Pnemonia', 'Pnemonia', 'Pnemonia', 'Pnemonia', 'Pnemonia', 'Pnemonia', 'Pnemonia', 'Normal', 'Pnemonia', 'Pnemonia', 'Pnemonia', 'Pnemonia', 'Pnemonia', 'Pnemonia', 'Pnemonia', 'Pnemonia', 'Pnemonia', 'Pnemonia', 'Pnemonia', 'Pnemonia', 'Pnemonia']\n",
            "[[ 10  26]\n",
            " [224 364]]\n"
          ]
        },
        {
          "output_type": "execute_result",
          "data": {
            "text/plain": [
              "<matplotlib.axes._subplots.AxesSubplot at 0x7fd1f15bd8d0>"
            ]
          },
          "metadata": {},
          "execution_count": 30
        },
        {
          "output_type": "display_data",
          "data": {
            "image/png": "[encoded data removed]",
            "text/plain": [
              "<Figure size 432x288 with 2 Axes>"
            ]
          },
          "metadata": {
            "needs_background": "light"
          }
        }
      ]
    }
  ]
}